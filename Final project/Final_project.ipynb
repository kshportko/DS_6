{
 "cells": [
  {
   "cell_type": "markdown",
   "metadata": {},
   "source": [
    "# Sales forecating"
   ]
  },
  {
   "cell_type": "markdown",
   "metadata": {},
   "source": [
    "### 1. Some descriptive statistics\n",
    "#### a. General data set overveiw\n",
    "#### b. Preliminary forecating of sales\n",
    "### 2. ABC analysis by Products\n",
    "#### a. sklearn models sales forecating\n",
    "#### b. sktime models sales forecating\n",
    "### 3. ABC analysis by Customers\n",
    "#### a. sktime models sales forecating"
   ]
  },
  {
   "cell_type": "code",
   "execution_count": null,
   "metadata": {},
   "outputs": [],
   "source": [
    "# Loading libraries and data"
   ]
  },
  {
   "cell_type": "code",
   "execution_count": 184,
   "metadata": {},
   "outputs": [],
   "source": [
    "import pandas as pd\n",
    "import numpy as np\n",
    "from datetime import datetime, date, time\n",
    "import seaborn as sns\n",
    "import matplotlib.pyplot as plt\n",
    "%matplotlib inline\n",
    "from sktime.utils.plotting import plot_series"
   ]
  },
  {
   "cell_type": "code",
   "execution_count": 185,
   "metadata": {},
   "outputs": [
    {
     "data": {
      "text/plain": [
       "(27994, 6)"
      ]
     },
     "execution_count": 185,
     "metadata": {},
     "output_type": "execute_result"
    }
   ],
   "source": [
    "df = pd.read_excel('practice.xlsx')\n",
    "df.shape"
   ]
  },
  {
   "cell_type": "markdown",
   "metadata": {},
   "source": [
    "## 1. Some descriptive statistics"
   ]
  },
  {
   "cell_type": "code",
   "execution_count": null,
   "metadata": {},
   "outputs": [],
   "source": [
    "# Structure of dataframe"
   ]
  },
  {
   "cell_type": "code",
   "execution_count": 186,
   "metadata": {},
   "outputs": [
    {
     "data": {
      "text/html": [
       "<div>\n",
       "<style scoped>\n",
       "    .dataframe tbody tr th:only-of-type {\n",
       "        vertical-align: middle;\n",
       "    }\n",
       "\n",
       "    .dataframe tbody tr th {\n",
       "        vertical-align: top;\n",
       "    }\n",
       "\n",
       "    .dataframe thead th {\n",
       "        text-align: right;\n",
       "    }\n",
       "</style>\n",
       "<table border=\"1\" class=\"dataframe\">\n",
       "  <thead>\n",
       "    <tr style=\"text-align: right;\">\n",
       "      <th></th>\n",
       "      <th>Product</th>\n",
       "      <th>Customer</th>\n",
       "      <th>Order</th>\n",
       "      <th>Qty</th>\n",
       "      <th>Sales</th>\n",
       "      <th>Period</th>\n",
       "    </tr>\n",
       "  </thead>\n",
       "  <tbody>\n",
       "    <tr>\n",
       "      <th>0</th>\n",
       "      <td>Product 1</td>\n",
       "      <td>Customer 1</td>\n",
       "      <td>78542</td>\n",
       "      <td>1</td>\n",
       "      <td>3.337209</td>\n",
       "      <td>01.07.2019 09:25:47</td>\n",
       "    </tr>\n",
       "    <tr>\n",
       "      <th>1</th>\n",
       "      <td>Product 2</td>\n",
       "      <td>Customer 2</td>\n",
       "      <td>78554</td>\n",
       "      <td>1</td>\n",
       "      <td>6.093023</td>\n",
       "      <td>02.07.2019 09:42:14</td>\n",
       "    </tr>\n",
       "    <tr>\n",
       "      <th>2</th>\n",
       "      <td>Product 3</td>\n",
       "      <td>Customer 2</td>\n",
       "      <td>78554</td>\n",
       "      <td>1</td>\n",
       "      <td>3.193023</td>\n",
       "      <td>02.07.2019 09:42:14</td>\n",
       "    </tr>\n",
       "    <tr>\n",
       "      <th>3</th>\n",
       "      <td>Product 4</td>\n",
       "      <td>Customer 2</td>\n",
       "      <td>78554</td>\n",
       "      <td>1</td>\n",
       "      <td>6.297674</td>\n",
       "      <td>02.07.2019 09:42:14</td>\n",
       "    </tr>\n",
       "    <tr>\n",
       "      <th>4</th>\n",
       "      <td>Product 5</td>\n",
       "      <td>Customer 3</td>\n",
       "      <td>78578</td>\n",
       "      <td>1</td>\n",
       "      <td>9.558140</td>\n",
       "      <td>01.07.2019 14:40:51</td>\n",
       "    </tr>\n",
       "  </tbody>\n",
       "</table>\n",
       "</div>"
      ],
      "text/plain": [
       "     Product    Customer  Order  Qty     Sales               Period\n",
       "0  Product 1  Customer 1  78542    1  3.337209  01.07.2019 09:25:47\n",
       "1  Product 2  Customer 2  78554    1  6.093023  02.07.2019 09:42:14\n",
       "2  Product 3  Customer 2  78554    1  3.193023  02.07.2019 09:42:14\n",
       "3  Product 4  Customer 2  78554    1  6.297674  02.07.2019 09:42:14\n",
       "4  Product 5  Customer 3  78578    1  9.558140  01.07.2019 14:40:51"
      ]
     },
     "execution_count": 186,
     "metadata": {},
     "output_type": "execute_result"
    }
   ],
   "source": [
    "df.head()"
   ]
  },
  {
   "cell_type": "code",
   "execution_count": null,
   "metadata": {},
   "outputs": [],
   "source": [
    "# Checking empty values"
   ]
  },
  {
   "cell_type": "code",
   "execution_count": 187,
   "metadata": {},
   "outputs": [
    {
     "data": {
      "text/plain": [
       "Product     0\n",
       "Customer    0\n",
       "Order       0\n",
       "Qty         0\n",
       "Sales       0\n",
       "Period      0\n",
       "dtype: int64"
      ]
     },
     "execution_count": 187,
     "metadata": {},
     "output_type": "execute_result"
    }
   ],
   "source": [
    "df.isnull().sum()"
   ]
  },
  {
   "cell_type": "code",
   "execution_count": null,
   "metadata": {},
   "outputs": [],
   "source": [
    "# Removing zero orders from dataframe"
   ]
  },
  {
   "cell_type": "code",
   "execution_count": 188,
   "metadata": {},
   "outputs": [
    {
     "name": "stdout",
     "output_type": "stream",
     "text": [
      "Orders with 0 quantity:  21\n"
     ]
    }
   ],
   "source": [
    "print('Orders with 0 quantity: ', df[df['Qty'] == 0].count()[0])\n",
    "df.drop(df[df['Qty'] == 0].index, inplace=True, axis=0)"
   ]
  },
  {
   "cell_type": "code",
   "execution_count": null,
   "metadata": {},
   "outputs": [],
   "source": [
    "# Converting column Period into datetime format"
   ]
  },
  {
   "cell_type": "code",
   "execution_count": 189,
   "metadata": {},
   "outputs": [
    {
     "name": "stdout",
     "output_type": "stream",
     "text": [
      "<class 'pandas.core.frame.DataFrame'>\n",
      "Int64Index: 27973 entries, 0 to 27993\n",
      "Data columns (total 6 columns):\n",
      " #   Column    Non-Null Count  Dtype         \n",
      "---  ------    --------------  -----         \n",
      " 0   Product   27973 non-null  object        \n",
      " 1   Customer  27973 non-null  object        \n",
      " 2   Order     27973 non-null  object        \n",
      " 3   Qty       27973 non-null  int64         \n",
      " 4   Sales     27973 non-null  float64       \n",
      " 5   Period    27973 non-null  datetime64[ns]\n",
      "dtypes: datetime64[ns](1), float64(1), int64(1), object(3)\n",
      "memory usage: 1.5+ MB\n"
     ]
    }
   ],
   "source": [
    "df['Period'] = pd.to_datetime(df['Period'])\n",
    "df.info()"
   ]
  },
  {
   "cell_type": "code",
   "execution_count": null,
   "metadata": {},
   "outputs": [],
   "source": [
    "# Calculation of the period of time"
   ]
  },
  {
   "cell_type": "code",
   "execution_count": 190,
   "metadata": {},
   "outputs": [
    {
     "name": "stdout",
     "output_type": "stream",
     "text": [
      "Start date:  2018-01-11 00:00:00 , End date:  2021-12-02 17:41:42\n",
      "Period of time:  3 years,  10 months,  21 days.\n"
     ]
    }
   ],
   "source": [
    "print('Start date: ', df['Period'].min(),', End date: ', df['Period'].max())\n",
    "period=df['Period'].max() - df['Period'].min()\n",
    "\n",
    "print('Period of time: ', period// np.timedelta64(1, 'Y'), 'years, ', (period % np.timedelta64(1, 'Y'))// np.timedelta64(1, 'M'), 'months, ', ((period % np.timedelta64(1, 'Y'))% np.timedelta64(1, 'M'))// np.timedelta64(1, 'D'), 'days.')"
   ]
  },
  {
   "cell_type": "markdown",
   "metadata": {},
   "source": [
    "### 1.a. General data set overveiw"
   ]
  },
  {
   "cell_type": "code",
   "execution_count": null,
   "metadata": {},
   "outputs": [],
   "source": [
    "# Calculation of the annual sum of sales"
   ]
  },
  {
   "cell_type": "code",
   "execution_count": 191,
   "metadata": {},
   "outputs": [
    {
     "data": {
      "text/plain": [
       "Period\n",
       "2018     18380.820930\n",
       "2019    218160.558140\n",
       "2020    255356.976744\n",
       "2021     29301.818605\n",
       "Name: Sales, dtype: float64"
      ]
     },
     "execution_count": 191,
     "metadata": {},
     "output_type": "execute_result"
    }
   ],
   "source": [
    "df.groupby(df['Period'].dt.year)['Sales'].sum()"
   ]
  },
  {
   "cell_type": "code",
   "execution_count": 192,
   "metadata": {
    "scrolled": true
   },
   "outputs": [
    {
     "data": {
      "text/plain": [
       "Text(0.5, 1.0, 'Annual sales')"
      ]
     },
     "execution_count": 192,
     "metadata": {},
     "output_type": "execute_result"
    },
    {
     "data": {
      "image/png": "[encoded data removed]",
      "text/plain": [
       "<Figure size 1080x288 with 1 Axes>"
      ]
     },
     "metadata": {
      "needs_background": "light"
     },
     "output_type": "display_data"
    }
   ],
   "source": [
    "fig, axs = plt.subplots(figsize=(15, 4))\n",
    "df.groupby(df[\"Period\"].dt.year)[\"Sales\"].sum().plot(kind='bar', rot=0, ax=axs, color='blue')\n",
    "plt.xlabel('Year')\n",
    "plt.ylabel('Sales, UAH')\n",
    "plt.title(\"Annual sales\")"
   ]
  },
  {
   "cell_type": "markdown",
   "metadata": {},
   "source": [
    "**Conclusion 1. Annual sales grow starting from 2018 till 2020.**"
   ]
  },
  {
   "cell_type": "code",
   "execution_count": null,
   "metadata": {},
   "outputs": [],
   "source": [
    "# As dataframe includes current year 2021, the plot above does not give us a full picture. \n",
    "# Therefore, we need to look at monthly sales, for example total sales in January each year."
   ]
  },
  {
   "cell_type": "code",
   "execution_count": 193,
   "metadata": {},
   "outputs": [
    {
     "data": {
      "text/plain": [
       "Period\n",
       "2018      550.348837\n",
       "2019    18370.146512\n",
       "2020    13297.486047\n",
       "2021    10366.723256\n",
       "Name: Sales, dtype: float64"
      ]
     },
     "execution_count": 193,
     "metadata": {},
     "output_type": "execute_result"
    }
   ],
   "source": [
    "df1 = df[df['Period'].dt.month == 1]\n",
    "df1.groupby(df['Period'].dt.year)['Sales'].sum()"
   ]
  },
  {
   "cell_type": "code",
   "execution_count": 194,
   "metadata": {},
   "outputs": [
    {
     "data": {
      "text/plain": [
       "Text(0.5, 1.0, 'January sales')"
      ]
     },
     "execution_count": 194,
     "metadata": {},
     "output_type": "execute_result"
    },
    {
     "data": {
      "image/png": "[encoded data removed]",
      "text/plain": [
       "<Figure size 1080x288 with 1 Axes>"
      ]
     },
     "metadata": {
      "needs_background": "light"
     },
     "output_type": "display_data"
    }
   ],
   "source": [
    "fig, axs = plt.subplots(figsize=(15, 4))\n",
    "df1.groupby(df[\"Period\"].dt.year)[\"Sales\"].sum().plot(kind='bar', rot=0, ax=axs, color='blue')\n",
    "plt.xlabel('Year')\n",
    "plt.ylabel('Sales, UAH')\n",
    "plt.title(\"January sales\")"
   ]
  },
  {
   "cell_type": "markdown",
   "metadata": {},
   "source": [
    "**Conclusion 2. Despite the positive trend in annual sales in 2018-2020, January sales illustrate negative trend in 2019-2021.**"
   ]
  },
  {
   "cell_type": "code",
   "execution_count": null,
   "metadata": {},
   "outputs": [],
   "source": [
    "# Analysis of the monthly sales"
   ]
  },
  {
   "cell_type": "code",
   "execution_count": 195,
   "metadata": {},
   "outputs": [
    {
     "data": {
      "text/plain": [
       "Text(0.5, 1.0, 'Total monthly sales')"
      ]
     },
     "execution_count": 195,
     "metadata": {},
     "output_type": "execute_result"
    },
    {
     "data": {
      "image/png": "[encoded data removed]",
      "text/plain": [
       "<Figure size 1080x288 with 1 Axes>"
      ]
     },
     "metadata": {
      "needs_background": "light"
     },
     "output_type": "display_data"
    }
   ],
   "source": [
    "fig, axs = plt.subplots(figsize=(15, 4))\n",
    "df.groupby(df[\"Period\"].dt.month)[\"Sales\"].sum().plot(kind='bar', rot=0, ax=axs, color='blue')\n",
    "\n",
    "plt.xlabel(\"Month\");\n",
    "plt.ylabel(\"Sales, UAH\");\n",
    "plt.title(\"Total monthly sales\")"
   ]
  },
  {
   "cell_type": "markdown",
   "metadata": {},
   "source": [
    "**Conclusion 3. We clearly observe dependence of the sales on the months**"
   ]
  },
  {
   "cell_type": "code",
   "execution_count": null,
   "metadata": {},
   "outputs": [],
   "source": [
    "# Analysis of the daily sales"
   ]
  },
  {
   "cell_type": "code",
   "execution_count": 196,
   "metadata": {
    "scrolled": true
   },
   "outputs": [
    {
     "data": {
      "text/plain": [
       "Text(0.5, 1.0, 'Total daily sales')"
      ]
     },
     "execution_count": 196,
     "metadata": {},
     "output_type": "execute_result"
    },
    {
     "data": {
      "image/png": "[encoded data removed]",
      "text/plain": [
       "<Figure size 1080x288 with 1 Axes>"
      ]
     },
     "metadata": {
      "needs_background": "light"
     },
     "output_type": "display_data"
    }
   ],
   "source": [
    "fig, axs = plt.subplots(figsize=(15, 4))\n",
    "df.groupby(df[\"Period\"].dt.dayofweek)[\"Sales\"].sum().plot(kind='bar', rot=0, ax=axs, color='blue')\n",
    "\n",
    "plt.xlabel(\"Day of week\");\n",
    "plt.ylabel(\"Sales, UAH\");\n",
    "plt.title(\"Total daily sales\")"
   ]
  },
  {
   "cell_type": "markdown",
   "metadata": {},
   "source": [
    "**Conclusion 4. At the weekends we observe lower sales than on workdays. Within the workday sales decrease from Monday to Friday**"
   ]
  },
  {
   "cell_type": "code",
   "execution_count": null,
   "metadata": {},
   "outputs": [],
   "source": [
    "# Analysis of the hourly sales"
   ]
  },
  {
   "cell_type": "code",
   "execution_count": 197,
   "metadata": {},
   "outputs": [
    {
     "data": {
      "text/plain": [
       "Text(0.5, 1.0, 'Total hourly sales')"
      ]
     },
     "execution_count": 197,
     "metadata": {},
     "output_type": "execute_result"
    },
    {
     "data": {
      "image/png": "[encoded data removed]",
      "text/plain": [
       "<Figure size 1080x288 with 1 Axes>"
      ]
     },
     "metadata": {
      "needs_background": "light"
     },
     "output_type": "display_data"
    }
   ],
   "source": [
    "fig, axs = plt.subplots(figsize=(15, 4))\n",
    "df.groupby(df[\"Period\"].dt.hour)[\"Sales\"].sum().plot(kind='bar', rot=0, ax=axs, color='blue')\n",
    "\n",
    "plt.xlabel(\"Hour\");\n",
    "plt.ylabel(\"Sales, UAH\");\n",
    "plt.title(\"Total hourly sales\")"
   ]
  },
  {
   "cell_type": "markdown",
   "metadata": {},
   "source": [
    "**Conclusion 5. The hourly sales can be divided into 3 ranges: maximum sales before the afternoon with peak at 10 a.m., afternoon with peak at 3 p.m., and almost negligible sales in the period from 7 p.m. till 7 a.m. However, there is a local peak at midnight.**"
   ]
  },
  {
   "cell_type": "markdown",
   "metadata": {},
   "source": [
    "### 1.b. Preliminary forecating of sales"
   ]
  },
  {
   "cell_type": "code",
   "execution_count": 198,
   "metadata": {},
   "outputs": [],
   "source": [
    "dff=df.copy()\n",
    "dff.drop(['Product', 'Customer', 'Order', 'Qty'], inplace=True, axis=1)\n",
    "dff = dff[dff['Period'] > '2018-12-31'] \n",
    "dff = dff[dff['Period'] < '2021-01-01'] "
   ]
  },
  {
   "cell_type": "code",
   "execution_count": 199,
   "metadata": {},
   "outputs": [
    {
     "data": {
      "text/html": [
       "<div>\n",
       "<style scoped>\n",
       "    .dataframe tbody tr th:only-of-type {\n",
       "        vertical-align: middle;\n",
       "    }\n",
       "\n",
       "    .dataframe tbody tr th {\n",
       "        vertical-align: top;\n",
       "    }\n",
       "\n",
       "    .dataframe thead th {\n",
       "        text-align: right;\n",
       "    }\n",
       "</style>\n",
       "<table border=\"1\" class=\"dataframe\">\n",
       "  <thead>\n",
       "    <tr style=\"text-align: right;\">\n",
       "      <th></th>\n",
       "      <th>Sales</th>\n",
       "      <th>Period</th>\n",
       "    </tr>\n",
       "  </thead>\n",
       "  <tbody>\n",
       "    <tr>\n",
       "      <th>0</th>\n",
       "      <td>3.337209</td>\n",
       "      <td>2019-01-01</td>\n",
       "    </tr>\n",
       "    <tr>\n",
       "      <th>1</th>\n",
       "      <td>6.093023</td>\n",
       "      <td>2019-02-01</td>\n",
       "    </tr>\n",
       "    <tr>\n",
       "      <th>2</th>\n",
       "      <td>3.193023</td>\n",
       "      <td>2019-02-01</td>\n",
       "    </tr>\n",
       "    <tr>\n",
       "      <th>3</th>\n",
       "      <td>6.297674</td>\n",
       "      <td>2019-02-01</td>\n",
       "    </tr>\n",
       "    <tr>\n",
       "      <th>4</th>\n",
       "      <td>9.558140</td>\n",
       "      <td>2019-01-01</td>\n",
       "    </tr>\n",
       "  </tbody>\n",
       "</table>\n",
       "</div>"
      ],
      "text/plain": [
       "      Sales     Period\n",
       "0  3.337209 2019-01-01\n",
       "1  6.093023 2019-02-01\n",
       "2  3.193023 2019-02-01\n",
       "3  6.297674 2019-02-01\n",
       "4  9.558140 2019-01-01"
      ]
     },
     "execution_count": 199,
     "metadata": {},
     "output_type": "execute_result"
    }
   ],
   "source": [
    "dff['Period'] = pd.to_datetime(dff['Period']).dt.strftime('%Y-%m')\n",
    "dff['Period'] = pd.to_datetime(dff['Period'])\n",
    "dff.head()"
   ]
  },
  {
   "cell_type": "code",
   "execution_count": 200,
   "metadata": {},
   "outputs": [
    {
     "data": {
      "text/html": [
       "<div>\n",
       "<style scoped>\n",
       "    .dataframe tbody tr th:only-of-type {\n",
       "        vertical-align: middle;\n",
       "    }\n",
       "\n",
       "    .dataframe tbody tr th {\n",
       "        vertical-align: top;\n",
       "    }\n",
       "\n",
       "    .dataframe thead th {\n",
       "        text-align: right;\n",
       "    }\n",
       "</style>\n",
       "<table border=\"1\" class=\"dataframe\">\n",
       "  <thead>\n",
       "    <tr style=\"text-align: right;\">\n",
       "      <th></th>\n",
       "      <th>Sales</th>\n",
       "    </tr>\n",
       "    <tr>\n",
       "      <th>Period</th>\n",
       "      <th></th>\n",
       "    </tr>\n",
       "  </thead>\n",
       "  <tbody>\n",
       "    <tr>\n",
       "      <th>2019-01</th>\n",
       "      <td>18370.146512</td>\n",
       "    </tr>\n",
       "    <tr>\n",
       "      <th>2019-02</th>\n",
       "      <td>19760.304651</td>\n",
       "    </tr>\n",
       "    <tr>\n",
       "      <th>2019-03</th>\n",
       "      <td>19532.106977</td>\n",
       "    </tr>\n",
       "    <tr>\n",
       "      <th>2019-04</th>\n",
       "      <td>18611.074419</td>\n",
       "    </tr>\n",
       "    <tr>\n",
       "      <th>2019-05</th>\n",
       "      <td>17650.555814</td>\n",
       "    </tr>\n",
       "  </tbody>\n",
       "</table>\n",
       "</div>"
      ],
      "text/plain": [
       "                Sales\n",
       "Period               \n",
       "2019-01  18370.146512\n",
       "2019-02  19760.304651\n",
       "2019-03  19532.106977\n",
       "2019-04  18611.074419\n",
       "2019-05  17650.555814"
      ]
     },
     "execution_count": 200,
     "metadata": {},
     "output_type": "execute_result"
    }
   ],
   "source": [
    "dff_ = dff.pivot_table(index=\"Period\", values=\"Sales\",  aggfunc=np.sum)\n",
    "dff_.index = dff_.index.to_period(freq='M')\n",
    "dff_.fillna(0.01, inplace=True)\n",
    "dff_.head()"
   ]
  },
  {
   "cell_type": "code",
   "execution_count": 201,
   "metadata": {},
   "outputs": [],
   "source": [
    "y1 = dff_.squeeze()"
   ]
  },
  {
   "cell_type": "code",
   "execution_count": null,
   "metadata": {},
   "outputs": [],
   "source": [
    "# now let us plot the sales vs. months"
   ]
  },
  {
   "cell_type": "code",
   "execution_count": 202,
   "metadata": {},
   "outputs": [
    {
     "data": {
      "text/plain": [
       "(<Figure size 1152x288 with 1 Axes>, <AxesSubplot:ylabel='Sales'>)"
      ]
     },
     "execution_count": 202,
     "metadata": {},
     "output_type": "execute_result"
    },
    {
     "data": {
      "image/png": "[encoded data removed]",
      "text/plain": [
       "<Figure size 1152x288 with 1 Axes>"
      ]
     },
     "metadata": {
      "needs_background": "light"
     },
     "output_type": "display_data"
    }
   ],
   "source": [
    "plot_series(y1, labels=[\"Sales\"])"
   ]
  },
  {
   "cell_type": "code",
   "execution_count": 203,
   "metadata": {},
   "outputs": [],
   "source": [
    "from sktime.forecasting.base import ForecastingHorizon\n",
    "\n",
    "from sktime.forecasting.ets import AutoETS\n",
    "from sktime.forecasting.bats import BATS"
   ]
  },
  {
   "cell_type": "code",
   "execution_count": 204,
   "metadata": {},
   "outputs": [
    {
     "data": {
      "text/plain": [
       "(<Figure size 1152x288 with 1 Axes>, <AxesSubplot:ylabel='Sales'>)"
      ]
     },
     "execution_count": 204,
     "metadata": {},
     "output_type": "execute_result"
    },
    {
     "data": {
      "image/png": "[encoded data removed]",
      "text/plain": [
       "<Figure size 1152x288 with 1 Axes>"
      ]
     },
     "metadata": {
      "needs_background": "light"
     },
     "output_type": "display_data"
    }
   ],
   "source": [
    "forecaster1 = BATS(sp=12, use_trend=True, use_box_cox=False)\n",
    "forecaster2 = AutoETS(auto=True, sp=12, n_jobs=-1)\n",
    "\n",
    "forecaster1.fit(y1)\n",
    "forecaster2.fit(y1)\n",
    "\n",
    "fh = ForecastingHorizon(y1.index, is_relative=False)\n",
    "y_pred1 = forecaster1.predict(fh)\n",
    "y_pred2 = forecaster2.predict(fh)\n",
    "\n",
    "plot_series(y1, y_pred1, y_pred2, labels=[\"Real sales\", \"BATS\", \"AutoETS\"])\n"
   ]
  },
  {
   "cell_type": "code",
   "execution_count": 205,
   "metadata": {},
   "outputs": [
    {
     "data": {
      "text/plain": [
       "(<Figure size 1152x288 with 1 Axes>, <AxesSubplot:ylabel='Sales'>)"
      ]
     },
     "execution_count": 205,
     "metadata": {},
     "output_type": "execute_result"
    },
    {
     "data": {
      "image/png": "[encoded data removed]",
      "text/plain": [
       "<Figure size 1152x288 with 1 Axes>"
      ]
     },
     "metadata": {
      "needs_background": "light"
     },
     "output_type": "display_data"
    }
   ],
   "source": [
    "fh = np.arange(0, 12)\n",
    "y_pred1 = forecaster1.predict(fh)\n",
    "y_pred2 = forecaster2.predict(fh)\n",
    "\n",
    "plot_series(y1, y_pred1, y_pred2, labels=[\"Real sales\", \"BATS\", \"AutoETS\"])"
   ]
  },
  {
   "cell_type": "markdown",
   "metadata": {},
   "source": [
    "#### Conclusion. We can see the general trend, but 2 models provide different absolute values. Let us look in more details"
   ]
  },
  {
   "cell_type": "markdown",
   "metadata": {},
   "source": [
    "## 2. ABC analysis by Products"
   ]
  },
  {
   "cell_type": "code",
   "execution_count": null,
   "metadata": {},
   "outputs": [],
   "source": [
    "# Modifying the dataset: looking at year 2020, and taking needed columns"
   ]
  },
  {
   "cell_type": "code",
   "execution_count": 206,
   "metadata": {},
   "outputs": [
    {
     "data": {
      "text/html": [
       "<div>\n",
       "<style scoped>\n",
       "    .dataframe tbody tr th:only-of-type {\n",
       "        vertical-align: middle;\n",
       "    }\n",
       "\n",
       "    .dataframe tbody tr th {\n",
       "        vertical-align: top;\n",
       "    }\n",
       "\n",
       "    .dataframe thead th {\n",
       "        text-align: right;\n",
       "    }\n",
       "</style>\n",
       "<table border=\"1\" class=\"dataframe\">\n",
       "  <thead>\n",
       "    <tr style=\"text-align: right;\">\n",
       "      <th></th>\n",
       "      <th>Product</th>\n",
       "      <th>Sales</th>\n",
       "      <th>Qty</th>\n",
       "      <th>Period</th>\n",
       "    </tr>\n",
       "  </thead>\n",
       "  <tbody>\n",
       "    <tr>\n",
       "      <th>12266</th>\n",
       "      <td>Product 1097</td>\n",
       "      <td>26.467442</td>\n",
       "      <td>1</td>\n",
       "      <td>2020-01-21 13:01:25</td>\n",
       "    </tr>\n",
       "    <tr>\n",
       "      <th>12267</th>\n",
       "      <td>Product 1098</td>\n",
       "      <td>24.246512</td>\n",
       "      <td>1</td>\n",
       "      <td>2020-01-21 13:01:25</td>\n",
       "    </tr>\n",
       "    <tr>\n",
       "      <th>12268</th>\n",
       "      <td>Product 673</td>\n",
       "      <td>71.095349</td>\n",
       "      <td>1</td>\n",
       "      <td>2020-01-21 13:01:25</td>\n",
       "    </tr>\n",
       "    <tr>\n",
       "      <th>12269</th>\n",
       "      <td>Product 699</td>\n",
       "      <td>53.583721</td>\n",
       "      <td>1</td>\n",
       "      <td>2020-01-21 13:01:25</td>\n",
       "    </tr>\n",
       "    <tr>\n",
       "      <th>12284</th>\n",
       "      <td>Product 82</td>\n",
       "      <td>209.432558</td>\n",
       "      <td>4</td>\n",
       "      <td>2020-03-03 12:05:27</td>\n",
       "    </tr>\n",
       "  </tbody>\n",
       "</table>\n",
       "</div>"
      ],
      "text/plain": [
       "            Product       Sales  Qty              Period\n",
       "12266  Product 1097   26.467442    1 2020-01-21 13:01:25\n",
       "12267  Product 1098   24.246512    1 2020-01-21 13:01:25\n",
       "12268   Product 673   71.095349    1 2020-01-21 13:01:25\n",
       "12269   Product 699   53.583721    1 2020-01-21 13:01:25\n",
       "12284    Product 82  209.432558    4 2020-03-03 12:05:27"
      ]
     },
     "execution_count": 206,
     "metadata": {},
     "output_type": "execute_result"
    }
   ],
   "source": [
    "df1 = df[df['Period'] > '2019-12-31']\n",
    "df1 = df1[df1['Period'] < '2021-01-01']\n",
    "df1 = df1[['Product', 'Sales', 'Qty', 'Period']]\n",
    "df1.head()"
   ]
  },
  {
   "cell_type": "code",
   "execution_count": null,
   "metadata": {},
   "outputs": [],
   "source": [
    "# Getting sum of sales of products and sorting them"
   ]
  },
  {
   "cell_type": "code",
   "execution_count": 207,
   "metadata": {},
   "outputs": [
    {
     "name": "stderr",
     "output_type": "stream",
     "text": [
      "<ipython-input-207-44a43ec62880>:1: FutureWarning: Indexing with multiple keys (implicitly converted to a tuple of keys) will be deprecated, use a list instead.\n",
      "  df2 = df1.groupby('Product')['Sales', 'Qty'].sum().reset_index()\n"
     ]
    },
    {
     "data": {
      "text/html": [
       "<div>\n",
       "<style scoped>\n",
       "    .dataframe tbody tr th:only-of-type {\n",
       "        vertical-align: middle;\n",
       "    }\n",
       "\n",
       "    .dataframe tbody tr th {\n",
       "        vertical-align: top;\n",
       "    }\n",
       "\n",
       "    .dataframe thead th {\n",
       "        text-align: right;\n",
       "    }\n",
       "</style>\n",
       "<table border=\"1\" class=\"dataframe\">\n",
       "  <thead>\n",
       "    <tr style=\"text-align: right;\">\n",
       "      <th></th>\n",
       "      <th>Product</th>\n",
       "      <th>Sales</th>\n",
       "      <th>Qty</th>\n",
       "    </tr>\n",
       "  </thead>\n",
       "  <tbody>\n",
       "    <tr>\n",
       "      <th>144</th>\n",
       "      <td>Product 23</td>\n",
       "      <td>23283.506977</td>\n",
       "      <td>1119</td>\n",
       "    </tr>\n",
       "    <tr>\n",
       "      <th>256</th>\n",
       "      <td>Product 58</td>\n",
       "      <td>20897.113953</td>\n",
       "      <td>1049</td>\n",
       "    </tr>\n",
       "    <tr>\n",
       "      <th>160</th>\n",
       "      <td>Product 25</td>\n",
       "      <td>17082.448837</td>\n",
       "      <td>2895</td>\n",
       "    </tr>\n",
       "    <tr>\n",
       "      <th>3</th>\n",
       "      <td>Product 101</td>\n",
       "      <td>10483.300000</td>\n",
       "      <td>505</td>\n",
       "    </tr>\n",
       "    <tr>\n",
       "      <th>290</th>\n",
       "      <td>Product 76</td>\n",
       "      <td>8474.913953</td>\n",
       "      <td>262</td>\n",
       "    </tr>\n",
       "  </tbody>\n",
       "</table>\n",
       "</div>"
      ],
      "text/plain": [
       "         Product         Sales   Qty\n",
       "144   Product 23  23283.506977  1119\n",
       "256   Product 58  20897.113953  1049\n",
       "160   Product 25  17082.448837  2895\n",
       "3    Product 101  10483.300000   505\n",
       "290   Product 76   8474.913953   262"
      ]
     },
     "execution_count": 207,
     "metadata": {},
     "output_type": "execute_result"
    }
   ],
   "source": [
    "df2 = df1.groupby('Product')['Sales', 'Qty'].sum().reset_index()\n",
    "df2.sort_values('Sales', inplace=True, ascending = False)\n",
    "df2.head()"
   ]
  },
  {
   "cell_type": "code",
   "execution_count": null,
   "metadata": {},
   "outputs": [],
   "source": [
    "# Calculating the total amount of sales"
   ]
  },
  {
   "cell_type": "code",
   "execution_count": 208,
   "metadata": {},
   "outputs": [
    {
     "data": {
      "text/plain": [
       "255367.83953488388"
      ]
     },
     "execution_count": 208,
     "metadata": {},
     "output_type": "execute_result"
    }
   ],
   "source": [
    "total_sales = df2['Sales'].sum()\n",
    "total_sales"
   ]
  },
  {
   "cell_type": "code",
   "execution_count": null,
   "metadata": {},
   "outputs": [],
   "source": [
    "# Calculating the Fraction in %"
   ]
  },
  {
   "cell_type": "code",
   "execution_count": 209,
   "metadata": {},
   "outputs": [
    {
     "data": {
      "text/html": [
       "<div>\n",
       "<style scoped>\n",
       "    .dataframe tbody tr th:only-of-type {\n",
       "        vertical-align: middle;\n",
       "    }\n",
       "\n",
       "    .dataframe tbody tr th {\n",
       "        vertical-align: top;\n",
       "    }\n",
       "\n",
       "    .dataframe thead th {\n",
       "        text-align: right;\n",
       "    }\n",
       "</style>\n",
       "<table border=\"1\" class=\"dataframe\">\n",
       "  <thead>\n",
       "    <tr style=\"text-align: right;\">\n",
       "      <th></th>\n",
       "      <th>Product</th>\n",
       "      <th>Sales</th>\n",
       "      <th>Qty</th>\n",
       "      <th>Fraction</th>\n",
       "    </tr>\n",
       "  </thead>\n",
       "  <tbody>\n",
       "    <tr>\n",
       "      <th>144</th>\n",
       "      <td>Product 23</td>\n",
       "      <td>23283.506977</td>\n",
       "      <td>1119</td>\n",
       "      <td>9.117635</td>\n",
       "    </tr>\n",
       "    <tr>\n",
       "      <th>256</th>\n",
       "      <td>Product 58</td>\n",
       "      <td>20897.113953</td>\n",
       "      <td>1049</td>\n",
       "      <td>8.183142</td>\n",
       "    </tr>\n",
       "  </tbody>\n",
       "</table>\n",
       "</div>"
      ],
      "text/plain": [
       "        Product         Sales   Qty  Fraction\n",
       "144  Product 23  23283.506977  1119  9.117635\n",
       "256  Product 58  20897.113953  1049  8.183142"
      ]
     },
     "execution_count": 209,
     "metadata": {},
     "output_type": "execute_result"
    }
   ],
   "source": [
    "df2['Fraction'] = df2['Sales']/total_sales*100\n",
    "df2.head(2)"
   ]
  },
  {
   "cell_type": "code",
   "execution_count": null,
   "metadata": {},
   "outputs": [],
   "source": [
    "# Calculating the accumullated Fraction in %"
   ]
  },
  {
   "cell_type": "code",
   "execution_count": 210,
   "metadata": {},
   "outputs": [
    {
     "data": {
      "text/html": [
       "<div>\n",
       "<style scoped>\n",
       "    .dataframe tbody tr th:only-of-type {\n",
       "        vertical-align: middle;\n",
       "    }\n",
       "\n",
       "    .dataframe tbody tr th {\n",
       "        vertical-align: top;\n",
       "    }\n",
       "\n",
       "    .dataframe thead th {\n",
       "        text-align: right;\n",
       "    }\n",
       "</style>\n",
       "<table border=\"1\" class=\"dataframe\">\n",
       "  <thead>\n",
       "    <tr style=\"text-align: right;\">\n",
       "      <th></th>\n",
       "      <th>Product</th>\n",
       "      <th>Sales</th>\n",
       "      <th>Qty</th>\n",
       "      <th>Fraction</th>\n",
       "      <th>Percent</th>\n",
       "    </tr>\n",
       "  </thead>\n",
       "  <tbody>\n",
       "    <tr>\n",
       "      <th>144</th>\n",
       "      <td>Product 23</td>\n",
       "      <td>23283.506977</td>\n",
       "      <td>1119</td>\n",
       "      <td>9.117635</td>\n",
       "      <td>9.117635</td>\n",
       "    </tr>\n",
       "    <tr>\n",
       "      <th>256</th>\n",
       "      <td>Product 58</td>\n",
       "      <td>20897.113953</td>\n",
       "      <td>1049</td>\n",
       "      <td>8.183142</td>\n",
       "      <td>17.300777</td>\n",
       "    </tr>\n",
       "  </tbody>\n",
       "</table>\n",
       "</div>"
      ],
      "text/plain": [
       "        Product         Sales   Qty  Fraction    Percent\n",
       "144  Product 23  23283.506977  1119  9.117635   9.117635\n",
       "256  Product 58  20897.113953  1049  8.183142  17.300777"
      ]
     },
     "execution_count": 210,
     "metadata": {},
     "output_type": "execute_result"
    }
   ],
   "source": [
    "df2['Percent'] = df2['Fraction'].cumsum()\n",
    "df2.head(2)"
   ]
  },
  {
   "cell_type": "code",
   "execution_count": null,
   "metadata": {},
   "outputs": [],
   "source": [
    "# Structuring the products into A,B,C categories"
   ]
  },
  {
   "cell_type": "code",
   "execution_count": 211,
   "metadata": {},
   "outputs": [
    {
     "data": {
      "text/html": [
       "<div>\n",
       "<style scoped>\n",
       "    .dataframe tbody tr th:only-of-type {\n",
       "        vertical-align: middle;\n",
       "    }\n",
       "\n",
       "    .dataframe tbody tr th {\n",
       "        vertical-align: top;\n",
       "    }\n",
       "\n",
       "    .dataframe thead th {\n",
       "        text-align: right;\n",
       "    }\n",
       "</style>\n",
       "<table border=\"1\" class=\"dataframe\">\n",
       "  <thead>\n",
       "    <tr style=\"text-align: right;\">\n",
       "      <th></th>\n",
       "      <th>Product</th>\n",
       "      <th>Sales</th>\n",
       "      <th>Qty</th>\n",
       "      <th>Fraction</th>\n",
       "      <th>Percent</th>\n",
       "      <th>ABC_category</th>\n",
       "    </tr>\n",
       "  </thead>\n",
       "  <tbody>\n",
       "    <tr>\n",
       "      <th>144</th>\n",
       "      <td>Product 23</td>\n",
       "      <td>23283.506977</td>\n",
       "      <td>1119</td>\n",
       "      <td>9.117635</td>\n",
       "      <td>9.117635</td>\n",
       "      <td>A</td>\n",
       "    </tr>\n",
       "    <tr>\n",
       "      <th>256</th>\n",
       "      <td>Product 58</td>\n",
       "      <td>20897.113953</td>\n",
       "      <td>1049</td>\n",
       "      <td>8.183142</td>\n",
       "      <td>17.300777</td>\n",
       "      <td>A</td>\n",
       "    </tr>\n",
       "    <tr>\n",
       "      <th>160</th>\n",
       "      <td>Product 25</td>\n",
       "      <td>17082.448837</td>\n",
       "      <td>2895</td>\n",
       "      <td>6.689350</td>\n",
       "      <td>23.990127</td>\n",
       "      <td>A</td>\n",
       "    </tr>\n",
       "    <tr>\n",
       "      <th>3</th>\n",
       "      <td>Product 101</td>\n",
       "      <td>10483.300000</td>\n",
       "      <td>505</td>\n",
       "      <td>4.105176</td>\n",
       "      <td>28.095304</td>\n",
       "      <td>A</td>\n",
       "    </tr>\n",
       "    <tr>\n",
       "      <th>290</th>\n",
       "      <td>Product 76</td>\n",
       "      <td>8474.913953</td>\n",
       "      <td>262</td>\n",
       "      <td>3.318708</td>\n",
       "      <td>31.414012</td>\n",
       "      <td>A</td>\n",
       "    </tr>\n",
       "  </tbody>\n",
       "</table>\n",
       "</div>"
      ],
      "text/plain": [
       "         Product         Sales   Qty  Fraction    Percent ABC_category\n",
       "144   Product 23  23283.506977  1119  9.117635   9.117635            A\n",
       "256   Product 58  20897.113953  1049  8.183142  17.300777            A\n",
       "160   Product 25  17082.448837  2895  6.689350  23.990127            A\n",
       "3    Product 101  10483.300000   505  4.105176  28.095304            A\n",
       "290   Product 76   8474.913953   262  3.318708  31.414012            A"
      ]
     },
     "execution_count": 211,
     "metadata": {},
     "output_type": "execute_result"
    }
   ],
   "source": [
    "def group(perc):\n",
    "    if perc <= 80:\n",
    "        return 'A'\n",
    "    elif perc > 80 and perc <= 95:\n",
    "        return 'B'\n",
    "    else:\n",
    "        return 'C'\n",
    "\n",
    "df2['ABC_category'] = df2['Percent'].map(group) #adding the category\n",
    "df2.head()"
   ]
  },
  {
   "cell_type": "code",
   "execution_count": null,
   "metadata": {},
   "outputs": [],
   "source": [
    "# Calculating the number of products in each category and vizualizing this distribution"
   ]
  },
  {
   "cell_type": "code",
   "execution_count": 212,
   "metadata": {},
   "outputs": [
    {
     "data": {
      "text/plain": [
       "C    199\n",
       "B     61\n",
       "A     47\n",
       "Name: ABC_category, dtype: int64"
      ]
     },
     "execution_count": 212,
     "metadata": {},
     "output_type": "execute_result"
    }
   ],
   "source": [
    "df2['ABC_category'].value_counts()"
   ]
  },
  {
   "cell_type": "code",
   "execution_count": 213,
   "metadata": {},
   "outputs": [
    {
     "data": {
      "text/plain": [
       "Text(0.5, 1.0, 'Distribution of Products by Categories')"
      ]
     },
     "execution_count": 213,
     "metadata": {},
     "output_type": "execute_result"
    },
    {
     "data": {
      "image/png": "[encoded data removed]",
      "text/plain": [
       "<Figure size 1080x216 with 1 Axes>"
      ]
     },
     "metadata": {
      "needs_background": "light"
     },
     "output_type": "display_data"
    }
   ],
   "source": [
    "df1_ = df2.groupby('ABC_category')['Product'].count().reset_index()\n",
    "plt.rcParams['figure.figsize']=(15, 3)\n",
    "sns.barplot(x = 'ABC_category', y = 'Product', data = df1_)\n",
    "plt.xlabel(\"ABC category\");\n",
    "plt.ylabel(\"Products\");\n",
    "plt.title(\"Distribution of Products by Categories\")"
   ]
  },
  {
   "cell_type": "code",
   "execution_count": null,
   "metadata": {},
   "outputs": [],
   "source": [
    "# Vizualizing the distribution of sales by categories"
   ]
  },
  {
   "cell_type": "code",
   "execution_count": 214,
   "metadata": {},
   "outputs": [
    {
     "data": {
      "text/html": [
       "<div>\n",
       "<style scoped>\n",
       "    .dataframe tbody tr th:only-of-type {\n",
       "        vertical-align: middle;\n",
       "    }\n",
       "\n",
       "    .dataframe tbody tr th {\n",
       "        vertical-align: top;\n",
       "    }\n",
       "\n",
       "    .dataframe thead th {\n",
       "        text-align: right;\n",
       "    }\n",
       "</style>\n",
       "<table border=\"1\" class=\"dataframe\">\n",
       "  <thead>\n",
       "    <tr style=\"text-align: right;\">\n",
       "      <th></th>\n",
       "      <th>ABC_category</th>\n",
       "      <th>Sales</th>\n",
       "      <th>Percent</th>\n",
       "    </tr>\n",
       "  </thead>\n",
       "  <tbody>\n",
       "    <tr>\n",
       "      <th>0</th>\n",
       "      <td>A</td>\n",
       "      <td>203449.030233</td>\n",
       "      <td>79.669010</td>\n",
       "    </tr>\n",
       "    <tr>\n",
       "      <th>1</th>\n",
       "      <td>B</td>\n",
       "      <td>39044.958140</td>\n",
       "      <td>15.289693</td>\n",
       "    </tr>\n",
       "    <tr>\n",
       "      <th>2</th>\n",
       "      <td>C</td>\n",
       "      <td>12873.851163</td>\n",
       "      <td>5.041297</td>\n",
       "    </tr>\n",
       "  </tbody>\n",
       "</table>\n",
       "</div>"
      ],
      "text/plain": [
       "  ABC_category          Sales    Percent\n",
       "0            A  203449.030233  79.669010\n",
       "1            B   39044.958140  15.289693\n",
       "2            C   12873.851163   5.041297"
      ]
     },
     "execution_count": 214,
     "metadata": {},
     "output_type": "execute_result"
    }
   ],
   "source": [
    "df1_ = df2.groupby('ABC_category')['Sales'].sum().reset_index()\n",
    "df1_['Percent']=df1_['Sales']/total_sales*100\n",
    "df1_"
   ]
  },
  {
   "cell_type": "code",
   "execution_count": 215,
   "metadata": {},
   "outputs": [
    {
     "data": {
      "text/plain": [
       "Text(0.5, 1.0, 'Distribution of Sales by Categories')"
      ]
     },
     "execution_count": 215,
     "metadata": {},
     "output_type": "execute_result"
    },
    {
     "data": {
      "image/png": "[encoded data removed]",
      "text/plain": [
       "<Figure size 1080x216 with 1 Axes>"
      ]
     },
     "metadata": {
      "needs_background": "light"
     },
     "output_type": "display_data"
    }
   ],
   "source": [
    "sns.barplot(x = 'ABC_category', y = 'Percent', data = df1_)\n",
    "plt.xlabel(\"ABC category\");\n",
    "plt.ylabel(\"Sales,%\");\n",
    "plt.title(\"Distribution of Sales by Categories\")"
   ]
  },
  {
   "cell_type": "code",
   "execution_count": null,
   "metadata": {},
   "outputs": [],
   "source": [
    "# How many Products were sold vs Category"
   ]
  },
  {
   "cell_type": "code",
   "execution_count": 216,
   "metadata": {},
   "outputs": [
    {
     "data": {
      "text/html": [
       "<div>\n",
       "<style scoped>\n",
       "    .dataframe tbody tr th:only-of-type {\n",
       "        vertical-align: middle;\n",
       "    }\n",
       "\n",
       "    .dataframe tbody tr th {\n",
       "        vertical-align: top;\n",
       "    }\n",
       "\n",
       "    .dataframe thead th {\n",
       "        text-align: right;\n",
       "    }\n",
       "</style>\n",
       "<table border=\"1\" class=\"dataframe\">\n",
       "  <thead>\n",
       "    <tr style=\"text-align: right;\">\n",
       "      <th></th>\n",
       "      <th>ABC_category</th>\n",
       "      <th>Qty</th>\n",
       "    </tr>\n",
       "  </thead>\n",
       "  <tbody>\n",
       "    <tr>\n",
       "      <th>0</th>\n",
       "      <td>A</td>\n",
       "      <td>16319</td>\n",
       "    </tr>\n",
       "    <tr>\n",
       "      <th>1</th>\n",
       "      <td>B</td>\n",
       "      <td>3270</td>\n",
       "    </tr>\n",
       "    <tr>\n",
       "      <th>2</th>\n",
       "      <td>C</td>\n",
       "      <td>1323</td>\n",
       "    </tr>\n",
       "  </tbody>\n",
       "</table>\n",
       "</div>"
      ],
      "text/plain": [
       "  ABC_category    Qty\n",
       "0            A  16319\n",
       "1            B   3270\n",
       "2            C   1323"
      ]
     },
     "execution_count": 216,
     "metadata": {},
     "output_type": "execute_result"
    }
   ],
   "source": [
    "df1_ = df2.groupby('ABC_category')['Qty'].sum().reset_index()\n",
    "df1_"
   ]
  },
  {
   "cell_type": "code",
   "execution_count": 217,
   "metadata": {},
   "outputs": [
    {
     "data": {
      "text/plain": [
       "Text(0.5, 1.0, 'Distribution of total Amount of sold items by Categories')"
      ]
     },
     "execution_count": 217,
     "metadata": {},
     "output_type": "execute_result"
    },
    {
     "data": {
      "image/png": "[encoded data removed]",
      "text/plain": [
       "<Figure size 1080x216 with 1 Axes>"
      ]
     },
     "metadata": {
      "needs_background": "light"
     },
     "output_type": "display_data"
    }
   ],
   "source": [
    "sns.barplot(x = 'ABC_category', y = 'Qty', data = df1_)\n",
    "plt.xlabel(\"ABC category\");\n",
    "plt.ylabel(\"Number of sold items\");\n",
    "plt.title(\"Distribution of total Amount of sold items by Categories\")\n"
   ]
  },
  {
   "cell_type": "markdown",
   "metadata": {},
   "source": [
    "### **ABC (Products) analysis conclusions:**"
   ]
  },
  {
   "cell_type": "markdown",
   "metadata": {},
   "source": [
    "#### 1. There are 47 products in the category A, which is 15% from the total number of products.\n",
    "#### 2. The category A provides almost 80% of annual sales, and, therefore, these products are of high importance for the company.\n",
    "#### 3. The high amount of sales in catgory A is not due to the high price of the Products, but because of high numbers of sold items.\n",
    "#### 4. We need to forecast the sales in the category A, which will be done in the next section."
   ]
  },
  {
   "cell_type": "markdown",
   "metadata": {},
   "source": [
    "### 2.a. Sklearn models sales forecating for Category A products "
   ]
  },
  {
   "cell_type": "code",
   "execution_count": null,
   "metadata": {},
   "outputs": [],
   "source": [
    "# let us consider category A in details and make forecast for sales in this category"
   ]
  },
  {
   "cell_type": "code",
   "execution_count": 218,
   "metadata": {},
   "outputs": [
    {
     "data": {
      "text/html": [
       "<div>\n",
       "<style scoped>\n",
       "    .dataframe tbody tr th:only-of-type {\n",
       "        vertical-align: middle;\n",
       "    }\n",
       "\n",
       "    .dataframe tbody tr th {\n",
       "        vertical-align: top;\n",
       "    }\n",
       "\n",
       "    .dataframe thead th {\n",
       "        text-align: right;\n",
       "    }\n",
       "</style>\n",
       "<table border=\"1\" class=\"dataframe\">\n",
       "  <thead>\n",
       "    <tr style=\"text-align: right;\">\n",
       "      <th></th>\n",
       "      <th>Product</th>\n",
       "      <th>Customer</th>\n",
       "      <th>Order</th>\n",
       "      <th>Qty</th>\n",
       "      <th>Sales</th>\n",
       "      <th>Period</th>\n",
       "      <th>ABC_category</th>\n",
       "    </tr>\n",
       "  </thead>\n",
       "  <tbody>\n",
       "    <tr>\n",
       "      <th>36</th>\n",
       "      <td>Product 2</td>\n",
       "      <td>Customer 2</td>\n",
       "      <td>78554</td>\n",
       "      <td>1</td>\n",
       "      <td>6.093023</td>\n",
       "      <td>2019-02-07 09:42:14</td>\n",
       "      <td>A</td>\n",
       "    </tr>\n",
       "    <tr>\n",
       "      <th>37</th>\n",
       "      <td>Product 2</td>\n",
       "      <td>Customer 6</td>\n",
       "      <td>78598</td>\n",
       "      <td>1</td>\n",
       "      <td>5.923256</td>\n",
       "      <td>2019-06-19 23:59:59</td>\n",
       "      <td>A</td>\n",
       "    </tr>\n",
       "    <tr>\n",
       "      <th>38</th>\n",
       "      <td>Product 2</td>\n",
       "      <td>Customer 9</td>\n",
       "      <td>78632</td>\n",
       "      <td>1</td>\n",
       "      <td>5.332558</td>\n",
       "      <td>2019-01-07 11:19:41</td>\n",
       "      <td>A</td>\n",
       "    </tr>\n",
       "    <tr>\n",
       "      <th>39</th>\n",
       "      <td>Product 2</td>\n",
       "      <td>Customer 9</td>\n",
       "      <td>78635</td>\n",
       "      <td>1</td>\n",
       "      <td>5.332558</td>\n",
       "      <td>2019-01-07 11:24:49</td>\n",
       "      <td>A</td>\n",
       "    </tr>\n",
       "    <tr>\n",
       "      <th>40</th>\n",
       "      <td>Product 2</td>\n",
       "      <td>Customer 19</td>\n",
       "      <td>78762</td>\n",
       "      <td>1</td>\n",
       "      <td>5.920930</td>\n",
       "      <td>2019-01-07 15:03:22</td>\n",
       "      <td>A</td>\n",
       "    </tr>\n",
       "  </tbody>\n",
       "</table>\n",
       "</div>"
      ],
      "text/plain": [
       "      Product     Customer  Order  Qty     Sales              Period  \\\n",
       "36  Product 2   Customer 2  78554    1  6.093023 2019-02-07 09:42:14   \n",
       "37  Product 2   Customer 6  78598    1  5.923256 2019-06-19 23:59:59   \n",
       "38  Product 2   Customer 9  78632    1  5.332558 2019-01-07 11:19:41   \n",
       "39  Product 2   Customer 9  78635    1  5.332558 2019-01-07 11:24:49   \n",
       "40  Product 2  Customer 19  78762    1  5.920930 2019-01-07 15:03:22   \n",
       "\n",
       "   ABC_category  \n",
       "36            A  \n",
       "37            A  \n",
       "38            A  \n",
       "39            A  \n",
       "40            A  "
      ]
     },
     "execution_count": 218,
     "metadata": {},
     "output_type": "execute_result"
    }
   ],
   "source": [
    "df22 = df.merge(df2[['Product', 'ABC_category']], how='inner', on='Product')\n",
    "df22=df22[df22['ABC_category']==\"A\"]\n",
    "df22 = df22[df22['Period'] < '2021-01-01']\n",
    "df22.head()"
   ]
  },
  {
   "cell_type": "code",
   "execution_count": 219,
   "metadata": {},
   "outputs": [
    {
     "name": "stdout",
     "output_type": "stream",
     "text": [
      "<class 'pandas.core.frame.DataFrame'>\n",
      "Int64Index: 20073 entries, 36 to 27762\n",
      "Data columns (total 7 columns):\n",
      " #   Column        Non-Null Count  Dtype         \n",
      "---  ------        --------------  -----         \n",
      " 0   Product       20073 non-null  object        \n",
      " 1   Customer      20073 non-null  object        \n",
      " 2   Order         20073 non-null  object        \n",
      " 3   Qty           20073 non-null  int64         \n",
      " 4   Sales         20073 non-null  float64       \n",
      " 5   Period        20073 non-null  datetime64[ns]\n",
      " 6   ABC_category  20073 non-null  object        \n",
      "dtypes: datetime64[ns](1), float64(1), int64(1), object(4)\n",
      "memory usage: 1.2+ MB\n"
     ]
    }
   ],
   "source": [
    "df22.info()"
   ]
  },
  {
   "cell_type": "code",
   "execution_count": null,
   "metadata": {},
   "outputs": [],
   "source": [
    "# the most popular Products in category A"
   ]
  },
  {
   "cell_type": "code",
   "execution_count": 220,
   "metadata": {},
   "outputs": [
    {
     "data": {
      "text/plain": [
       "Product 25       3165\n",
       "Product 3        1899\n",
       "Product 58       1257\n",
       "Product 23       1252\n",
       "Product 4         878\n",
       "Product 2         841\n",
       "Product 44        731\n",
       "Product 43        659\n",
       "Product 46        567\n",
       "Product 5         539\n",
       "Product 45        457\n",
       "Product 27        419\n",
       "Product 76        411\n",
       "Product 101       411\n",
       "Product 74        390\n",
       "Product 18        390\n",
       "Product 32        336\n",
       "Product 17        330\n",
       "Product 390       319\n",
       "Product 389       313\n",
       "Product 41        303\n",
       "Product 20        276\n",
       "Product 1974      268\n",
       "Product 19        265\n",
       "Product 2214      256\n",
       "Product 30        250\n",
       "Product 282       232\n",
       "Product 9760      226\n",
       "Product 194       213\n",
       "Product 188       206\n",
       "Product 104       199\n",
       "Product 298       190\n",
       "Product 40        180\n",
       "Product 598       179\n",
       "Product 22        157\n",
       "Product 82        152\n",
       "Product 71        152\n",
       "Product 231       149\n",
       "Product 311       135\n",
       "Product 8         114\n",
       "Product 7          99\n",
       "Product 328        80\n",
       "Product 22051      69\n",
       "Product 673        58\n",
       "Product 699        57\n",
       "Product 413        32\n",
       "Product 475        12\n",
       "Name: Product, dtype: int64"
      ]
     },
     "execution_count": 220,
     "metadata": {},
     "output_type": "execute_result"
    }
   ],
   "source": [
    "df22.Product.value_counts()"
   ]
  },
  {
   "cell_type": "code",
   "execution_count": null,
   "metadata": {},
   "outputs": [],
   "source": [
    "# we select 5 the most popular Products"
   ]
  },
  {
   "cell_type": "code",
   "execution_count": 221,
   "metadata": {},
   "outputs": [
    {
     "data": {
      "text/html": [
       "<div>\n",
       "<style scoped>\n",
       "    .dataframe tbody tr th:only-of-type {\n",
       "        vertical-align: middle;\n",
       "    }\n",
       "\n",
       "    .dataframe tbody tr th {\n",
       "        vertical-align: top;\n",
       "    }\n",
       "\n",
       "    .dataframe thead th {\n",
       "        text-align: right;\n",
       "    }\n",
       "</style>\n",
       "<table border=\"1\" class=\"dataframe\">\n",
       "  <thead>\n",
       "    <tr style=\"text-align: right;\">\n",
       "      <th></th>\n",
       "      <th>Product</th>\n",
       "      <th>Customer</th>\n",
       "      <th>Order</th>\n",
       "      <th>Qty</th>\n",
       "      <th>Sales</th>\n",
       "      <th>Period</th>\n",
       "      <th>ABC_category</th>\n",
       "    </tr>\n",
       "  </thead>\n",
       "  <tbody>\n",
       "    <tr>\n",
       "      <th>913</th>\n",
       "      <td>Product 3</td>\n",
       "      <td>Customer 2</td>\n",
       "      <td>78554</td>\n",
       "      <td>1</td>\n",
       "      <td>3.193023</td>\n",
       "      <td>2019-02-07 09:42:14</td>\n",
       "      <td>A</td>\n",
       "    </tr>\n",
       "    <tr>\n",
       "      <th>914</th>\n",
       "      <td>Product 3</td>\n",
       "      <td>Customer 6</td>\n",
       "      <td>78598</td>\n",
       "      <td>1</td>\n",
       "      <td>3.104651</td>\n",
       "      <td>2019-06-19 23:59:59</td>\n",
       "      <td>A</td>\n",
       "    </tr>\n",
       "    <tr>\n",
       "      <th>915</th>\n",
       "      <td>Product 3</td>\n",
       "      <td>Customer 9</td>\n",
       "      <td>78632</td>\n",
       "      <td>1</td>\n",
       "      <td>2.795349</td>\n",
       "      <td>2019-01-07 11:19:41</td>\n",
       "      <td>A</td>\n",
       "    </tr>\n",
       "    <tr>\n",
       "      <th>916</th>\n",
       "      <td>Product 3</td>\n",
       "      <td>Customer 9</td>\n",
       "      <td>78635</td>\n",
       "      <td>1</td>\n",
       "      <td>2.795349</td>\n",
       "      <td>2019-01-07 11:24:49</td>\n",
       "      <td>A</td>\n",
       "    </tr>\n",
       "    <tr>\n",
       "      <th>917</th>\n",
       "      <td>Product 3</td>\n",
       "      <td>Customer 10</td>\n",
       "      <td>78636</td>\n",
       "      <td>1</td>\n",
       "      <td>3.362791</td>\n",
       "      <td>2019-01-07 11:26:24</td>\n",
       "      <td>A</td>\n",
       "    </tr>\n",
       "  </tbody>\n",
       "</table>\n",
       "</div>"
      ],
      "text/plain": [
       "       Product     Customer  Order  Qty     Sales              Period  \\\n",
       "913  Product 3   Customer 2  78554    1  3.193023 2019-02-07 09:42:14   \n",
       "914  Product 3   Customer 6  78598    1  3.104651 2019-06-19 23:59:59   \n",
       "915  Product 3   Customer 9  78632    1  2.795349 2019-01-07 11:19:41   \n",
       "916  Product 3   Customer 9  78635    1  2.795349 2019-01-07 11:24:49   \n",
       "917  Product 3  Customer 10  78636    1  3.362791 2019-01-07 11:26:24   \n",
       "\n",
       "    ABC_category  \n",
       "913            A  \n",
       "914            A  \n",
       "915            A  \n",
       "916            A  \n",
       "917            A  "
      ]
     },
     "execution_count": 221,
     "metadata": {},
     "output_type": "execute_result"
    }
   ],
   "source": [
    "df22 = df22[(df22['Product'] == 'Product 25') | (df22['Product'] == 'Product 3') |\n",
    "          (df22['Product'] == 'Product 4') | (df22['Product'] == 'Product 23') | (df22['Product'] == 'Product 58')]\n",
    "df22.head()"
   ]
  },
  {
   "cell_type": "code",
   "execution_count": null,
   "metadata": {},
   "outputs": [],
   "source": [
    "# preparing the dataframe for applying the models"
   ]
  },
  {
   "cell_type": "code",
   "execution_count": 222,
   "metadata": {},
   "outputs": [
    {
     "data": {
      "text/html": [
       "<div>\n",
       "<style scoped>\n",
       "    .dataframe tbody tr th:only-of-type {\n",
       "        vertical-align: middle;\n",
       "    }\n",
       "\n",
       "    .dataframe tbody tr th {\n",
       "        vertical-align: top;\n",
       "    }\n",
       "\n",
       "    .dataframe thead th {\n",
       "        text-align: right;\n",
       "    }\n",
       "</style>\n",
       "<table border=\"1\" class=\"dataframe\">\n",
       "  <thead>\n",
       "    <tr style=\"text-align: right;\">\n",
       "      <th></th>\n",
       "      <th>Product</th>\n",
       "      <th>Sales</th>\n",
       "      <th>Period</th>\n",
       "    </tr>\n",
       "  </thead>\n",
       "  <tbody>\n",
       "    <tr>\n",
       "      <th>913</th>\n",
       "      <td>Product 3</td>\n",
       "      <td>3.193023</td>\n",
       "      <td>2019-02-01</td>\n",
       "    </tr>\n",
       "    <tr>\n",
       "      <th>914</th>\n",
       "      <td>Product 3</td>\n",
       "      <td>3.104651</td>\n",
       "      <td>2019-06-01</td>\n",
       "    </tr>\n",
       "  </tbody>\n",
       "</table>\n",
       "</div>"
      ],
      "text/plain": [
       "       Product     Sales     Period\n",
       "913  Product 3  3.193023 2019-02-01\n",
       "914  Product 3  3.104651 2019-06-01"
      ]
     },
     "execution_count": 222,
     "metadata": {},
     "output_type": "execute_result"
    }
   ],
   "source": [
    "df22['Period'] = pd.to_datetime(df22['Period']).dt.strftime('%Y-%m')\n",
    "df22['Period'] = pd.to_datetime(df22['Period'])\n",
    "\n",
    "df22.drop(['Customer', 'Order', 'Qty', 'ABC_category'], axis=1, inplace=True)\n",
    "df22.head(2)"
   ]
  },
  {
   "cell_type": "code",
   "execution_count": 223,
   "metadata": {},
   "outputs": [
    {
     "data": {
      "text/html": [
       "<div>\n",
       "<style scoped>\n",
       "    .dataframe tbody tr th:only-of-type {\n",
       "        vertical-align: middle;\n",
       "    }\n",
       "\n",
       "    .dataframe tbody tr th {\n",
       "        vertical-align: top;\n",
       "    }\n",
       "\n",
       "    .dataframe thead th {\n",
       "        text-align: right;\n",
       "    }\n",
       "</style>\n",
       "<table border=\"1\" class=\"dataframe\">\n",
       "  <thead>\n",
       "    <tr style=\"text-align: right;\">\n",
       "      <th>Product</th>\n",
       "      <th>Product 23</th>\n",
       "      <th>Product 25</th>\n",
       "      <th>Product 3</th>\n",
       "      <th>Product 4</th>\n",
       "      <th>Product 58</th>\n",
       "    </tr>\n",
       "    <tr>\n",
       "      <th>Period</th>\n",
       "      <th></th>\n",
       "      <th></th>\n",
       "      <th></th>\n",
       "      <th></th>\n",
       "      <th></th>\n",
       "    </tr>\n",
       "  </thead>\n",
       "  <tbody>\n",
       "    <tr>\n",
       "      <th>2018-01-01</th>\n",
       "      <td>125.965116</td>\n",
       "      <td>52.979070</td>\n",
       "      <td>5.897674</td>\n",
       "      <td>5.811628</td>\n",
       "      <td>57.332558</td>\n",
       "    </tr>\n",
       "    <tr>\n",
       "      <th>2018-02-01</th>\n",
       "      <td>45.641860</td>\n",
       "      <td>44.148837</td>\n",
       "      <td>12.888372</td>\n",
       "      <td>12.558140</td>\n",
       "      <td>81.393023</td>\n",
       "    </tr>\n",
       "    <tr>\n",
       "      <th>2018-03-01</th>\n",
       "      <td>NaN</td>\n",
       "      <td>27.151163</td>\n",
       "      <td>6.225581</td>\n",
       "      <td>12.269767</td>\n",
       "      <td>78.420930</td>\n",
       "    </tr>\n",
       "    <tr>\n",
       "      <th>2018-04-01</th>\n",
       "      <td>47.306977</td>\n",
       "      <td>5.809302</td>\n",
       "      <td>6.555814</td>\n",
       "      <td>NaN</td>\n",
       "      <td>21.195349</td>\n",
       "    </tr>\n",
       "    <tr>\n",
       "      <th>2018-05-01</th>\n",
       "      <td>126.316279</td>\n",
       "      <td>92.206977</td>\n",
       "      <td>36.158140</td>\n",
       "      <td>23.506977</td>\n",
       "      <td>190.160465</td>\n",
       "    </tr>\n",
       "  </tbody>\n",
       "</table>\n",
       "</div>"
      ],
      "text/plain": [
       "Product     Product 23  Product 25  Product 3  Product 4  Product 58\n",
       "Period                                                              \n",
       "2018-01-01  125.965116   52.979070   5.897674   5.811628   57.332558\n",
       "2018-02-01   45.641860   44.148837  12.888372  12.558140   81.393023\n",
       "2018-03-01         NaN   27.151163   6.225581  12.269767   78.420930\n",
       "2018-04-01   47.306977    5.809302   6.555814        NaN   21.195349\n",
       "2018-05-01  126.316279   92.206977  36.158140  23.506977  190.160465"
      ]
     },
     "execution_count": 223,
     "metadata": {},
     "output_type": "execute_result"
    }
   ],
   "source": [
    "df2_ = df22.pivot_table(index=\"Period\", columns=\"Product\", values=\"Sales\", aggfunc=np.sum)\n",
    "df2_.head()"
   ]
  },
  {
   "cell_type": "code",
   "execution_count": 224,
   "metadata": {},
   "outputs": [
    {
     "data": {
      "text/html": [
       "<div>\n",
       "<style scoped>\n",
       "    .dataframe tbody tr th:only-of-type {\n",
       "        vertical-align: middle;\n",
       "    }\n",
       "\n",
       "    .dataframe tbody tr th {\n",
       "        vertical-align: top;\n",
       "    }\n",
       "\n",
       "    .dataframe thead th {\n",
       "        text-align: right;\n",
       "    }\n",
       "</style>\n",
       "<table border=\"1\" class=\"dataframe\">\n",
       "  <thead>\n",
       "    <tr style=\"text-align: right;\">\n",
       "      <th></th>\n",
       "      <th>index</th>\n",
       "      <th>Product 23</th>\n",
       "      <th>Product 25</th>\n",
       "      <th>Product 3</th>\n",
       "      <th>Product 4</th>\n",
       "      <th>Product 58</th>\n",
       "    </tr>\n",
       "  </thead>\n",
       "  <tbody>\n",
       "    <tr>\n",
       "      <th>0</th>\n",
       "      <td>2018-01-01</td>\n",
       "      <td>125.965116</td>\n",
       "      <td>52.979070</td>\n",
       "      <td>5.897674</td>\n",
       "      <td>5.811628</td>\n",
       "      <td>57.332558</td>\n",
       "    </tr>\n",
       "    <tr>\n",
       "      <th>1</th>\n",
       "      <td>2018-02-01</td>\n",
       "      <td>45.641860</td>\n",
       "      <td>44.148837</td>\n",
       "      <td>12.888372</td>\n",
       "      <td>12.558140</td>\n",
       "      <td>81.393023</td>\n",
       "    </tr>\n",
       "    <tr>\n",
       "      <th>2</th>\n",
       "      <td>2018-03-01</td>\n",
       "      <td>0.000000</td>\n",
       "      <td>27.151163</td>\n",
       "      <td>6.225581</td>\n",
       "      <td>12.269767</td>\n",
       "      <td>78.420930</td>\n",
       "    </tr>\n",
       "    <tr>\n",
       "      <th>3</th>\n",
       "      <td>2018-04-01</td>\n",
       "      <td>47.306977</td>\n",
       "      <td>5.809302</td>\n",
       "      <td>6.555814</td>\n",
       "      <td>0.000000</td>\n",
       "      <td>21.195349</td>\n",
       "    </tr>\n",
       "    <tr>\n",
       "      <th>4</th>\n",
       "      <td>2018-05-01</td>\n",
       "      <td>126.316279</td>\n",
       "      <td>92.206977</td>\n",
       "      <td>36.158140</td>\n",
       "      <td>23.506977</td>\n",
       "      <td>190.160465</td>\n",
       "    </tr>\n",
       "  </tbody>\n",
       "</table>\n",
       "</div>"
      ],
      "text/plain": [
       "       index  Product 23  Product 25  Product 3  Product 4  Product 58\n",
       "0 2018-01-01  125.965116   52.979070   5.897674   5.811628   57.332558\n",
       "1 2018-02-01   45.641860   44.148837  12.888372  12.558140   81.393023\n",
       "2 2018-03-01    0.000000   27.151163   6.225581  12.269767   78.420930\n",
       "3 2018-04-01   47.306977    5.809302   6.555814   0.000000   21.195349\n",
       "4 2018-05-01  126.316279   92.206977  36.158140  23.506977  190.160465"
      ]
     },
     "execution_count": 224,
     "metadata": {},
     "output_type": "execute_result"
    }
   ],
   "source": [
    "df3 = df2_.rename_axis(None)\n",
    "df3.columns.name = None\n",
    "df3.reset_index(inplace=True)\n",
    "df3.fillna(0.0, inplace=True)\n",
    "df3.head()"
   ]
  },
  {
   "cell_type": "code",
   "execution_count": 225,
   "metadata": {},
   "outputs": [
    {
     "data": {
      "text/html": [
       "<div>\n",
       "<style scoped>\n",
       "    .dataframe tbody tr th:only-of-type {\n",
       "        vertical-align: middle;\n",
       "    }\n",
       "\n",
       "    .dataframe tbody tr th {\n",
       "        vertical-align: top;\n",
       "    }\n",
       "\n",
       "    .dataframe thead th {\n",
       "        text-align: right;\n",
       "    }\n",
       "</style>\n",
       "<table border=\"1\" class=\"dataframe\">\n",
       "  <thead>\n",
       "    <tr style=\"text-align: right;\">\n",
       "      <th></th>\n",
       "      <th>index</th>\n",
       "      <th>Product 23</th>\n",
       "      <th>Product 25</th>\n",
       "      <th>Product 3</th>\n",
       "      <th>Product 4</th>\n",
       "      <th>Product 58</th>\n",
       "    </tr>\n",
       "  </thead>\n",
       "  <tbody>\n",
       "    <tr>\n",
       "      <th>24</th>\n",
       "      <td>2021-01-01</td>\n",
       "      <td>NaN</td>\n",
       "      <td>NaN</td>\n",
       "      <td>NaN</td>\n",
       "      <td>NaN</td>\n",
       "      <td>NaN</td>\n",
       "    </tr>\n",
       "    <tr>\n",
       "      <th>25</th>\n",
       "      <td>2021-02-01</td>\n",
       "      <td>NaN</td>\n",
       "      <td>NaN</td>\n",
       "      <td>NaN</td>\n",
       "      <td>NaN</td>\n",
       "      <td>NaN</td>\n",
       "    </tr>\n",
       "    <tr>\n",
       "      <th>26</th>\n",
       "      <td>2021-03-01</td>\n",
       "      <td>NaN</td>\n",
       "      <td>NaN</td>\n",
       "      <td>NaN</td>\n",
       "      <td>NaN</td>\n",
       "      <td>NaN</td>\n",
       "    </tr>\n",
       "    <tr>\n",
       "      <th>27</th>\n",
       "      <td>2021-04-01</td>\n",
       "      <td>NaN</td>\n",
       "      <td>NaN</td>\n",
       "      <td>NaN</td>\n",
       "      <td>NaN</td>\n",
       "      <td>NaN</td>\n",
       "    </tr>\n",
       "    <tr>\n",
       "      <th>28</th>\n",
       "      <td>2021-05-01</td>\n",
       "      <td>NaN</td>\n",
       "      <td>NaN</td>\n",
       "      <td>NaN</td>\n",
       "      <td>NaN</td>\n",
       "      <td>NaN</td>\n",
       "    </tr>\n",
       "  </tbody>\n",
       "</table>\n",
       "</div>"
      ],
      "text/plain": [
       "        index  Product 23  Product 25  Product 3  Product 4  Product 58\n",
       "24 2021-01-01         NaN         NaN        NaN        NaN         NaN\n",
       "25 2021-02-01         NaN         NaN        NaN        NaN         NaN\n",
       "26 2021-03-01         NaN         NaN        NaN        NaN         NaN\n",
       "27 2021-04-01         NaN         NaN        NaN        NaN         NaN\n",
       "28 2021-05-01         NaN         NaN        NaN        NaN         NaN"
      ]
     },
     "execution_count": 225,
     "metadata": {},
     "output_type": "execute_result"
    }
   ],
   "source": [
    "df4 = df3.copy()\n",
    "df4 = df4.iloc[-12:, :]\n",
    "df4.loc[:, ['Product 23', 'Product 25', 'Product 3', 'Product 4', 'Product 58']] = np.nan\n",
    "\n",
    "def repl(string):\n",
    "    new_date = string.replace('2020','2021')\n",
    "    return new_date\n",
    "\n",
    "df4['index'] = df4['index'].dt.strftime('%Y-%m-%d').map(repl)\n",
    "df4['index'] = pd.to_datetime(df4['index'])\n",
    "\n",
    "df4.head()"
   ]
  },
  {
   "cell_type": "code",
   "execution_count": 226,
   "metadata": {},
   "outputs": [
    {
     "data": {
      "text/html": [
       "<div>\n",
       "<style scoped>\n",
       "    .dataframe tbody tr th:only-of-type {\n",
       "        vertical-align: middle;\n",
       "    }\n",
       "\n",
       "    .dataframe tbody tr th {\n",
       "        vertical-align: top;\n",
       "    }\n",
       "\n",
       "    .dataframe thead th {\n",
       "        text-align: right;\n",
       "    }\n",
       "</style>\n",
       "<table border=\"1\" class=\"dataframe\">\n",
       "  <thead>\n",
       "    <tr style=\"text-align: right;\">\n",
       "      <th></th>\n",
       "      <th>index</th>\n",
       "      <th>Product 23</th>\n",
       "      <th>Product 25</th>\n",
       "      <th>Product 3</th>\n",
       "      <th>Product 4</th>\n",
       "      <th>Product 58</th>\n",
       "    </tr>\n",
       "  </thead>\n",
       "  <tbody>\n",
       "    <tr>\n",
       "      <th>0</th>\n",
       "      <td>2018-01-01</td>\n",
       "      <td>125.965116</td>\n",
       "      <td>52.979070</td>\n",
       "      <td>5.897674</td>\n",
       "      <td>5.811628</td>\n",
       "      <td>57.332558</td>\n",
       "    </tr>\n",
       "    <tr>\n",
       "      <th>1</th>\n",
       "      <td>2018-02-01</td>\n",
       "      <td>45.641860</td>\n",
       "      <td>44.148837</td>\n",
       "      <td>12.888372</td>\n",
       "      <td>12.558140</td>\n",
       "      <td>81.393023</td>\n",
       "    </tr>\n",
       "    <tr>\n",
       "      <th>2</th>\n",
       "      <td>2018-03-01</td>\n",
       "      <td>0.000000</td>\n",
       "      <td>27.151163</td>\n",
       "      <td>6.225581</td>\n",
       "      <td>12.269767</td>\n",
       "      <td>78.420930</td>\n",
       "    </tr>\n",
       "    <tr>\n",
       "      <th>3</th>\n",
       "      <td>2018-04-01</td>\n",
       "      <td>47.306977</td>\n",
       "      <td>5.809302</td>\n",
       "      <td>6.555814</td>\n",
       "      <td>0.000000</td>\n",
       "      <td>21.195349</td>\n",
       "    </tr>\n",
       "    <tr>\n",
       "      <th>4</th>\n",
       "      <td>2018-05-01</td>\n",
       "      <td>126.316279</td>\n",
       "      <td>92.206977</td>\n",
       "      <td>36.158140</td>\n",
       "      <td>23.506977</td>\n",
       "      <td>190.160465</td>\n",
       "    </tr>\n",
       "  </tbody>\n",
       "</table>\n",
       "</div>"
      ],
      "text/plain": [
       "       index  Product 23  Product 25  Product 3  Product 4  Product 58\n",
       "0 2018-01-01  125.965116   52.979070   5.897674   5.811628   57.332558\n",
       "1 2018-02-01   45.641860   44.148837  12.888372  12.558140   81.393023\n",
       "2 2018-03-01    0.000000   27.151163   6.225581  12.269767   78.420930\n",
       "3 2018-04-01   47.306977    5.809302   6.555814   0.000000   21.195349\n",
       "4 2018-05-01  126.316279   92.206977  36.158140  23.506977  190.160465"
      ]
     },
     "execution_count": 226,
     "metadata": {},
     "output_type": "execute_result"
    }
   ],
   "source": [
    "df3 = df3.append(df4)\n",
    "df3.reset_index(inplace=True)\n",
    "df3.drop('level_0', axis=1, inplace=True)\n",
    "df3.head()"
   ]
  },
  {
   "cell_type": "code",
   "execution_count": 227,
   "metadata": {},
   "outputs": [],
   "source": [
    "df5 = df3.copy()\n",
    "df5['month_num'] = range(1, len(df5) + 1)"
   ]
  },
  {
   "cell_type": "code",
   "execution_count": 228,
   "metadata": {},
   "outputs": [
    {
     "data": {
      "text/html": [
       "<div>\n",
       "<style scoped>\n",
       "    .dataframe tbody tr th:only-of-type {\n",
       "        vertical-align: middle;\n",
       "    }\n",
       "\n",
       "    .dataframe tbody tr th {\n",
       "        vertical-align: top;\n",
       "    }\n",
       "\n",
       "    .dataframe thead th {\n",
       "        text-align: right;\n",
       "    }\n",
       "</style>\n",
       "<table border=\"1\" class=\"dataframe\">\n",
       "  <thead>\n",
       "    <tr style=\"text-align: right;\">\n",
       "      <th></th>\n",
       "      <th>Product 23</th>\n",
       "      <th>Product 25</th>\n",
       "      <th>Product 3</th>\n",
       "      <th>Product 4</th>\n",
       "      <th>Product 58</th>\n",
       "      <th>month_num</th>\n",
       "      <th>Year</th>\n",
       "      <th>Month</th>\n",
       "    </tr>\n",
       "  </thead>\n",
       "  <tbody>\n",
       "    <tr>\n",
       "      <th>0</th>\n",
       "      <td>125.965116</td>\n",
       "      <td>52.979070</td>\n",
       "      <td>5.897674</td>\n",
       "      <td>5.811628</td>\n",
       "      <td>57.332558</td>\n",
       "      <td>1</td>\n",
       "      <td>2018</td>\n",
       "      <td>1</td>\n",
       "    </tr>\n",
       "    <tr>\n",
       "      <th>1</th>\n",
       "      <td>45.641860</td>\n",
       "      <td>44.148837</td>\n",
       "      <td>12.888372</td>\n",
       "      <td>12.558140</td>\n",
       "      <td>81.393023</td>\n",
       "      <td>2</td>\n",
       "      <td>2018</td>\n",
       "      <td>2</td>\n",
       "    </tr>\n",
       "  </tbody>\n",
       "</table>\n",
       "</div>"
      ],
      "text/plain": [
       "   Product 23  Product 25  Product 3  Product 4  Product 58  month_num  Year  \\\n",
       "0  125.965116   52.979070   5.897674   5.811628   57.332558          1  2018   \n",
       "1   45.641860   44.148837  12.888372  12.558140   81.393023          2  2018   \n",
       "\n",
       "   Month  \n",
       "0      1  \n",
       "1      2  "
      ]
     },
     "execution_count": 228,
     "metadata": {},
     "output_type": "execute_result"
    }
   ],
   "source": [
    "df5['Year'] = df5[\"index\"].dt.year\n",
    "df5['Month'] = df5[\"index\"].dt.month\n",
    "df5.drop('index', axis=1, inplace=True)\n",
    "df5.head(2)"
   ]
  },
  {
   "cell_type": "code",
   "execution_count": 229,
   "metadata": {},
   "outputs": [
    {
     "data": {
      "text/html": [
       "<div>\n",
       "<style scoped>\n",
       "    .dataframe tbody tr th:only-of-type {\n",
       "        vertical-align: middle;\n",
       "    }\n",
       "\n",
       "    .dataframe tbody tr th {\n",
       "        vertical-align: top;\n",
       "    }\n",
       "\n",
       "    .dataframe thead th {\n",
       "        text-align: right;\n",
       "    }\n",
       "</style>\n",
       "<table border=\"1\" class=\"dataframe\">\n",
       "  <thead>\n",
       "    <tr style=\"text-align: right;\">\n",
       "      <th></th>\n",
       "      <th>Product 23</th>\n",
       "      <th>Product 25</th>\n",
       "      <th>Product 3</th>\n",
       "      <th>Product 4</th>\n",
       "      <th>Product 58</th>\n",
       "      <th>month_num</th>\n",
       "      <th>2019</th>\n",
       "      <th>2020</th>\n",
       "      <th>2021</th>\n",
       "      <th>2</th>\n",
       "      <th>3</th>\n",
       "      <th>4</th>\n",
       "      <th>5</th>\n",
       "      <th>6</th>\n",
       "      <th>7</th>\n",
       "      <th>8</th>\n",
       "      <th>9</th>\n",
       "      <th>10</th>\n",
       "      <th>11</th>\n",
       "      <th>12</th>\n",
       "    </tr>\n",
       "  </thead>\n",
       "  <tbody>\n",
       "    <tr>\n",
       "      <th>0</th>\n",
       "      <td>125.965116</td>\n",
       "      <td>52.979070</td>\n",
       "      <td>5.897674</td>\n",
       "      <td>5.811628</td>\n",
       "      <td>57.332558</td>\n",
       "      <td>1</td>\n",
       "      <td>0</td>\n",
       "      <td>0</td>\n",
       "      <td>0</td>\n",
       "      <td>0</td>\n",
       "      <td>0</td>\n",
       "      <td>0</td>\n",
       "      <td>0</td>\n",
       "      <td>0</td>\n",
       "      <td>0</td>\n",
       "      <td>0</td>\n",
       "      <td>0</td>\n",
       "      <td>0</td>\n",
       "      <td>0</td>\n",
       "      <td>0</td>\n",
       "    </tr>\n",
       "    <tr>\n",
       "      <th>1</th>\n",
       "      <td>45.641860</td>\n",
       "      <td>44.148837</td>\n",
       "      <td>12.888372</td>\n",
       "      <td>12.558140</td>\n",
       "      <td>81.393023</td>\n",
       "      <td>2</td>\n",
       "      <td>0</td>\n",
       "      <td>0</td>\n",
       "      <td>0</td>\n",
       "      <td>1</td>\n",
       "      <td>0</td>\n",
       "      <td>0</td>\n",
       "      <td>0</td>\n",
       "      <td>0</td>\n",
       "      <td>0</td>\n",
       "      <td>0</td>\n",
       "      <td>0</td>\n",
       "      <td>0</td>\n",
       "      <td>0</td>\n",
       "      <td>0</td>\n",
       "    </tr>\n",
       "  </tbody>\n",
       "</table>\n",
       "</div>"
      ],
      "text/plain": [
       "   Product 23  Product 25  Product 3  Product 4  Product 58  month_num  2019  \\\n",
       "0  125.965116   52.979070   5.897674   5.811628   57.332558          1     0   \n",
       "1   45.641860   44.148837  12.888372  12.558140   81.393023          2     0   \n",
       "\n",
       "   2020  2021  2  3  4  5  6  7  8  9  10  11  12  \n",
       "0     0     0  0  0  0  0  0  0  0  0   0   0   0  \n",
       "1     0     0  1  0  0  0  0  0  0  0   0   0   0  "
      ]
     },
     "execution_count": 229,
     "metadata": {},
     "output_type": "execute_result"
    }
   ],
   "source": [
    "year = pd.get_dummies(df5['Year'], drop_first=True).copy()\n",
    "month = pd.get_dummies(df5['Month'], drop_first=True).copy()\n",
    "df5.drop(['Year', 'Month'], inplace=True, axis=1)\n",
    "df5 = pd.concat([df5, year, month], axis=1)\n",
    "df5.head(2)"
   ]
  },
  {
   "cell_type": "code",
   "execution_count": null,
   "metadata": {},
   "outputs": [],
   "source": [
    "# making vectors for the modelling"
   ]
  },
  {
   "cell_type": "code",
   "execution_count": 230,
   "metadata": {},
   "outputs": [],
   "source": [
    "X = df5.iloc[:, 5:]\n",
    "\n",
    "y_p2  = df5['Product 23']\n",
    "X1 = X[X.index < 36]\n",
    "y1_p2 = y_p2[y_p2.index < 36]"
   ]
  },
  {
   "cell_type": "code",
   "execution_count": null,
   "metadata": {},
   "outputs": [],
   "source": [
    "#importing models"
   ]
  },
  {
   "cell_type": "code",
   "execution_count": 231,
   "metadata": {},
   "outputs": [],
   "source": [
    "from sklearn import set_config\n",
    "set_config(print_changed_only=False)\n",
    "\n",
    "from sklearn.linear_model import LinearRegression\n",
    "from sklearn.ensemble import RandomForestRegressor\n",
    "from xgboost import XGBRegressor"
   ]
  },
  {
   "cell_type": "code",
   "execution_count": null,
   "metadata": {},
   "outputs": [],
   "source": [
    "# teaching the models"
   ]
  },
  {
   "cell_type": "code",
   "execution_count": 232,
   "metadata": {},
   "outputs": [
    {
     "name": "stdout",
     "output_type": "stream",
     "text": [
      "0.8066382703119638\n",
      "0.9421626180244741\n",
      "0.9999999999981671\n"
     ]
    }
   ],
   "source": [
    "# Linear Regression\n",
    "lr = LinearRegression()\n",
    "lr.fit(X1, y1_p2)\n",
    "pred_lr = lr.predict(X1)\n",
    "print(lr.score(X1, y1_p2))\n",
    "\n",
    "# Random Forest\n",
    "rf = RandomForestRegressor()\n",
    "rf.fit(X1, y1_p2)\n",
    "pred_rf = rf.predict(X1)\n",
    "print(rf.score(X1, y1_p2))\n",
    "\n",
    "# XGBoost\n",
    "xgb = XGBRegressor(use_label_encoder=False)\n",
    "xgb.fit(X1, y1_p2)\n",
    "pred_xgb = xgb.predict(X1)\n",
    "print(xgb.score(X1, y1_p2))"
   ]
  },
  {
   "cell_type": "code",
   "execution_count": 233,
   "metadata": {},
   "outputs": [
    {
     "data": {
      "text/plain": [
       "Text(0.5, 1.0, 'Real and calculted sales using machine learning models')"
      ]
     },
     "execution_count": 233,
     "metadata": {},
     "output_type": "execute_result"
    },
    {
     "data": {
      "image/png": "[encoded data removed]",
      "text/plain": [
       "<Figure size 864x288 with 1 Axes>"
      ]
     },
     "metadata": {},
     "output_type": "display_data"
    }
   ],
   "source": [
    "sns.set_style(style='darkgrid')\n",
    "pd.DataFrame({'Real': y1_p2, 'Linear Regression': pred_lr,'Random Forest': pred_rf, 'XGBoost': pred_xgb}).plot(color=('red', 'blue', 'green', 'violet'), figsize=(12, 4))\n",
    "plt.xlabel(\"Number of Month\");\n",
    "plt.ylabel(\"Sales\");\n",
    "plt.title(\"Real and calculted sales using machine learning models\")"
   ]
  },
  {
   "cell_type": "code",
   "execution_count": null,
   "metadata": {},
   "outputs": [],
   "source": [
    "# XGBoost looks \"over-teached\", so we exclude it"
   ]
  },
  {
   "cell_type": "code",
   "execution_count": 234,
   "metadata": {
    "scrolled": true
   },
   "outputs": [
    {
     "data": {
      "text/plain": [
       "Text(0.5, 1.0, 'Real and calculted sales using machine learning models')"
      ]
     },
     "execution_count": 234,
     "metadata": {},
     "output_type": "execute_result"
    },
    {
     "data": {
      "image/png": "[encoded data removed]",
      "text/plain": [
       "<Figure size 864x288 with 1 Axes>"
      ]
     },
     "metadata": {},
     "output_type": "display_data"
    }
   ],
   "source": [
    "sns.set_style(style='darkgrid')\n",
    "pd.DataFrame({'Real sales': y1_p2, 'Linear Regression': pred_lr,'Random Forest': pred_rf}).plot(color=('red', 'blue', 'green'), figsize=(12, 4))\n",
    "plt.xlabel(\"Month\");\n",
    "plt.ylabel(\"Sales\");\n",
    "plt.title(\"Real and calculted sales using machine learning models\")"
   ]
  },
  {
   "cell_type": "code",
   "execution_count": null,
   "metadata": {},
   "outputs": [],
   "source": [
    "# Let us use the ensebmble of our models"
   ]
  },
  {
   "cell_type": "code",
   "execution_count": 235,
   "metadata": {},
   "outputs": [],
   "source": [
    "from sklearn.ensemble import VotingRegressor"
   ]
  },
  {
   "cell_type": "code",
   "execution_count": 240,
   "metadata": {},
   "outputs": [
    {
     "data": {
      "text/plain": [
       "0.955307871434095"
      ]
     },
     "execution_count": 240,
     "metadata": {},
     "output_type": "execute_result"
    }
   ],
   "source": [
    "VR=VotingRegressor(estimators=[('1',lr),('2', rf),('3', xgb)])\n",
    "VR.fit(X1, y1_p2)\n",
    "pred_VR = VR.predict(X1)\n",
    "VR.score(X1, y1_p2)"
   ]
  },
  {
   "cell_type": "code",
   "execution_count": null,
   "metadata": {},
   "outputs": [],
   "source": [
    "# plot the result"
   ]
  },
  {
   "cell_type": "code",
   "execution_count": 241,
   "metadata": {},
   "outputs": [
    {
     "data": {
      "text/plain": [
       "Text(0.5, 1.0, 'Real and calculted sales using machine learning models')"
      ]
     },
     "execution_count": 241,
     "metadata": {},
     "output_type": "execute_result"
    },
    {
     "data": {
      "image/png": "[encoded data removed]",
      "text/plain": [
       "<Figure size 864x288 with 1 Axes>"
      ]
     },
     "metadata": {},
     "output_type": "display_data"
    }
   ],
   "source": [
    "sns.set_style(style='darkgrid')\n",
    "pd.DataFrame({'Real': y1_p2, 'Linear Regression': pred_lr,'Random Forest': pred_rf, 'Ensemble': pred_VR}).plot(color=('red', 'blue', 'green', 'violet'), figsize=(12, 4))\n",
    "plt.xlabel(\"Number of Month\");\n",
    "plt.ylabel(\"Sales\");\n",
    "plt.title(\"Real and calculted sales using machine learning models\")"
   ]
  },
  {
   "cell_type": "code",
   "execution_count": null,
   "metadata": {},
   "outputs": [],
   "source": [
    "# Sales forecasting"
   ]
  },
  {
   "cell_type": "code",
   "execution_count": 244,
   "metadata": {},
   "outputs": [
    {
     "data": {
      "text/plain": [
       "Text(0.5, 1.0, 'Sales forecast for the selected Product 23')"
      ]
     },
     "execution_count": 244,
     "metadata": {},
     "output_type": "execute_result"
    },
    {
     "data": {
      "image/png": "[encoded data removed]",
      "text/plain": [
       "<Figure size 864x360 with 1 Axes>"
      ]
     },
     "metadata": {},
     "output_type": "display_data"
    }
   ],
   "source": [
    "pred_lr = lr.predict(X)\n",
    "pred_rf = rf.predict(X)\n",
    "pred_VR = VR.predict(X)\n",
    "pd.DataFrame({'Real sales': y_p2, 'Linear Regression': pred_lr, 'Random Forest': pred_rf,'Ensemble': pred_VR}).plot(color=('red', 'blue', 'green','violet'), figsize=(12, 5))\n",
    "plt.xlabel(\"Number of month\");\n",
    "plt.ylabel(\"Sales\");\n",
    "plt.title(\"Sales forecast for the selected Product 23\")"
   ]
  },
  {
   "cell_type": "markdown",
   "metadata": {},
   "source": [
    "### **Machine learning forecast conclusions:**"
   ]
  },
  {
   "cell_type": "markdown",
   "metadata": {},
   "source": [
    "#### 1. We focused on the Products from A category.\n",
    "#### 2. For the sales of selected product we applied machine learning algorithms, such as Linear regression, Random forest, and XGboost, as well as the Voting Regressor enseble.\n",
    "#### 3. The obtained forecast demostrates periodicity in the sales with positive inclination."
   ]
  },
  {
   "cell_type": "markdown",
   "metadata": {},
   "source": [
    "### 2. b. Sktime models sales forecating for Category A products"
   ]
  },
  {
   "cell_type": "code",
   "execution_count": null,
   "metadata": {},
   "outputs": [],
   "source": [
    "# preparing the dataframe and cut off 2018 with minor values of sales, which can \"confuse\" our models, as shown above"
   ]
  },
  {
   "cell_type": "code",
   "execution_count": 96,
   "metadata": {},
   "outputs": [],
   "source": [
    "df77=df2_.copy()\n",
    "df77 = df77[df77.index > '2018-12-01']"
   ]
  },
  {
   "cell_type": "code",
   "execution_count": null,
   "metadata": {},
   "outputs": [],
   "source": [
    "# We convert the date format to period format to use models from sktime library"
   ]
  },
  {
   "cell_type": "code",
   "execution_count": 97,
   "metadata": {},
   "outputs": [],
   "source": [
    "df77.index = df77.index.to_period(freq='M')\n",
    "df77.fillna(0.01, inplace=True)"
   ]
  },
  {
   "cell_type": "code",
   "execution_count": 98,
   "metadata": {},
   "outputs": [
    {
     "data": {
      "text/html": [
       "<div>\n",
       "<style scoped>\n",
       "    .dataframe tbody tr th:only-of-type {\n",
       "        vertical-align: middle;\n",
       "    }\n",
       "\n",
       "    .dataframe tbody tr th {\n",
       "        vertical-align: top;\n",
       "    }\n",
       "\n",
       "    .dataframe thead th {\n",
       "        text-align: right;\n",
       "    }\n",
       "</style>\n",
       "<table border=\"1\" class=\"dataframe\">\n",
       "  <thead>\n",
       "    <tr style=\"text-align: right;\">\n",
       "      <th>Product</th>\n",
       "      <th>Product 23</th>\n",
       "      <th>Product 25</th>\n",
       "      <th>Product 3</th>\n",
       "      <th>Product 4</th>\n",
       "      <th>Product 58</th>\n",
       "    </tr>\n",
       "    <tr>\n",
       "      <th>Period</th>\n",
       "      <th></th>\n",
       "      <th></th>\n",
       "      <th></th>\n",
       "      <th></th>\n",
       "      <th></th>\n",
       "    </tr>\n",
       "  </thead>\n",
       "  <tbody>\n",
       "    <tr>\n",
       "      <th>2019-01</th>\n",
       "      <td>1650.123256</td>\n",
       "      <td>937.865116</td>\n",
       "      <td>157.081395</td>\n",
       "      <td>199.376744</td>\n",
       "      <td>1099.820930</td>\n",
       "    </tr>\n",
       "    <tr>\n",
       "      <th>2019-02</th>\n",
       "      <td>657.520930</td>\n",
       "      <td>1109.913953</td>\n",
       "      <td>369.248837</td>\n",
       "      <td>360.130233</td>\n",
       "      <td>2103.653488</td>\n",
       "    </tr>\n",
       "    <tr>\n",
       "      <th>2019-03</th>\n",
       "      <td>1677.697674</td>\n",
       "      <td>1064.586047</td>\n",
       "      <td>587.046512</td>\n",
       "      <td>496.702326</td>\n",
       "      <td>1609.518605</td>\n",
       "    </tr>\n",
       "    <tr>\n",
       "      <th>2019-04</th>\n",
       "      <td>1323.702326</td>\n",
       "      <td>967.702326</td>\n",
       "      <td>390.560465</td>\n",
       "      <td>398.127907</td>\n",
       "      <td>1589.969767</td>\n",
       "    </tr>\n",
       "    <tr>\n",
       "      <th>2019-05</th>\n",
       "      <td>966.153488</td>\n",
       "      <td>932.481395</td>\n",
       "      <td>290.662791</td>\n",
       "      <td>312.718605</td>\n",
       "      <td>1321.083721</td>\n",
       "    </tr>\n",
       "  </tbody>\n",
       "</table>\n",
       "</div>"
      ],
      "text/plain": [
       "Product   Product 23   Product 25   Product 3   Product 4   Product 58\n",
       "Period                                                                \n",
       "2019-01  1650.123256   937.865116  157.081395  199.376744  1099.820930\n",
       "2019-02   657.520930  1109.913953  369.248837  360.130233  2103.653488\n",
       "2019-03  1677.697674  1064.586047  587.046512  496.702326  1609.518605\n",
       "2019-04  1323.702326   967.702326  390.560465  398.127907  1589.969767\n",
       "2019-05   966.153488   932.481395  290.662791  312.718605  1321.083721"
      ]
     },
     "execution_count": 98,
     "metadata": {},
     "output_type": "execute_result"
    }
   ],
   "source": [
    "df77.head()"
   ]
  },
  {
   "cell_type": "code",
   "execution_count": null,
   "metadata": {},
   "outputs": [],
   "source": [
    "# let us select 1 product. We do not show analysis for other products in order not to overload the whole project."
   ]
  },
  {
   "cell_type": "code",
   "execution_count": 99,
   "metadata": {},
   "outputs": [
    {
     "data": {
      "text/html": [
       "<div>\n",
       "<style scoped>\n",
       "    .dataframe tbody tr th:only-of-type {\n",
       "        vertical-align: middle;\n",
       "    }\n",
       "\n",
       "    .dataframe tbody tr th {\n",
       "        vertical-align: top;\n",
       "    }\n",
       "\n",
       "    .dataframe thead th {\n",
       "        text-align: right;\n",
       "    }\n",
       "</style>\n",
       "<table border=\"1\" class=\"dataframe\">\n",
       "  <thead>\n",
       "    <tr style=\"text-align: right;\">\n",
       "      <th>Product</th>\n",
       "      <th>Product 25</th>\n",
       "    </tr>\n",
       "    <tr>\n",
       "      <th>Period</th>\n",
       "      <th></th>\n",
       "    </tr>\n",
       "  </thead>\n",
       "  <tbody>\n",
       "    <tr>\n",
       "      <th>2019-01</th>\n",
       "      <td>937.865116</td>\n",
       "    </tr>\n",
       "    <tr>\n",
       "      <th>2019-02</th>\n",
       "      <td>1109.913953</td>\n",
       "    </tr>\n",
       "    <tr>\n",
       "      <th>2019-03</th>\n",
       "      <td>1064.586047</td>\n",
       "    </tr>\n",
       "    <tr>\n",
       "      <th>2019-04</th>\n",
       "      <td>967.702326</td>\n",
       "    </tr>\n",
       "    <tr>\n",
       "      <th>2019-05</th>\n",
       "      <td>932.481395</td>\n",
       "    </tr>\n",
       "  </tbody>\n",
       "</table>\n",
       "</div>"
      ],
      "text/plain": [
       "Product   Product 25\n",
       "Period              \n",
       "2019-01   937.865116\n",
       "2019-02  1109.913953\n",
       "2019-03  1064.586047\n",
       "2019-04   967.702326\n",
       "2019-05   932.481395"
      ]
     },
     "execution_count": 99,
     "metadata": {},
     "output_type": "execute_result"
    }
   ],
   "source": [
    "df77.drop(['Product 23', 'Product 3', 'Product 4', 'Product 58'], inplace=True, axis=1)\n",
    "df77.head()"
   ]
  },
  {
   "cell_type": "code",
   "execution_count": 100,
   "metadata": {},
   "outputs": [
    {
     "data": {
      "text/plain": [
       "Period\n",
       "2019-01     937.865116\n",
       "2019-02    1109.913953\n",
       "2019-03    1064.586047\n",
       "2019-04     967.702326\n",
       "2019-05     932.481395\n",
       "2019-06     782.876744\n",
       "2019-07    1473.469767\n",
       "2019-08    1558.748837\n",
       "2019-09    1679.595349\n",
       "2019-10    1935.765116\n",
       "2019-11    1353.000000\n",
       "2019-12     753.441860\n",
       "2020-01     596.990698\n",
       "2020-02    1004.676744\n",
       "2020-03    1965.058140\n",
       "2020-04    1789.848837\n",
       "2020-05     895.153488\n",
       "2020-06     856.723256\n",
       "2020-07    1242.697674\n",
       "2020-08    1721.858140\n",
       "2020-09    1932.004651\n",
       "2020-10    2585.772093\n",
       "2020-11    1558.602326\n",
       "2020-12     933.062791\n",
       "Freq: M, Name: Product 25, dtype: float64"
      ]
     },
     "execution_count": 100,
     "metadata": {},
     "output_type": "execute_result"
    }
   ],
   "source": [
    "y = df77.squeeze()\n",
    "y"
   ]
  },
  {
   "cell_type": "code",
   "execution_count": 31,
   "metadata": {},
   "outputs": [],
   "source": [
    "from sktime.performance_metrics.forecasting import mean_absolute_percentage_error\n",
    "from sktime.utils.plotting import plot_series\n",
    "from sktime.forecasting.base import ForecastingHorizon\n",
    "from sktime.forecasting.model_selection import temporal_train_test_split"
   ]
  },
  {
   "cell_type": "code",
   "execution_count": null,
   "metadata": {},
   "outputs": [],
   "source": [
    "# first we teach our model on real sales. Here we make y_test and y_train equal to all data to be able \n",
    "# to calculate the errors of our models"
   ]
  },
  {
   "cell_type": "code",
   "execution_count": 115,
   "metadata": {},
   "outputs": [],
   "source": [
    "y_train, y_test = y,y"
   ]
  },
  {
   "cell_type": "code",
   "execution_count": null,
   "metadata": {},
   "outputs": [],
   "source": [
    "# we import 4 models needed"
   ]
  },
  {
   "cell_type": "code",
   "execution_count": 70,
   "metadata": {},
   "outputs": [],
   "source": [
    "from sktime.forecasting.theta import ThetaForecaster\n",
    "from sktime.forecasting.exp_smoothing import ExponentialSmoothing\n",
    "from sktime.forecasting.ets import AutoETS\n",
    "from sktime.forecasting.bats import BATS"
   ]
  },
  {
   "cell_type": "code",
   "execution_count": null,
   "metadata": {},
   "outputs": [],
   "source": [
    "# performing fit and prediction"
   ]
  },
  {
   "cell_type": "code",
   "execution_count": 116,
   "metadata": {},
   "outputs": [
    {
     "name": "stdout",
     "output_type": "stream",
     "text": [
      "0.13829942134733772\n",
      "0.14103155341461723\n",
      "0.19419588869734095\n",
      "0.11869110941818985\n"
     ]
    }
   ],
   "source": [
    "fh = ForecastingHorizon(y.index, is_relative=False)\n",
    "\n",
    "forecaster1 = ExponentialSmoothing(trend=\"add\", seasonal=\"additive\", sp=12)\n",
    "forecaster2 = ThetaForecaster(sp=12)\n",
    "forecaster3 = BATS(sp=12, use_trend=True, use_box_cox=False)\n",
    "forecaster4 = AutoETS(auto=True, sp=12, n_jobs=-1)\n",
    "\n",
    "\n",
    "forecaster1.fit(y_train)\n",
    "forecaster2.fit(y_train)\n",
    "forecaster3.fit(y_train)\n",
    "forecaster4.fit(y_train)\n",
    "\n",
    "# y_pred will contain the predictions\n",
    "y_pred1 = forecaster1.predict(fh)\n",
    "y_pred2 = forecaster2.predict(fh)\n",
    "y_pred3 = forecaster3.predict(fh)\n",
    "y_pred4 = forecaster4.predict(fh)\n",
    "\n",
    "print(mean_absolute_percentage_error(y_pred1, y_test))\n",
    "print(mean_absolute_percentage_error(y_pred2, y_test))\n",
    "print(mean_absolute_percentage_error(y_pred3, y_test))\n",
    "print(mean_absolute_percentage_error(y_pred4, y_test))"
   ]
  },
  {
   "cell_type": "code",
   "execution_count": 117,
   "metadata": {},
   "outputs": [
    {
     "data": {
      "text/plain": [
       "(<Figure size 864x216 with 1 Axes>, <AxesSubplot:ylabel='Product 25'>)"
      ]
     },
     "execution_count": 117,
     "metadata": {},
     "output_type": "execute_result"
    },
    {
     "data": {
      "image/png": "[encoded data removed]",
      "text/plain": [
       "<Figure size 864x216 with 1 Axes>"
      ]
     },
     "metadata": {
      "needs_background": "light"
     },
     "output_type": "display_data"
    }
   ],
   "source": [
    "# plotting for illustration\n",
    "\n",
    "plot_series(y, y_pred1, y_pred2, y_pred3, y_pred4, labels=[\"Real sales\", \"Exp.smoothing\", \"ThetaForecaster\", \"BATS\", \"AutoETS\"])"
   ]
  },
  {
   "cell_type": "code",
   "execution_count": null,
   "metadata": {},
   "outputs": [],
   "source": [
    "# making the forecast for the next 24 months"
   ]
  },
  {
   "cell_type": "code",
   "execution_count": 118,
   "metadata": {},
   "outputs": [
    {
     "data": {
      "text/plain": [
       "(<Figure size 864x216 with 1 Axes>, <AxesSubplot:ylabel='Product 25'>)"
      ]
     },
     "execution_count": 118,
     "metadata": {},
     "output_type": "execute_result"
    },
    {
     "data": {
      "image/png": "[encoded data removed]",
      "text/plain": [
       "<Figure size 864x216 with 1 Axes>"
      ]
     },
     "metadata": {
      "needs_background": "light"
     },
     "output_type": "display_data"
    }
   ],
   "source": [
    "fh = np.arange(1, 24)\n",
    "y_pred1 = forecaster1.predict(fh)\n",
    "y_pred2 = forecaster2.predict(fh)\n",
    "y_pred3 = forecaster3.predict(fh)\n",
    "y_pred4 = forecaster3.predict(fh)\n",
    "\n",
    "\n",
    "plot_series(y, y_pred1, y_pred2, y_pred3, y_pred4, labels=[\"Real sales\", \"Exp.smoothing\", \"ThetaForecaster\", \"BATS\", \"AutoETS\"])"
   ]
  },
  {
   "cell_type": "markdown",
   "metadata": {},
   "source": [
    "### **Sales forecast conclusions:**"
   ]
  },
  {
   "cell_type": "markdown",
   "metadata": {},
   "source": [
    "#### 1. Again we focused on the Products from A category.\n",
    "#### 2. For our analysis we selected 1 Product from the group. For the rest products the procedure might be done in the same way.\n",
    "#### 3. Here we used models offered by sktime library, such as Exponential smoothing, Thetaforecaster, BATS, and Auto ETS.  These models are aimed to work with time series, which is our case.\n",
    "#### 4. Qualitative analysis of the obtained foresasts shows the presence of periodic sales maxima with general positive inclination. These results are in the good agreement with forecasts obtained in the previous section.\n",
    "#### 5. Despite the similarity in learning reuslts, models provided the different forecasts. Exponential smoothing, BATS, and Auto ETS provide consistent results. The forecast of Thetaforecaster differs by absolute values."
   ]
  },
  {
   "cell_type": "markdown",
   "metadata": {},
   "source": [
    "## 3. ABC analysis by Customer"
   ]
  },
  {
   "cell_type": "code",
   "execution_count": null,
   "metadata": {},
   "outputs": [],
   "source": [
    "# Modifying the inital dataset: looking at year 2020, and taking needed columns"
   ]
  },
  {
   "cell_type": "code",
   "execution_count": 246,
   "metadata": {},
   "outputs": [
    {
     "data": {
      "text/html": [
       "<div>\n",
       "<style scoped>\n",
       "    .dataframe tbody tr th:only-of-type {\n",
       "        vertical-align: middle;\n",
       "    }\n",
       "\n",
       "    .dataframe tbody tr th {\n",
       "        vertical-align: top;\n",
       "    }\n",
       "\n",
       "    .dataframe thead th {\n",
       "        text-align: right;\n",
       "    }\n",
       "</style>\n",
       "<table border=\"1\" class=\"dataframe\">\n",
       "  <thead>\n",
       "    <tr style=\"text-align: right;\">\n",
       "      <th></th>\n",
       "      <th>Customer</th>\n",
       "      <th>Sales</th>\n",
       "      <th>Qty</th>\n",
       "      <th>Period</th>\n",
       "    </tr>\n",
       "  </thead>\n",
       "  <tbody>\n",
       "    <tr>\n",
       "      <th>12266</th>\n",
       "      <td>Customer 22</td>\n",
       "      <td>26.467442</td>\n",
       "      <td>1</td>\n",
       "      <td>2020-01-21 13:01:25</td>\n",
       "    </tr>\n",
       "    <tr>\n",
       "      <th>12267</th>\n",
       "      <td>Customer 22</td>\n",
       "      <td>24.246512</td>\n",
       "      <td>1</td>\n",
       "      <td>2020-01-21 13:01:25</td>\n",
       "    </tr>\n",
       "    <tr>\n",
       "      <th>12268</th>\n",
       "      <td>Customer 22</td>\n",
       "      <td>71.095349</td>\n",
       "      <td>1</td>\n",
       "      <td>2020-01-21 13:01:25</td>\n",
       "    </tr>\n",
       "    <tr>\n",
       "      <th>12269</th>\n",
       "      <td>Customer 22</td>\n",
       "      <td>53.583721</td>\n",
       "      <td>1</td>\n",
       "      <td>2020-01-21 13:01:25</td>\n",
       "    </tr>\n",
       "    <tr>\n",
       "      <th>12284</th>\n",
       "      <td>Customer 440</td>\n",
       "      <td>209.432558</td>\n",
       "      <td>4</td>\n",
       "      <td>2020-03-03 12:05:27</td>\n",
       "    </tr>\n",
       "  </tbody>\n",
       "</table>\n",
       "</div>"
      ],
      "text/plain": [
       "           Customer       Sales  Qty              Period\n",
       "12266   Customer 22   26.467442    1 2020-01-21 13:01:25\n",
       "12267   Customer 22   24.246512    1 2020-01-21 13:01:25\n",
       "12268   Customer 22   71.095349    1 2020-01-21 13:01:25\n",
       "12269   Customer 22   53.583721    1 2020-01-21 13:01:25\n",
       "12284  Customer 440  209.432558    4 2020-03-03 12:05:27"
      ]
     },
     "execution_count": 246,
     "metadata": {},
     "output_type": "execute_result"
    }
   ],
   "source": [
    "df10 = df[df['Period'] > '2019-12-31']\n",
    "df10 = df10[df10['Period'] < '2021-01-01']\n",
    "df10 = df10[['Customer', 'Sales', 'Qty', 'Period']]\n",
    "df10.head()"
   ]
  },
  {
   "cell_type": "code",
   "execution_count": null,
   "metadata": {},
   "outputs": [],
   "source": [
    "# Getting sum of sales of products and sorting them"
   ]
  },
  {
   "cell_type": "code",
   "execution_count": 247,
   "metadata": {},
   "outputs": [
    {
     "name": "stderr",
     "output_type": "stream",
     "text": [
      "<ipython-input-247-9d4a61feff78>:1: FutureWarning: Indexing with multiple keys (implicitly converted to a tuple of keys) will be deprecated, use a list instead.\n",
      "  df20 = df10.groupby('Customer')['Sales', 'Qty'].sum().reset_index()\n"
     ]
    },
    {
     "data": {
      "text/html": [
       "<div>\n",
       "<style scoped>\n",
       "    .dataframe tbody tr th:only-of-type {\n",
       "        vertical-align: middle;\n",
       "    }\n",
       "\n",
       "    .dataframe tbody tr th {\n",
       "        vertical-align: top;\n",
       "    }\n",
       "\n",
       "    .dataframe thead th {\n",
       "        text-align: right;\n",
       "    }\n",
       "</style>\n",
       "<table border=\"1\" class=\"dataframe\">\n",
       "  <thead>\n",
       "    <tr style=\"text-align: right;\">\n",
       "      <th></th>\n",
       "      <th>Customer</th>\n",
       "      <th>Sales</th>\n",
       "      <th>Qty</th>\n",
       "    </tr>\n",
       "  </thead>\n",
       "  <tbody>\n",
       "    <tr>\n",
       "      <th>695</th>\n",
       "      <td>Customer 9</td>\n",
       "      <td>15966.820930</td>\n",
       "      <td>1493</td>\n",
       "    </tr>\n",
       "    <tr>\n",
       "      <th>95</th>\n",
       "      <td>Customer 20</td>\n",
       "      <td>10470.960465</td>\n",
       "      <td>730</td>\n",
       "    </tr>\n",
       "    <tr>\n",
       "      <th>112</th>\n",
       "      <td>Customer 218</td>\n",
       "      <td>7236.995349</td>\n",
       "      <td>456</td>\n",
       "    </tr>\n",
       "    <tr>\n",
       "      <th>114</th>\n",
       "      <td>Customer 22</td>\n",
       "      <td>6557.979070</td>\n",
       "      <td>306</td>\n",
       "    </tr>\n",
       "    <tr>\n",
       "      <th>67</th>\n",
       "      <td>Customer 172</td>\n",
       "      <td>4023.130233</td>\n",
       "      <td>325</td>\n",
       "    </tr>\n",
       "  </tbody>\n",
       "</table>\n",
       "</div>"
      ],
      "text/plain": [
       "         Customer         Sales   Qty\n",
       "695    Customer 9  15966.820930  1493\n",
       "95    Customer 20  10470.960465   730\n",
       "112  Customer 218   7236.995349   456\n",
       "114   Customer 22   6557.979070   306\n",
       "67   Customer 172   4023.130233   325"
      ]
     },
     "execution_count": 247,
     "metadata": {},
     "output_type": "execute_result"
    }
   ],
   "source": [
    "df20 = df10.groupby('Customer')['Sales', 'Qty'].sum().reset_index()\n",
    "df20.sort_values('Sales', inplace=True, ascending = False)\n",
    "df20.head()"
   ]
  },
  {
   "cell_type": "code",
   "execution_count": null,
   "metadata": {},
   "outputs": [],
   "source": [
    "# Calculating the total amount of sales"
   ]
  },
  {
   "cell_type": "code",
   "execution_count": 248,
   "metadata": {},
   "outputs": [
    {
     "data": {
      "text/plain": [
       "255367.83953488368"
      ]
     },
     "execution_count": 248,
     "metadata": {},
     "output_type": "execute_result"
    }
   ],
   "source": [
    "total_sales = df20['Sales'].sum()\n",
    "total_sales"
   ]
  },
  {
   "cell_type": "code",
   "execution_count": null,
   "metadata": {},
   "outputs": [],
   "source": [
    "# Calculating the Fraction in %"
   ]
  },
  {
   "cell_type": "code",
   "execution_count": 249,
   "metadata": {},
   "outputs": [
    {
     "data": {
      "text/html": [
       "<div>\n",
       "<style scoped>\n",
       "    .dataframe tbody tr th:only-of-type {\n",
       "        vertical-align: middle;\n",
       "    }\n",
       "\n",
       "    .dataframe tbody tr th {\n",
       "        vertical-align: top;\n",
       "    }\n",
       "\n",
       "    .dataframe thead th {\n",
       "        text-align: right;\n",
       "    }\n",
       "</style>\n",
       "<table border=\"1\" class=\"dataframe\">\n",
       "  <thead>\n",
       "    <tr style=\"text-align: right;\">\n",
       "      <th></th>\n",
       "      <th>Customer</th>\n",
       "      <th>Sales</th>\n",
       "      <th>Qty</th>\n",
       "      <th>Fraction</th>\n",
       "    </tr>\n",
       "  </thead>\n",
       "  <tbody>\n",
       "    <tr>\n",
       "      <th>695</th>\n",
       "      <td>Customer 9</td>\n",
       "      <td>15966.820930</td>\n",
       "      <td>1493</td>\n",
       "      <td>6.252479</td>\n",
       "    </tr>\n",
       "    <tr>\n",
       "      <th>95</th>\n",
       "      <td>Customer 20</td>\n",
       "      <td>10470.960465</td>\n",
       "      <td>730</td>\n",
       "      <td>4.100344</td>\n",
       "    </tr>\n",
       "  </tbody>\n",
       "</table>\n",
       "</div>"
      ],
      "text/plain": [
       "        Customer         Sales   Qty  Fraction\n",
       "695   Customer 9  15966.820930  1493  6.252479\n",
       "95   Customer 20  10470.960465   730  4.100344"
      ]
     },
     "execution_count": 249,
     "metadata": {},
     "output_type": "execute_result"
    }
   ],
   "source": [
    "df20['Fraction'] = df20['Sales']/total_sales*100\n",
    "df20.head(2)"
   ]
  },
  {
   "cell_type": "code",
   "execution_count": null,
   "metadata": {},
   "outputs": [],
   "source": [
    "# Calculating the accumullated Fraction in %"
   ]
  },
  {
   "cell_type": "code",
   "execution_count": 250,
   "metadata": {},
   "outputs": [
    {
     "data": {
      "text/html": [
       "<div>\n",
       "<style scoped>\n",
       "    .dataframe tbody tr th:only-of-type {\n",
       "        vertical-align: middle;\n",
       "    }\n",
       "\n",
       "    .dataframe tbody tr th {\n",
       "        vertical-align: top;\n",
       "    }\n",
       "\n",
       "    .dataframe thead th {\n",
       "        text-align: right;\n",
       "    }\n",
       "</style>\n",
       "<table border=\"1\" class=\"dataframe\">\n",
       "  <thead>\n",
       "    <tr style=\"text-align: right;\">\n",
       "      <th></th>\n",
       "      <th>Customer</th>\n",
       "      <th>Sales</th>\n",
       "      <th>Qty</th>\n",
       "      <th>Fraction</th>\n",
       "      <th>Percent</th>\n",
       "    </tr>\n",
       "  </thead>\n",
       "  <tbody>\n",
       "    <tr>\n",
       "      <th>695</th>\n",
       "      <td>Customer 9</td>\n",
       "      <td>15966.820930</td>\n",
       "      <td>1493</td>\n",
       "      <td>6.252479</td>\n",
       "      <td>6.252479</td>\n",
       "    </tr>\n",
       "    <tr>\n",
       "      <th>95</th>\n",
       "      <td>Customer 20</td>\n",
       "      <td>10470.960465</td>\n",
       "      <td>730</td>\n",
       "      <td>4.100344</td>\n",
       "      <td>10.352823</td>\n",
       "    </tr>\n",
       "  </tbody>\n",
       "</table>\n",
       "</div>"
      ],
      "text/plain": [
       "        Customer         Sales   Qty  Fraction    Percent\n",
       "695   Customer 9  15966.820930  1493  6.252479   6.252479\n",
       "95   Customer 20  10470.960465   730  4.100344  10.352823"
      ]
     },
     "execution_count": 250,
     "metadata": {},
     "output_type": "execute_result"
    }
   ],
   "source": [
    "df20['Percent'] = df20['Fraction'].cumsum()\n",
    "df20.head(2)"
   ]
  },
  {
   "cell_type": "code",
   "execution_count": null,
   "metadata": {},
   "outputs": [],
   "source": [
    "# Structuring the customers into A,B,C categories"
   ]
  },
  {
   "cell_type": "code",
   "execution_count": 251,
   "metadata": {},
   "outputs": [
    {
     "data": {
      "text/html": [
       "<div>\n",
       "<style scoped>\n",
       "    .dataframe tbody tr th:only-of-type {\n",
       "        vertical-align: middle;\n",
       "    }\n",
       "\n",
       "    .dataframe tbody tr th {\n",
       "        vertical-align: top;\n",
       "    }\n",
       "\n",
       "    .dataframe thead th {\n",
       "        text-align: right;\n",
       "    }\n",
       "</style>\n",
       "<table border=\"1\" class=\"dataframe\">\n",
       "  <thead>\n",
       "    <tr style=\"text-align: right;\">\n",
       "      <th></th>\n",
       "      <th>Customer</th>\n",
       "      <th>Sales</th>\n",
       "      <th>Qty</th>\n",
       "      <th>Fraction</th>\n",
       "      <th>Percent</th>\n",
       "      <th>ABC_category</th>\n",
       "    </tr>\n",
       "  </thead>\n",
       "  <tbody>\n",
       "    <tr>\n",
       "      <th>695</th>\n",
       "      <td>Customer 9</td>\n",
       "      <td>15966.820930</td>\n",
       "      <td>1493</td>\n",
       "      <td>6.252479</td>\n",
       "      <td>6.252479</td>\n",
       "      <td>A</td>\n",
       "    </tr>\n",
       "    <tr>\n",
       "      <th>95</th>\n",
       "      <td>Customer 20</td>\n",
       "      <td>10470.960465</td>\n",
       "      <td>730</td>\n",
       "      <td>4.100344</td>\n",
       "      <td>10.352823</td>\n",
       "      <td>A</td>\n",
       "    </tr>\n",
       "    <tr>\n",
       "      <th>112</th>\n",
       "      <td>Customer 218</td>\n",
       "      <td>7236.995349</td>\n",
       "      <td>456</td>\n",
       "      <td>2.833949</td>\n",
       "      <td>13.186773</td>\n",
       "      <td>A</td>\n",
       "    </tr>\n",
       "    <tr>\n",
       "      <th>114</th>\n",
       "      <td>Customer 22</td>\n",
       "      <td>6557.979070</td>\n",
       "      <td>306</td>\n",
       "      <td>2.568052</td>\n",
       "      <td>15.754825</td>\n",
       "      <td>A</td>\n",
       "    </tr>\n",
       "    <tr>\n",
       "      <th>67</th>\n",
       "      <td>Customer 172</td>\n",
       "      <td>4023.130233</td>\n",
       "      <td>325</td>\n",
       "      <td>1.575426</td>\n",
       "      <td>17.330250</td>\n",
       "      <td>A</td>\n",
       "    </tr>\n",
       "  </tbody>\n",
       "</table>\n",
       "</div>"
      ],
      "text/plain": [
       "         Customer         Sales   Qty  Fraction    Percent ABC_category\n",
       "695    Customer 9  15966.820930  1493  6.252479   6.252479            A\n",
       "95    Customer 20  10470.960465   730  4.100344  10.352823            A\n",
       "112  Customer 218   7236.995349   456  2.833949  13.186773            A\n",
       "114   Customer 22   6557.979070   306  2.568052  15.754825            A\n",
       "67   Customer 172   4023.130233   325  1.575426  17.330250            A"
      ]
     },
     "execution_count": 251,
     "metadata": {},
     "output_type": "execute_result"
    }
   ],
   "source": [
    "def group(perc):\n",
    "    if perc <= 80:\n",
    "        return 'A'\n",
    "    elif perc > 80 and perc <= 95:\n",
    "        return 'B'\n",
    "    else:\n",
    "        return 'C'\n",
    "\n",
    "df20['ABC_category'] = df20['Percent'].map(group) #adding the category\n",
    "df20.head()"
   ]
  },
  {
   "cell_type": "code",
   "execution_count": null,
   "metadata": {},
   "outputs": [],
   "source": [
    "# Calculating the number of customers in each category and vizualizing this distribution"
   ]
  },
  {
   "cell_type": "code",
   "execution_count": 252,
   "metadata": {},
   "outputs": [
    {
     "data": {
      "text/plain": [
       "C    330\n",
       "B    203\n",
       "A    171\n",
       "Name: ABC_category, dtype: int64"
      ]
     },
     "execution_count": 252,
     "metadata": {},
     "output_type": "execute_result"
    }
   ],
   "source": [
    "df20['ABC_category'].value_counts()"
   ]
  },
  {
   "cell_type": "code",
   "execution_count": 254,
   "metadata": {},
   "outputs": [
    {
     "data": {
      "text/plain": [
       "Text(0.5, 1.0, 'Distribution of Customers by Categories')"
      ]
     },
     "execution_count": 254,
     "metadata": {},
     "output_type": "execute_result"
    },
    {
     "data": {
      "image/png": "[encoded data removed]",
      "text/plain": [
       "<Figure size 1080x216 with 1 Axes>"
      ]
     },
     "metadata": {},
     "output_type": "display_data"
    }
   ],
   "source": [
    "df10_ = df20.groupby('ABC_category')['Customer'].count().reset_index()\n",
    "plt.rcParams['figure.figsize']=(15, 3)\n",
    "sns.barplot(x = 'ABC_category', y = 'Customer', data = df10_)\n",
    "plt.xlabel(\"ABC category\");\n",
    "plt.ylabel(\"Customers\");\n",
    "plt.title(\"Distribution of Customers by Categories\")"
   ]
  },
  {
   "cell_type": "code",
   "execution_count": null,
   "metadata": {},
   "outputs": [],
   "source": [
    "# Vizualizing the distribution of sales by categories"
   ]
  },
  {
   "cell_type": "code",
   "execution_count": 256,
   "metadata": {},
   "outputs": [
    {
     "data": {
      "text/html": [
       "<div>\n",
       "<style scoped>\n",
       "    .dataframe tbody tr th:only-of-type {\n",
       "        vertical-align: middle;\n",
       "    }\n",
       "\n",
       "    .dataframe tbody tr th {\n",
       "        vertical-align: top;\n",
       "    }\n",
       "\n",
       "    .dataframe thead th {\n",
       "        text-align: right;\n",
       "    }\n",
       "</style>\n",
       "<table border=\"1\" class=\"dataframe\">\n",
       "  <thead>\n",
       "    <tr style=\"text-align: right;\">\n",
       "      <th></th>\n",
       "      <th>ABC_category</th>\n",
       "      <th>Sales</th>\n",
       "      <th>Percent</th>\n",
       "    </tr>\n",
       "  </thead>\n",
       "  <tbody>\n",
       "    <tr>\n",
       "      <th>0</th>\n",
       "      <td>A</td>\n",
       "      <td>204034.146512</td>\n",
       "      <td>79.898137</td>\n",
       "    </tr>\n",
       "    <tr>\n",
       "      <th>1</th>\n",
       "      <td>B</td>\n",
       "      <td>38539.616279</td>\n",
       "      <td>15.091805</td>\n",
       "    </tr>\n",
       "    <tr>\n",
       "      <th>2</th>\n",
       "      <td>C</td>\n",
       "      <td>12794.076744</td>\n",
       "      <td>5.010058</td>\n",
       "    </tr>\n",
       "  </tbody>\n",
       "</table>\n",
       "</div>"
      ],
      "text/plain": [
       "  ABC_category          Sales    Percent\n",
       "0            A  204034.146512  79.898137\n",
       "1            B   38539.616279  15.091805\n",
       "2            C   12794.076744   5.010058"
      ]
     },
     "execution_count": 256,
     "metadata": {},
     "output_type": "execute_result"
    }
   ],
   "source": [
    "df10_ = df20.groupby('ABC_category')['Sales'].sum().reset_index()\n",
    "df10_['Percent']=df10_['Sales']/total_sales*100\n",
    "df10_"
   ]
  },
  {
   "cell_type": "code",
   "execution_count": 257,
   "metadata": {},
   "outputs": [
    {
     "data": {
      "text/plain": [
       "Text(0.5, 1.0, 'Distribution of Sales by Categories')"
      ]
     },
     "execution_count": 257,
     "metadata": {},
     "output_type": "execute_result"
    },
    {
     "data": {
      "image/png": "[encoded data removed]",
      "text/plain": [
       "<Figure size 1080x216 with 1 Axes>"
      ]
     },
     "metadata": {},
     "output_type": "display_data"
    }
   ],
   "source": [
    "sns.barplot(x = 'ABC_category', y = 'Percent', data = df10_)\n",
    "plt.xlabel(\"ABC category\");\n",
    "plt.ylabel(\"Sales,%\");\n",
    "plt.title(\"Distribution of Sales by Categories\")"
   ]
  },
  {
   "cell_type": "markdown",
   "metadata": {},
   "source": [
    "### **ABC (Customers) analysis conclusions:**"
   ]
  },
  {
   "cell_type": "markdown",
   "metadata": {},
   "source": [
    "#### 1. There are 171 customers in the category A, who is 24% from the total number of customers.\n",
    "#### 2. The category A provides almost 80% of annual sales, and, therefore, these customers are of high importance for the company.\n",
    "#### 3. We need to focus on forecasting of sales provided by these customers."
   ]
  },
  {
   "cell_type": "markdown",
   "metadata": {},
   "source": [
    "### 3.a Sktime models sales forecating for Category A Customers"
   ]
  },
  {
   "cell_type": "code",
   "execution_count": null,
   "metadata": {},
   "outputs": [],
   "source": [
    "# preparing the dataframe"
   ]
  },
  {
   "cell_type": "code",
   "execution_count": 272,
   "metadata": {},
   "outputs": [],
   "source": [
    "df25 = df.merge(df20[['Customer', 'ABC_category']], how='inner', on='Customer')\n",
    "df25=df25[df25['ABC_category']==\"A\"]\n",
    "df25 = df25[df25['Period'] < '2021-01-01']"
   ]
  },
  {
   "cell_type": "code",
   "execution_count": 274,
   "metadata": {},
   "outputs": [
    {
     "data": {
      "text/plain": [
       "Customer 9      1680\n",
       "Customer 218     619\n",
       "Customer 136     432\n",
       "Customer 15      385\n",
       "Customer 10      379\n",
       "                ... \n",
       "Customer 677      14\n",
       "Customer 545      14\n",
       "Customer 711      12\n",
       "Customer 756      10\n",
       "Customer 694      10\n",
       "Name: Customer, Length: 171, dtype: int64"
      ]
     },
     "execution_count": 274,
     "metadata": {},
     "output_type": "execute_result"
    }
   ],
   "source": [
    "df25.Customer.value_counts()"
   ]
  },
  {
   "cell_type": "code",
   "execution_count": null,
   "metadata": {},
   "outputs": [],
   "source": [
    "# we select 5 the most active Customers"
   ]
  },
  {
   "cell_type": "code",
   "execution_count": 275,
   "metadata": {},
   "outputs": [
    {
     "data": {
      "text/html": [
       "<div>\n",
       "<style scoped>\n",
       "    .dataframe tbody tr th:only-of-type {\n",
       "        vertical-align: middle;\n",
       "    }\n",
       "\n",
       "    .dataframe tbody tr th {\n",
       "        vertical-align: top;\n",
       "    }\n",
       "\n",
       "    .dataframe thead th {\n",
       "        text-align: right;\n",
       "    }\n",
       "</style>\n",
       "<table border=\"1\" class=\"dataframe\">\n",
       "  <thead>\n",
       "    <tr style=\"text-align: right;\">\n",
       "      <th></th>\n",
       "      <th>Product</th>\n",
       "      <th>Customer</th>\n",
       "      <th>Order</th>\n",
       "      <th>Qty</th>\n",
       "      <th>Sales</th>\n",
       "      <th>Period</th>\n",
       "      <th>ABC_category</th>\n",
       "    </tr>\n",
       "  </thead>\n",
       "  <tbody>\n",
       "    <tr>\n",
       "      <th>714</th>\n",
       "      <td>Product 22</td>\n",
       "      <td>Customer 9</td>\n",
       "      <td>78624</td>\n",
       "      <td>1</td>\n",
       "      <td>21.406977</td>\n",
       "      <td>2019-01-07 11:08:07</td>\n",
       "      <td>A</td>\n",
       "    </tr>\n",
       "    <tr>\n",
       "      <th>715</th>\n",
       "      <td>Product 23</td>\n",
       "      <td>Customer 9</td>\n",
       "      <td>78624</td>\n",
       "      <td>2</td>\n",
       "      <td>38.967442</td>\n",
       "      <td>2019-01-07 11:08:07</td>\n",
       "      <td>A</td>\n",
       "    </tr>\n",
       "    <tr>\n",
       "      <th>716</th>\n",
       "      <td>Product 17</td>\n",
       "      <td>Customer 9</td>\n",
       "      <td>78624</td>\n",
       "      <td>1</td>\n",
       "      <td>12.190698</td>\n",
       "      <td>2019-01-07 11:08:07</td>\n",
       "      <td>A</td>\n",
       "    </tr>\n",
       "    <tr>\n",
       "      <th>717</th>\n",
       "      <td>Product 25</td>\n",
       "      <td>Customer 9</td>\n",
       "      <td>78624</td>\n",
       "      <td>2</td>\n",
       "      <td>9.909302</td>\n",
       "      <td>2019-01-07 11:08:07</td>\n",
       "      <td>A</td>\n",
       "    </tr>\n",
       "    <tr>\n",
       "      <th>718</th>\n",
       "      <td>Product 26</td>\n",
       "      <td>Customer 9</td>\n",
       "      <td>78624</td>\n",
       "      <td>1</td>\n",
       "      <td>9.067442</td>\n",
       "      <td>2019-01-07 11:08:07</td>\n",
       "      <td>A</td>\n",
       "    </tr>\n",
       "  </tbody>\n",
       "</table>\n",
       "</div>"
      ],
      "text/plain": [
       "        Product    Customer  Order  Qty      Sales              Period  \\\n",
       "714  Product 22  Customer 9  78624    1  21.406977 2019-01-07 11:08:07   \n",
       "715  Product 23  Customer 9  78624    2  38.967442 2019-01-07 11:08:07   \n",
       "716  Product 17  Customer 9  78624    1  12.190698 2019-01-07 11:08:07   \n",
       "717  Product 25  Customer 9  78624    2   9.909302 2019-01-07 11:08:07   \n",
       "718  Product 26  Customer 9  78624    1   9.067442 2019-01-07 11:08:07   \n",
       "\n",
       "    ABC_category  \n",
       "714            A  \n",
       "715            A  \n",
       "716            A  \n",
       "717            A  \n",
       "718            A  "
      ]
     },
     "execution_count": 275,
     "metadata": {},
     "output_type": "execute_result"
    }
   ],
   "source": [
    "df25 = df25[(df25['Customer'] == 'Customer 9') | (df25['Customer'] == 'Customer 218') |\n",
    "          (df25['Customer'] == 'Customer 136') | (df25['Customer'] == 'Customer 15') | (df25['Customer'] == 'Customer 10')]\n",
    "df25.head()"
   ]
  },
  {
   "cell_type": "code",
   "execution_count": null,
   "metadata": {},
   "outputs": [],
   "source": [
    "# preparing the dataframe for applying the models"
   ]
  },
  {
   "cell_type": "code",
   "execution_count": 276,
   "metadata": {},
   "outputs": [
    {
     "data": {
      "text/html": [
       "<div>\n",
       "<style scoped>\n",
       "    .dataframe tbody tr th:only-of-type {\n",
       "        vertical-align: middle;\n",
       "    }\n",
       "\n",
       "    .dataframe tbody tr th {\n",
       "        vertical-align: top;\n",
       "    }\n",
       "\n",
       "    .dataframe thead th {\n",
       "        text-align: right;\n",
       "    }\n",
       "</style>\n",
       "<table border=\"1\" class=\"dataframe\">\n",
       "  <thead>\n",
       "    <tr style=\"text-align: right;\">\n",
       "      <th></th>\n",
       "      <th>Customer</th>\n",
       "      <th>Sales</th>\n",
       "      <th>Period</th>\n",
       "    </tr>\n",
       "  </thead>\n",
       "  <tbody>\n",
       "    <tr>\n",
       "      <th>714</th>\n",
       "      <td>Customer 9</td>\n",
       "      <td>21.406977</td>\n",
       "      <td>2019-01-01</td>\n",
       "    </tr>\n",
       "    <tr>\n",
       "      <th>715</th>\n",
       "      <td>Customer 9</td>\n",
       "      <td>38.967442</td>\n",
       "      <td>2019-01-01</td>\n",
       "    </tr>\n",
       "  </tbody>\n",
       "</table>\n",
       "</div>"
      ],
      "text/plain": [
       "       Customer      Sales     Period\n",
       "714  Customer 9  21.406977 2019-01-01\n",
       "715  Customer 9  38.967442 2019-01-01"
      ]
     },
     "execution_count": 276,
     "metadata": {},
     "output_type": "execute_result"
    }
   ],
   "source": [
    "df25['Period'] = pd.to_datetime(df25['Period']).dt.strftime('%Y-%m')\n",
    "df25['Period'] = pd.to_datetime(df25['Period'])\n",
    "\n",
    "df25.drop(['Product', 'Order', 'Qty', 'ABC_category'], axis=1, inplace=True)\n",
    "df25.head(2)"
   ]
  },
  {
   "cell_type": "code",
   "execution_count": 277,
   "metadata": {},
   "outputs": [
    {
     "data": {
      "text/html": [
       "<div>\n",
       "<style scoped>\n",
       "    .dataframe tbody tr th:only-of-type {\n",
       "        vertical-align: middle;\n",
       "    }\n",
       "\n",
       "    .dataframe tbody tr th {\n",
       "        vertical-align: top;\n",
       "    }\n",
       "\n",
       "    .dataframe thead th {\n",
       "        text-align: right;\n",
       "    }\n",
       "</style>\n",
       "<table border=\"1\" class=\"dataframe\">\n",
       "  <thead>\n",
       "    <tr style=\"text-align: right;\">\n",
       "      <th>Customer</th>\n",
       "      <th>Customer 10</th>\n",
       "      <th>Customer 136</th>\n",
       "      <th>Customer 15</th>\n",
       "      <th>Customer 218</th>\n",
       "      <th>Customer 9</th>\n",
       "    </tr>\n",
       "    <tr>\n",
       "      <th>Period</th>\n",
       "      <th></th>\n",
       "      <th></th>\n",
       "      <th></th>\n",
       "      <th></th>\n",
       "      <th></th>\n",
       "    </tr>\n",
       "  </thead>\n",
       "  <tbody>\n",
       "    <tr>\n",
       "      <th>2018-02-01</th>\n",
       "      <td>82.25814</td>\n",
       "      <td>NaN</td>\n",
       "      <td>NaN</td>\n",
       "      <td>NaN</td>\n",
       "      <td>39.846512</td>\n",
       "    </tr>\n",
       "    <tr>\n",
       "      <th>2018-03-01</th>\n",
       "      <td>NaN</td>\n",
       "      <td>98.911628</td>\n",
       "      <td>NaN</td>\n",
       "      <td>NaN</td>\n",
       "      <td>NaN</td>\n",
       "    </tr>\n",
       "    <tr>\n",
       "      <th>2018-05-01</th>\n",
       "      <td>NaN</td>\n",
       "      <td>NaN</td>\n",
       "      <td>NaN</td>\n",
       "      <td>NaN</td>\n",
       "      <td>99.665116</td>\n",
       "    </tr>\n",
       "    <tr>\n",
       "      <th>2018-06-01</th>\n",
       "      <td>NaN</td>\n",
       "      <td>48.672093</td>\n",
       "      <td>NaN</td>\n",
       "      <td>153.688372</td>\n",
       "      <td>69.304651</td>\n",
       "    </tr>\n",
       "    <tr>\n",
       "      <th>2018-08-01</th>\n",
       "      <td>NaN</td>\n",
       "      <td>NaN</td>\n",
       "      <td>NaN</td>\n",
       "      <td>NaN</td>\n",
       "      <td>110.016279</td>\n",
       "    </tr>\n",
       "  </tbody>\n",
       "</table>\n",
       "</div>"
      ],
      "text/plain": [
       "Customer    Customer 10  Customer 136  Customer 15  Customer 218  Customer 9\n",
       "Period                                                                      \n",
       "2018-02-01     82.25814           NaN          NaN           NaN   39.846512\n",
       "2018-03-01          NaN     98.911628          NaN           NaN         NaN\n",
       "2018-05-01          NaN           NaN          NaN           NaN   99.665116\n",
       "2018-06-01          NaN     48.672093          NaN    153.688372   69.304651\n",
       "2018-08-01          NaN           NaN          NaN           NaN  110.016279"
      ]
     },
     "execution_count": 277,
     "metadata": {},
     "output_type": "execute_result"
    }
   ],
   "source": [
    "df3_ = df25.pivot_table(index=\"Period\", columns=\"Customer\", values=\"Sales\", aggfunc=np.sum)\n",
    "df3_.head()"
   ]
  },
  {
   "cell_type": "code",
   "execution_count": null,
   "metadata": {},
   "outputs": [],
   "source": [
    "# preparing the dataframe and cut off 2018 with minor values of sales, which can \"confuse\" our models, as shown above"
   ]
  },
  {
   "cell_type": "code",
   "execution_count": 278,
   "metadata": {},
   "outputs": [],
   "source": [
    "df78=df3_.copy()\n",
    "df78 = df78[df78.index > '2018-12-01']"
   ]
  },
  {
   "cell_type": "code",
   "execution_count": null,
   "metadata": {},
   "outputs": [],
   "source": [
    "# We convert the date format to period format to use models from sktime library"
   ]
  },
  {
   "cell_type": "code",
   "execution_count": 279,
   "metadata": {},
   "outputs": [],
   "source": [
    "df78.index = df78.index.to_period(freq='M')\n",
    "df78.fillna(0.01, inplace=True)"
   ]
  },
  {
   "cell_type": "code",
   "execution_count": 280,
   "metadata": {},
   "outputs": [
    {
     "data": {
      "text/html": [
       "<div>\n",
       "<style scoped>\n",
       "    .dataframe tbody tr th:only-of-type {\n",
       "        vertical-align: middle;\n",
       "    }\n",
       "\n",
       "    .dataframe tbody tr th {\n",
       "        vertical-align: top;\n",
       "    }\n",
       "\n",
       "    .dataframe thead th {\n",
       "        text-align: right;\n",
       "    }\n",
       "</style>\n",
       "<table border=\"1\" class=\"dataframe\">\n",
       "  <thead>\n",
       "    <tr style=\"text-align: right;\">\n",
       "      <th>Customer</th>\n",
       "      <th>Customer 10</th>\n",
       "      <th>Customer 136</th>\n",
       "      <th>Customer 15</th>\n",
       "      <th>Customer 218</th>\n",
       "      <th>Customer 9</th>\n",
       "    </tr>\n",
       "    <tr>\n",
       "      <th>Period</th>\n",
       "      <th></th>\n",
       "      <th></th>\n",
       "      <th></th>\n",
       "      <th></th>\n",
       "      <th></th>\n",
       "    </tr>\n",
       "  </thead>\n",
       "  <tbody>\n",
       "    <tr>\n",
       "      <th>2019-01</th>\n",
       "      <td>123.704651</td>\n",
       "      <td>209.713953</td>\n",
       "      <td>187.962791</td>\n",
       "      <td>0.010000</td>\n",
       "      <td>895.490698</td>\n",
       "    </tr>\n",
       "    <tr>\n",
       "      <th>2019-02</th>\n",
       "      <td>46.283721</td>\n",
       "      <td>158.574419</td>\n",
       "      <td>0.010000</td>\n",
       "      <td>474.800000</td>\n",
       "      <td>1035.390698</td>\n",
       "    </tr>\n",
       "    <tr>\n",
       "      <th>2019-03</th>\n",
       "      <td>54.395349</td>\n",
       "      <td>94.381395</td>\n",
       "      <td>42.283721</td>\n",
       "      <td>1259.844186</td>\n",
       "      <td>1499.655814</td>\n",
       "    </tr>\n",
       "    <tr>\n",
       "      <th>2019-04</th>\n",
       "      <td>11.106977</td>\n",
       "      <td>352.988372</td>\n",
       "      <td>170.725581</td>\n",
       "      <td>455.293023</td>\n",
       "      <td>1133.016279</td>\n",
       "    </tr>\n",
       "    <tr>\n",
       "      <th>2019-05</th>\n",
       "      <td>0.010000</td>\n",
       "      <td>212.069767</td>\n",
       "      <td>142.588372</td>\n",
       "      <td>695.672093</td>\n",
       "      <td>661.774419</td>\n",
       "    </tr>\n",
       "  </tbody>\n",
       "</table>\n",
       "</div>"
      ],
      "text/plain": [
       "Customer  Customer 10  Customer 136  Customer 15  Customer 218   Customer 9\n",
       "Period                                                                     \n",
       "2019-01    123.704651    209.713953   187.962791      0.010000   895.490698\n",
       "2019-02     46.283721    158.574419     0.010000    474.800000  1035.390698\n",
       "2019-03     54.395349     94.381395    42.283721   1259.844186  1499.655814\n",
       "2019-04     11.106977    352.988372   170.725581    455.293023  1133.016279\n",
       "2019-05      0.010000    212.069767   142.588372    695.672093   661.774419"
      ]
     },
     "execution_count": 280,
     "metadata": {},
     "output_type": "execute_result"
    }
   ],
   "source": [
    "df78.head()"
   ]
  },
  {
   "cell_type": "code",
   "execution_count": null,
   "metadata": {},
   "outputs": [],
   "source": [
    "# let us select  customer 9. We do not show analysis for other products in order not to overload the whole project."
   ]
  },
  {
   "cell_type": "code",
   "execution_count": 281,
   "metadata": {},
   "outputs": [
    {
     "data": {
      "text/html": [
       "<div>\n",
       "<style scoped>\n",
       "    .dataframe tbody tr th:only-of-type {\n",
       "        vertical-align: middle;\n",
       "    }\n",
       "\n",
       "    .dataframe tbody tr th {\n",
       "        vertical-align: top;\n",
       "    }\n",
       "\n",
       "    .dataframe thead th {\n",
       "        text-align: right;\n",
       "    }\n",
       "</style>\n",
       "<table border=\"1\" class=\"dataframe\">\n",
       "  <thead>\n",
       "    <tr style=\"text-align: right;\">\n",
       "      <th>Customer</th>\n",
       "      <th>Customer 9</th>\n",
       "    </tr>\n",
       "    <tr>\n",
       "      <th>Period</th>\n",
       "      <th></th>\n",
       "    </tr>\n",
       "  </thead>\n",
       "  <tbody>\n",
       "    <tr>\n",
       "      <th>2019-01</th>\n",
       "      <td>895.490698</td>\n",
       "    </tr>\n",
       "    <tr>\n",
       "      <th>2019-02</th>\n",
       "      <td>1035.390698</td>\n",
       "    </tr>\n",
       "    <tr>\n",
       "      <th>2019-03</th>\n",
       "      <td>1499.655814</td>\n",
       "    </tr>\n",
       "    <tr>\n",
       "      <th>2019-04</th>\n",
       "      <td>1133.016279</td>\n",
       "    </tr>\n",
       "    <tr>\n",
       "      <th>2019-05</th>\n",
       "      <td>661.774419</td>\n",
       "    </tr>\n",
       "  </tbody>\n",
       "</table>\n",
       "</div>"
      ],
      "text/plain": [
       "Customer   Customer 9\n",
       "Period               \n",
       "2019-01    895.490698\n",
       "2019-02   1035.390698\n",
       "2019-03   1499.655814\n",
       "2019-04   1133.016279\n",
       "2019-05    661.774419"
      ]
     },
     "execution_count": 281,
     "metadata": {},
     "output_type": "execute_result"
    }
   ],
   "source": [
    "df78.drop(['Customer 10', 'Customer 136', 'Customer 15', 'Customer 218'], inplace=True, axis=1)\n",
    "df78.head()"
   ]
  },
  {
   "cell_type": "code",
   "execution_count": 282,
   "metadata": {},
   "outputs": [
    {
     "data": {
      "text/plain": [
       "Period\n",
       "2019-01     895.490698\n",
       "2019-02    1035.390698\n",
       "2019-03    1499.655814\n",
       "2019-04    1133.016279\n",
       "2019-05     661.774419\n",
       "2019-06     512.351163\n",
       "2019-07     543.462791\n",
       "2019-08    1059.720930\n",
       "2019-09    1216.265116\n",
       "2019-10    1234.225581\n",
       "2019-11     646.416279\n",
       "2019-12     565.623256\n",
       "2020-01    1182.560465\n",
       "2020-02    1474.774419\n",
       "2020-03    1498.118605\n",
       "2020-04    2675.481395\n",
       "2020-05     650.600000\n",
       "2020-06     682.718605\n",
       "2020-07    1699.467442\n",
       "2020-08     722.311628\n",
       "2020-09    1010.858140\n",
       "2020-10    3269.313953\n",
       "2020-11     401.904651\n",
       "2020-12     698.711628\n",
       "Freq: M, Name: Customer 9, dtype: float64"
      ]
     },
     "execution_count": 282,
     "metadata": {},
     "output_type": "execute_result"
    }
   ],
   "source": [
    "y3 = df78.squeeze()\n",
    "y3"
   ]
  },
  {
   "cell_type": "code",
   "execution_count": null,
   "metadata": {},
   "outputs": [],
   "source": [
    "# first we teach our model on real sales. Here we make y_test and y_train equal to all data to be able \n",
    "# to calculate the errors of our models"
   ]
  },
  {
   "cell_type": "code",
   "execution_count": 283,
   "metadata": {},
   "outputs": [],
   "source": [
    "y_train, y_test = y3,y3"
   ]
  },
  {
   "cell_type": "code",
   "execution_count": null,
   "metadata": {},
   "outputs": [],
   "source": [
    "# we will use 4 models as above"
   ]
  },
  {
   "cell_type": "code",
   "execution_count": null,
   "metadata": {},
   "outputs": [],
   "source": [
    "# performing fit and prediction"
   ]
  },
  {
   "cell_type": "code",
   "execution_count": 284,
   "metadata": {},
   "outputs": [
    {
     "name": "stdout",
     "output_type": "stream",
     "text": [
      "0.34487557286585774\n",
      "0.24817547783738955\n",
      "0.24580144032162968\n",
      "0.2192396332876572\n"
     ]
    }
   ],
   "source": [
    "fh = ForecastingHorizon(y.index, is_relative=False)\n",
    "\n",
    "forecaster1 = ExponentialSmoothing(trend=\"add\", seasonal=\"additive\", sp=12)\n",
    "forecaster2 = ThetaForecaster(sp=12)\n",
    "forecaster3 = BATS(sp=12, use_trend=True, use_box_cox=False)\n",
    "forecaster4 = AutoETS(auto=True, sp=12, n_jobs=-1)\n",
    "\n",
    "\n",
    "forecaster1.fit(y_train)\n",
    "forecaster2.fit(y_train)\n",
    "forecaster3.fit(y_train)\n",
    "forecaster4.fit(y_train)\n",
    "\n",
    "# y_pred will contain the predictions\n",
    "y_pred1 = forecaster1.predict(fh)\n",
    "y_pred2 = forecaster2.predict(fh)\n",
    "y_pred3 = forecaster3.predict(fh)\n",
    "y_pred4 = forecaster4.predict(fh)\n",
    "\n",
    "print(mean_absolute_percentage_error(y_pred1, y_test))\n",
    "print(mean_absolute_percentage_error(y_pred2, y_test))\n",
    "print(mean_absolute_percentage_error(y_pred3, y_test))\n",
    "print(mean_absolute_percentage_error(y_pred4, y_test))"
   ]
  },
  {
   "cell_type": "code",
   "execution_count": 286,
   "metadata": {},
   "outputs": [
    {
     "data": {
      "text/plain": [
       "(<Figure size 864x216 with 1 Axes>, <AxesSubplot:ylabel='Customer 9'>)"
      ]
     },
     "execution_count": 286,
     "metadata": {},
     "output_type": "execute_result"
    },
    {
     "data": {
      "image/png": "[encoded data removed]",
      "text/plain": [
       "<Figure size 864x216 with 1 Axes>"
      ]
     },
     "metadata": {},
     "output_type": "display_data"
    }
   ],
   "source": [
    "# plotting for illustration\n",
    "\n",
    "plot_series(y3, y_pred1, y_pred2, y_pred3, y_pred4, labels=[\"Real sales\", \"Exp.smoothing\", \"ThetaForecaster\", \"BATS\", \"AutoETS\"])"
   ]
  },
  {
   "cell_type": "code",
   "execution_count": null,
   "metadata": {},
   "outputs": [],
   "source": [
    "# making the forecast for the next 24 months"
   ]
  },
  {
   "cell_type": "code",
   "execution_count": 288,
   "metadata": {},
   "outputs": [
    {
     "data": {
      "text/plain": [
       "(<Figure size 864x216 with 1 Axes>, <AxesSubplot:ylabel='Customer 9'>)"
      ]
     },
     "execution_count": 288,
     "metadata": {},
     "output_type": "execute_result"
    },
    {
     "data": {
      "image/png": "[encoded data removed]",
      "text/plain": [
       "<Figure size 864x216 with 1 Axes>"
      ]
     },
     "metadata": {},
     "output_type": "display_data"
    }
   ],
   "source": [
    "fh = np.arange(1, 24)\n",
    "y_pred1 = forecaster1.predict(fh)\n",
    "y_pred2 = forecaster2.predict(fh)\n",
    "y_pred3 = forecaster3.predict(fh)\n",
    "y_pred4 = forecaster3.predict(fh)\n",
    "\n",
    "\n",
    "plot_series(y3, y_pred1, y_pred2, y_pred3, y_pred4, labels=[\"Real sales\", \"Exp.smoothing\", \"ThetaForecaster\", \"BATS\", \"AutoETS\"])"
   ]
  },
  {
   "cell_type": "markdown",
   "metadata": {},
   "source": [
    "### **Sales forecast conclusions:**"
   ]
  },
  {
   "cell_type": "markdown",
   "metadata": {},
   "source": [
    "#### 1. Here we focused on the Customers from A category.\n",
    "#### 2. For our analysis we selected 1 Customer from the group. For the rest customers the procedure might be done in the same way.\n",
    "#### 3. Here we used models offered by sktime library, such as Exponential smoothing, Thetaforecaster, BATS, and Auto ETS.  These models are aimed to work with time series, which is our case.\n",
    "#### 4. Qualitative analysis of the obtained foresasts shows the presence of periodic sales maxima with general positive inclination. These results are in the good agreement with forecasts obtained in the previous section.\n",
    "#### 5. Despite the similarity in learning reuslts, models provided the different forecasts. Exponential smoothing, BATS, and Auto ETS provide consistent results. The forecast of Thetaforecaster differs by absolute values."
   ]
  }
 ],
 "metadata": {
  "kernelspec": {
   "display_name": "Python 3",
   "language": "python",
   "name": "python3"
  },
  "language_info": {
   "codemirror_mode": {
    "name": "ipython",
    "version": 3
   },
   "file_extension": ".py",
   "mimetype": "text/x-python",
   "name": "python",
   "nbconvert_exporter": "python",
   "pygments_lexer": "ipython3",
   "version": "3.8.5"
  }
 },
 "nbformat": 4,
 "nbformat_minor": 4
}
