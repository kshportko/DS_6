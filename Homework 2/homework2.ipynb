{
 "cells": [
  {
   "cell_type": "markdown",
   "metadata": {},
   "source": [
    "Завдання 2 Задано деякий пароль Pass (str). Перевірити чи пароль \"сильний\" \n",
    "    (пароль будемо вважати \"сильним\", якщо він складається з 8 символів (або більше) та містить символ @ або # )\n",
    "    Програма повертає True або False"
   ]
  },
  {
   "cell_type": "code",
   "execution_count": null,
   "metadata": {},
   "outputs": [],
   "source": [
    "p= input('Enter password ')\n",
    "if (len(p)>8) and (('@' in p) or ('#' in p)):\n",
    "    s=True\n",
    "else:\n",
    "    s=False\n",
    "print(s)\n",
    "\n",
    "    \n"
   ]
  },
  {
   "cell_type": "markdown",
   "metadata": {},
   "source": [
    "Завдання 3\n",
    "    Дано деякий символ Char. Вивести символи, що ідуть перед та після символу Char в кодовій таблиці ASCII"
   ]
  },
  {
   "cell_type": "code",
   "execution_count": null,
   "metadata": {},
   "outputs": [],
   "source": [
    "char= input('Enter symbol ')\n",
    "i= int(input('What to print? (1) Symbols before or (2) Symols after '))\n",
    "if i==1:\n",
    "    for j in range(0,ord(char)-1):\n",
    "        print(j, chr(j))\n",
    "elif i==2:\n",
    "    for j in range(ord(char)+1, 255):\n",
    "        print(j, chr(j))\n",
    "else:\n",
    "        print('Please make a correct choice: 1 or 2')\n",
    "    "
   ]
  },
  {
   "cell_type": "markdown",
   "metadata": {},
   "source": [
    "Завдання 4\n",
    "    Дана стрічка, що складається із двох слів розділених пробілом.\n",
    "    Слова та порядок букв в словах поміняйте місцями.\n",
    "    (Наприклад, \"One Two\" --> \"owT enO\")\n"
   ]
  },
  {
   "cell_type": "code",
   "execution_count": 20,
   "metadata": {},
   "outputs": [
    {
     "name": "stdout",
     "output_type": "stream",
     "text": [
      "Enter 2 words 123 098\n",
      "890 321\n"
     ]
    }
   ],
   "source": [
    "s= input('Enter 2 words ')\n",
    "print(s[::-1])"
   ]
  },
  {
   "cell_type": "code",
   "execution_count": null,
   "metadata": {},
   "outputs": [],
   "source": []
  },
  {
   "cell_type": "code",
   "execution_count": null,
   "metadata": {},
   "outputs": [],
   "source": []
  }
 ],
 "metadata": {
  "kernelspec": {
   "display_name": "Python 3",
   "language": "python",
   "name": "python3"
  },
  "language_info": {
   "codemirror_mode": {
    "name": "ipython",
    "version": 3
   },
   "file_extension": ".py",
   "mimetype": "text/x-python",
   "name": "python",
   "nbconvert_exporter": "python",
   "pygments_lexer": "ipython3",
   "version": "3.8.5"
  }
 },
 "nbformat": 4,
 "nbformat_minor": 4
}
