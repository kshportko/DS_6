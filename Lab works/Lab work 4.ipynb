{
 "cells": [
  {
   "cell_type": "markdown",
   "metadata": {},
   "source": [
    "___\n",
    "\n",
    "<a href='https://mainacademy.ua/'> <img src='https://mainacademy.ua/wp-content/uploads/2019/03/logo-main.png' alt = 'Хмм, щось з інтернетом'/></a>\n",
    "___\n",
    "\n",
    "# Module 4: Work with data professionally!"
   ]
  },
  {
   "cell_type": "markdown",
   "metadata": {},
   "source": [
    "## Lab work 4\n",
    "\n"
   ]
  },
  {
   "cell_type": "markdown",
   "metadata": {},
   "source": [
    "#### Мета: \n",
    "\n",
    "* навчитися обробляти дані\n",
    "* \"парсити\" сайти"
   ]
  },
  {
   "cell_type": "markdown",
   "metadata": {},
   "source": [
    "### Завдання 1:"
   ]
  },
  {
   "cell_type": "markdown",
   "metadata": {},
   "source": [
    "#### Ознайомитися із API Національного банку \n",
    "https://old.bank.gov.ua/control/uk/publish/article?art_id=38441973&cat_id=38459171#exchange\n",
    "\n"
   ]
  },
  {
   "cell_type": "markdown",
   "metadata": {},
   "source": [
    "1. Підключитися до API.\n"
   ]
  },
  {
   "cell_type": "code",
   "execution_count": 1,
   "metadata": {},
   "outputs": [],
   "source": [
    "from datetime import datetime, timedelta\n",
    "\n",
    "\n",
    "import requests\n",
    "\n",
    "BASE = {} \n",
    "\n",
    "def con_to_api(date):\n",
    "    param = {'date' : date.strftime('%Y%m%d'), 'valcode' : 'USD'}\n",
    "    r = requests.get('https://bank.gov.ua/NBUStatService/v1/statdirectory/exchange?json', params=param)\n",
    "    if r.status_code == 200:\n",
    "        return r.json()[0]['rate']\n",
    "    return None\n",
    "\n",
    "\n",
    "def union_info(qty):\n",
    "    \n",
    "    date = datetime.today()\n",
    "    \n",
    "    for i in range(qty):\n",
    "        date = date - timedelta(days=1)\n",
    "        rate = con_to_api(date)\n",
    "        BASE[date.date().isoformat()] = rate"
   ]
  },
  {
   "cell_type": "markdown",
   "metadata": {},
   "source": [
    "2. Отримати курс долара за останній рік."
   ]
  },
  {
   "cell_type": "code",
   "execution_count": 2,
   "metadata": {},
   "outputs": [
    {
     "name": "stdout",
     "output_type": "stream",
     "text": [
      "{'2021-04-15': 27.9765, '2021-04-14': 28.0156, '2021-04-13': 27.9335, '2021-04-12': 27.9094, '2021-04-11': 27.9768, '2021-04-10': 27.9768, '2021-04-09': 27.9768, '2021-04-08': 27.8923, '2021-04-07': 27.8384, '2021-04-06': 27.939, '2021-04-05': 27.9555, '2021-04-04': 27.8324, '2021-04-03': 27.8324, '2021-04-02': 27.8324, '2021-04-01': 27.8226, '2021-03-31': 27.8852, '2021-03-30': 27.9694, '2021-03-29': 27.9679, '2021-03-28': 27.9698, '2021-03-27': 27.9698, '2021-03-26': 27.9698, '2021-03-25': 27.8706, '2021-03-24': 27.7295, '2021-03-23': 27.6871, '2021-03-22': 27.7184, '2021-03-21': 27.6828, '2021-03-20': 27.6828, '2021-03-19': 27.6828, '2021-03-18': 27.6978, '2021-03-17': 27.6525, '2021-03-16': 27.6434, '2021-03-15': 27.7305, '2021-03-14': 27.7486, '2021-03-13': 27.7486, '2021-03-12': 27.7486, '2021-03-11': 27.7016, '2021-03-10': 27.7431, '2021-03-09': 27.7091, '2021-03-08': 27.7564, '2021-03-07': 27.7564, '2021-03-06': 27.7564, '2021-03-05': 27.7564, '2021-03-04': 27.8477, '2021-03-03': 27.933, '2021-03-02': 28.0007, '2021-03-01': 27.9456, '2021-02-28': 27.9301, '2021-02-27': 27.9301, '2021-02-26': 27.9301, '2021-02-25': 27.9492, '2021-02-24': 27.8976, '2021-02-23': 27.9304, '2021-02-22': 27.8468, '2021-02-21': 27.8461, '2021-02-20': 27.8461, '2021-02-19': 27.8461, '2021-02-18': 27.9038, '2021-02-17': 27.8304, '2021-02-16': 27.9671, '2021-02-15': 27.844, '2021-02-14': 27.8384, '2021-02-13': 27.8384, '2021-02-12': 27.8384, '2021-02-11': 27.7665, '2021-02-10': 27.6426, '2021-02-09': 27.6651, '2021-02-08': 27.7711, '2021-02-07': 27.8885, '2021-02-06': 27.8885, '2021-02-05': 27.8885, '2021-02-04': 27.995, '2021-02-03': 28.0589, '2021-02-02': 28.0603, '2021-02-01': 28.1324, '2021-01-31': 28.1929, '2021-01-30': 28.1929, '2021-01-29': 28.1929, '2021-01-28': 28.1652, '2021-01-27': 28.1524, '2021-01-26': 28.1665, '2021-01-25': 28.1648, '2021-01-24': 28.2561, '2021-01-23': 28.2561, '2021-01-22': 28.2561, '2021-01-21': 28.2035, '2021-01-20': 28.1544, '2021-01-19': 28.1926, '2021-01-18': 28.0524, '2021-01-17': 28.0524, '2021-01-16': 28.0524, '2021-01-15': 28.0609, '2021-01-14': 27.9705, '2021-01-13': 28.046, '2021-01-12': 28.2038, '2021-01-11': 28.2847, '2021-01-10': 28.4028, '2021-01-09': 28.4028, '2021-01-08': 28.4028, '2021-01-07': 28.4028, '2021-01-06': 28.4028, '2021-01-05': 28.431, '2021-01-04': 28.2746, '2021-01-03': 28.2746, '2021-01-02': 28.2746, '2021-01-01': 28.2746, '2020-12-31': 28.2746, '2020-12-30': 28.2605, '2020-12-29': 28.3668, '2020-12-28': 28.3547, '2020-12-27': 28.4551, '2020-12-26': 28.4551, '2020-12-25': 28.4551, '2020-12-24': 28.4551, '2020-12-23': 28.2513, '2020-12-22': 28.0391, '2020-12-21': 27.828, '2020-12-20': 27.8184, '2020-12-19': 27.8184, '2020-12-18': 27.8184, '2020-12-17': 27.7373, '2020-12-16': 27.759, '2020-12-15': 27.8661, '2020-12-14': 27.9666, '2020-12-13': 28.075, '2020-12-12': 28.075, '2020-12-11': 28.075, '2020-12-10': 28.0406, '2020-12-09': 28.0828, '2020-12-08': 28.2394, '2020-12-07': 28.2913, '2020-12-06': 28.3038, '2020-12-05': 28.3038, '2020-12-04': 28.3038, '2020-12-03': 28.4367, '2020-12-02': 28.5583, '2020-12-01': 28.4962, '2020-11-30': 28.4681, '2020-11-29': 28.4428, '2020-11-28': 28.4428, '2020-11-27': 28.4428, '2020-11-26': 28.3816, '2020-11-25': 28.3741, '2020-11-24': 28.3694, '2020-11-23': 28.3553, '2020-11-22': 28.2572, '2020-11-21': 28.2572, '2020-11-20': 28.2572, '2020-11-19': 28.13, '2020-11-18': 28.1067, '2020-11-17': 28.112, '2020-11-16': 28.1158, '2020-11-15': 28.1963, '2020-11-14': 28.1963, '2020-11-13': 28.1963, '2020-11-12': 28.161, '2020-11-11': 28.1206, '2020-11-10': 28.1116, '2020-11-09': 28.1375, '2020-11-08': 28.3643, '2020-11-07': 28.3643, '2020-11-06': 28.3643, '2020-11-05': 28.5074, '2020-11-04': 28.6, '2020-11-03': 28.5827, '2020-11-02': 28.4507, '2020-11-01': 28.4383, '2020-10-31': 28.4383, '2020-10-30': 28.4383, '2020-10-29': 28.3989, '2020-10-28': 28.3655, '2020-10-27': 28.3352, '2020-10-26': 28.2911, '2020-10-25': 28.265, '2020-10-24': 28.265, '2020-10-23': 28.265, '2020-10-22': 28.2737, '2020-10-21': 28.3707, '2020-10-20': 28.3762, '2020-10-19': 28.3649, '2020-10-18': 28.3365, '2020-10-17': 28.3365, '2020-10-16': 28.3365, '2020-10-15': 28.3164, '2020-10-14': 28.2481, '2020-10-13': 28.2481, '2020-10-12': 28.2098, '2020-10-11': 28.2836, '2020-10-10': 28.2836, '2020-10-09': 28.2836, '2020-10-08': 28.324, '2020-10-07': 28.3639, '2020-10-06': 28.4009, '2020-10-05': 28.3408, '2020-10-04': 28.3343, '2020-10-03': 28.3343, '2020-10-02': 28.3343, '2020-10-01': 28.3105, '2020-09-30': 28.2989, '2020-09-29': 28.3062, '2020-09-28': 28.2673, '2020-09-27': 28.2487, '2020-09-26': 28.2487, '2020-09-25': 28.2487, '2020-09-24': 28.1874, '2020-09-23': 28.2059, '2020-09-22': 28.2022, '2020-09-21': 28.1718, '2020-09-20': 28.1127, '2020-09-19': 28.1127, '2020-09-18': 28.1127, '2020-09-17': 28.1195, '2020-09-16': 28.0556, '2020-09-15': 28.0003, '2020-09-14': 27.9003, '2020-09-13': 27.8346, '2020-09-12': 27.8346, '2020-09-11': 27.8346, '2020-09-10': 27.8296, '2020-09-09': 27.8032, '2020-09-08': 27.7509, '2020-09-07': 27.7325, '2020-09-06': 27.6908, '2020-09-05': 27.6908, '2020-09-04': 27.6908, '2020-09-03': 27.6428, '2020-09-02': 27.6049, '2020-09-01': 27.5618, '2020-08-31': 27.4759, '2020-08-30': 27.4615, '2020-08-29': 27.4615, '2020-08-28': 27.4615, '2020-08-27': 27.386, '2020-08-26': 27.4383, '2020-08-25': 27.3942, '2020-08-24': 27.4812, '2020-08-23': 27.4812, '2020-08-22': 27.4812, '2020-08-21': 27.4812, '2020-08-20': 27.316, '2020-08-19': 27.2297, '2020-08-18': 27.3061, '2020-08-17': 27.3474, '2020-08-16': 27.4083, '2020-08-15': 27.4083, '2020-08-14': 27.4083, '2020-08-13': 27.5266, '2020-08-12': 27.5982, '2020-08-11': 27.6007, '2020-08-10': 27.6486, '2020-08-09': 27.6793, '2020-08-08': 27.6793, '2020-08-07': 27.6793, '2020-08-06': 27.7028, '2020-08-05': 27.8225, '2020-08-04': 27.7365, '2020-08-03': 27.6798, '2020-08-02': 27.6913, '2020-08-01': 27.6913, '2020-07-31': 27.6913, '2020-07-30': 27.6867, '2020-07-29': 27.6851, '2020-07-28': 27.7571, '2020-07-27': 27.7559, '2020-07-26': 27.8779, '2020-07-25': 27.8779, '2020-07-24': 27.8779, '2020-07-23': 27.7798, '2020-07-22': 27.6647, '2020-07-21': 27.6011, '2020-07-20': 27.3606, '2020-07-19': 27.2738, '2020-07-18': 27.2738, '2020-07-17': 27.2738, '2020-07-16': 27.119, '2020-07-15': 27.1436, '2020-07-14': 27.0883, '2020-07-13': 26.9505, '2020-07-12': 26.9335, '2020-07-11': 26.9335, '2020-07-10': 26.9335, '2020-07-09': 26.9514, '2020-07-08': 26.9309, '2020-07-07': 27.1269, '2020-07-06': 27.1716, '2020-07-05': 27.1801, '2020-07-04': 27.1801, '2020-07-03': 27.1801, '2020-07-02': 26.77, '2020-07-01': 26.6676, '2020-06-30': 26.6922, '2020-06-29': 26.7002, '2020-06-28': 26.7002, '2020-06-27': 26.7002, '2020-06-26': 26.7002, '2020-06-25': 26.6509, '2020-06-24': 26.6078, '2020-06-23': 26.6695, '2020-06-22': 26.7207, '2020-06-21': 26.7633, '2020-06-20': 26.7633, '2020-06-19': 26.7633, '2020-06-18': 26.776, '2020-06-17': 26.7424, '2020-06-16': 26.844, '2020-06-15': 26.7303, '2020-06-14': 26.5999, '2020-06-13': 26.5999, '2020-06-12': 26.5999, '2020-06-11': 26.6367, '2020-06-10': 26.6412, '2020-06-09': 26.6005, '2020-06-08': 26.6953, '2020-06-07': 26.6953, '2020-06-06': 26.6953, '2020-06-05': 26.6953, '2020-06-04': 26.7544, '2020-06-03': 26.7955, '2020-06-02': 26.8181, '2020-06-01': 26.8685, '2020-05-31': 26.9059, '2020-05-30': 26.9059, '2020-05-29': 26.9059, '2020-05-28': 27.0002, '2020-05-27': 26.9029, '2020-05-26': 26.8742, '2020-05-25': 26.7556, '2020-05-24': 26.7699, '2020-05-23': 26.7699, '2020-05-22': 26.7699, '2020-05-21': 26.5854, '2020-05-20': 26.5159, '2020-05-19': 26.571, '2020-05-18': 26.638, '2020-05-17': 26.6792, '2020-05-16': 26.6792, '2020-05-15': 26.6792, '2020-05-14': 26.6897, '2020-05-13': 26.7947, '2020-05-12': 26.8196, '2020-05-11': 26.8185, '2020-05-10': 26.8185, '2020-05-09': 26.8185, '2020-05-08': 26.8185, '2020-05-07': 26.9323, '2020-05-06': 26.9774, '2020-05-05': 26.9749, '2020-05-04': 26.9592, '2020-05-03': 26.9714, '2020-05-02': 26.9714, '2020-05-01': 26.9714, '2020-04-30': 26.9714, '2020-04-29': 27.0485, '2020-04-28': 27.1025, '2020-04-27': 27.1441, '2020-04-26': 27.0137, '2020-04-25': 27.0137, '2020-04-24': 27.0137, '2020-04-23': 27.0536, '2020-04-22': 27.0815, '2020-04-21': 27.0774, '2020-04-20': 27.2022, '2020-04-19': 27.2022, '2020-04-18': 27.2022, '2020-04-17': 27.2022, '2020-04-16': 27.2219}\n"
     ]
    }
   ],
   "source": [
    "union_info(365)\n",
    "print(BASE)"
   ]
  },
  {
   "cell_type": "markdown",
   "metadata": {},
   "source": [
    "3. Вивести середнє значення та відхилення курсу за кожний місяць."
   ]
  },
  {
   "cell_type": "code",
   "execution_count": 3,
   "metadata": {},
   "outputs": [
    {
     "name": "stdout",
     "output_type": "stream",
     "text": [
      "Середні значення по місяцям:\n",
      "{4: 27.91, 3: 27.8, 2: 27.88, 1: 28.22, 12: 28.17, 11: 28.31, 10: 28.32, 9: 27.98, 8: 27.52, 7: 27.31, 6: 26.71, 5: 26.81}\n",
      "Середньоквадратичні відхилення по місяцям:\n",
      "{4: 0.06, 3: 0.11, 2: 0.1, 1: 0.12, 12: 0.25, 11: 0.15, 10: 0.05, 9: 0.24, 8: 0.15, 7: 0.36, 6: 0.07, 5: 0.13}\n"
     ]
    }
   ],
   "source": [
    "from statistics import pstdev, mean\n",
    "\n",
    "def month_list():\n",
    "    res=[]\n",
    "    date = datetime.today()\n",
    "    for i in range(0,12):\n",
    "        if i<date.month:\n",
    "            res.append(date.month-i)\n",
    "        else:\n",
    "            res.append(date.month-i+12)\n",
    "            \n",
    "    return res\n",
    "    \n",
    "\n",
    "\n",
    "ml=(month_list())\n",
    "MEAN={}\n",
    "SDEV={}\n",
    "for j in ml:\n",
    "    lisst=[]\n",
    "    for i in BASE:\n",
    "        \n",
    "        if int(i[5:7])==j:\n",
    "            if int(i[5:7])==4 and int(i[0:4])==2021:\n",
    "                lisst.append(BASE[i])\n",
    "            elif int(i[5:7])!=4:\n",
    "                lisst.append(BASE[i])\n",
    "         \n",
    "    MEAN[j]=round(mean(lisst),2)\n",
    "    SDEV[j]=round(pstdev(lisst),2)\n",
    "print('Середні значення по місяцям:')\n",
    "print(MEAN)\n",
    "print('Середньоквадратичні відхилення по місяцям:')\n",
    "print(SDEV)"
   ]
  },
  {
   "cell_type": "markdown",
   "metadata": {},
   "source": [
    "4. Дану інформацію записати у файл за допомогою pickle."
   ]
  },
  {
   "cell_type": "code",
   "execution_count": 7,
   "metadata": {},
   "outputs": [
    {
     "name": "stdout",
     "output_type": "stream",
     "text": [
      "What to write in the file: 1-Exchange rate for the last year, 2-Average rate per month, 3-Standard deviation per month ?3\n"
     ]
    }
   ],
   "source": [
    "import pickle \n",
    "\n",
    "choice=int(input('What to write in the file: 1-Exchange rate for the last year, 2-Average rate per month, 3-Standard deviation per month ?'))\n",
    "\n",
    "if choice==1:\n",
    "    with open('year_rate.pickle', 'wb') as f:\n",
    "        pickle.dump(BASE, f)\n",
    "elif choice==2:\n",
    "    with open('average_month.pickle', 'wb') as f:\n",
    "        pickle.dump(MEAN, f)\n",
    "elif choice==3:\n",
    "    with open('deviat_month.pickle', 'wb') as f:\n",
    "        pickle.dump(SDEV, f)"
   ]
  },
  {
   "cell_type": "markdown",
   "metadata": {},
   "source": [
    "### Завдання 2:"
   ]
  },
  {
   "cell_type": "markdown",
   "metadata": {},
   "source": [
    "Потрібно проаналізувати всі товари на сайті: \n",
    "https://smallpacking.agrosem.ua/shop/"
   ]
  },
  {
   "cell_type": "markdown",
   "metadata": {},
   "source": [
    "Створіть базу даних, що містить таблицю із такими стовбцями: \n",
    "    - артикул товару\n",
    "    - найменування\n",
    "    - ціна \n",
    "    - вага"
   ]
  },
  {
   "cell_type": "code",
   "execution_count": 11,
   "metadata": {},
   "outputs": [],
   "source": [
    "HEADERS = {\n",
    "            'User-Agent': 'Mozilla/5.0 (Windows NT 6.1; WOW64; rv:49.0) Gecko/20100101 Firefox/49.0',\n",
    "            'Accept': 'text/html,application/xhtml+xml,application/xml;q=0.9,*/*;q=0.8',\n",
    "            'Accept-Language': 'en-US,en;q=0.5',\n",
    "            'Accept-Encoding': 'gzip, deflate',\n",
    "            'DNT': '1',\n",
    "            'Connection': 'keep-alive',\n",
    "            'Upgrade-Insecure-Requests': '1',\n",
    "          }"
   ]
  },
  {
   "cell_type": "code",
   "execution_count": 17,
   "metadata": {},
   "outputs": [
    {
     "name": "stdout",
     "output_type": "stream",
     "text": [
      "[(439226, 'Добриво для фруктових та горіхових дерев', 415, '1 кг, 3 кг '), (1297, 'Добриво для ягідних чагарників', 415, '1 кг, 3 кг '), (91897, 'Добриво для ягідних чагарників', 173, '1 кг, 3 кг '), (61169, 'Добриво універсальне грунтове', 173, '1 кг, 10 кг, 3 кг '), (6651824, 'Добриво універсальне грунтове', 415, '1 кг, 10 кг, 3 кг '), (5227876, 'Добриво універсальне грунтове', 1149, '1 кг, 10 кг, 3 кг '), (32237, 'Добриво для декоративних листових', 415, '1 кг, 3 кг '), (4165215, 'Добриво для вічнозелених дерев та кущів', 1149, '1 кг, 10 кг, 3 кг '), (682645, 'Добриво універсальне грунтове', 415, '1 кг, 10 кг, 3 кг '), (7435, 'Добриво універсальне грунтове', 173, '1 кг, 10 кг, 3 кг '), (9354141, 'Добриво для газону', 415, '1 кг, 10 кг, 3 кг '), (1955, 'Добриво для вічнозелених дерев та кущів', 173, '1 кг, 10 кг, 3 кг '), (455799, 'Добриво для газону', 173, '1 кг, 10 кг, 3 кг '), (991645, 'Добриво для декоративних листових', 173, '1 кг, 3 кг '), (17477, 'Добриво універсальне грунтове', 1149, '1 кг, 10 кг, 3 кг '), (7143174, 'Добриво для газону', 415, '1 кг, 10 кг, 3 кг '), (3593, 'Добриво для полуниці', 173, '1 кг '), (4738184, 'Добриво для вічнозелених дерев та кущів', 415, '1 кг, 10 кг, 3 кг '), (3177412, 'Добриво для фруктових та горіхових дерев', 173, '1 кг, 3 кг '), (16762, 'Добриво для газону', 1149, '1 кг, 10 кг, 3 кг '), (78747, 'Добриво для декоративних листових', 415, '1 кг, 3 кг '), (5218, 'Добриво для вічнозелених дерев та кущів', 1149, '1 кг, 10 кг, 3 кг '), (33486, 'Добриво для декоративних листових', 173, '1 кг, 3 кг '), (198742, 'Добриво для овочів', 415, '1 кг, 3 кг '), (797756, 'Добриво для винограду', 173, '1 кг '), (726319, 'Добриво для вічнозелених дерев та кущів', 415, '1 кг, 10 кг, 3 кг '), (789868, 'Добриво для газону', 155, '1 кг, 10 кг, 3 кг '), (88255, 'Добриво для овочів', 173, '1 кг, 3 кг '), (68183, 'Добриво для розсади', 173, '1 кг '), (5656841, 'Добриво для тепличних овочів', 415, '1 кг, 3 кг '), (2217672, 'Добриво для троянд', 173, '1 кг '), (8362626, 'Добриво для вічнозелених дерев та кущів', 155, '1 кг, 10 кг, 3 кг '), (375738, 'Добриво для газону', 1149, '1 кг, 10 кг, 3 кг '), (51561, 'Добриво для тепличних овочів', 173, '1 кг, 3 кг ')]\n"
     ]
    }
   ],
   "source": [
    "import requests, sqlite3\n",
    "from bs4 import BeautifulSoup\n",
    "\n",
    "BASE=[]\n",
    "\n",
    "link=['','page/2/','page/3/']\n",
    "for l in link:\n",
    "    \n",
    "    SITE = 'https://smallpacking.agrosem.ua/shop/'+l\n",
    "\n",
    "    r = requests.get(SITE, headers=HEADERS)\n",
    "\n",
    "    if r.status_code == 200:\n",
    "        soup = BeautifulSoup(r.text, 'lxml')\n",
    "        for el in soup.find_all('div', class_='product-from-category-container'):\n",
    "            el2=el.find('a')\n",
    "            r2 = requests.get(el2.get('href'), headers=HEADERS)\n",
    "            soup2 = BeautifulSoup(r2.text, 'lxml')\n",
    "            ID=int(soup2.find('span', class_='sku').text[5:])\n",
    "            name=soup2.find('div', class_='atributes-description').find('h2').text\n",
    "            p=soup2.find('span', class_='regular-price').text[0:-4]\n",
    "            if ' ' in p:\n",
    "                i=p.find(' ', 0,-1)\n",
    "                price=int(p[:i]+p[i+1:])\n",
    "            else:\n",
    "                price=int(p)\n",
    "                \n",
    "            weight=soup2.find('tr', class_='woocommerce-product-attributes-item woocommerce-product-attributes-item--attribute_pa_fasovka-dobriv').find('td', class_='woocommerce-product-attributes-item__value').text\n",
    "            BASE.append((ID,name, price, weight))\n",
    "           \n",
    "print(BASE)            "
   ]
  },
  {
   "cell_type": "code",
   "execution_count": 18,
   "metadata": {},
   "outputs": [],
   "source": [
    "conn=sqlite3.connect('db_shop.sqlite3')\n",
    "curs=conn.cursor()\n",
    "curs.execute(\"CREATE TABLE dobriva2(dobriva_id INT PRIMARY KEY, name TEXT, price DECIMAL(8,2), weight TEXT)\")\n",
    "conn.close()   "
   ]
  },
  {
   "cell_type": "code",
   "execution_count": 20,
   "metadata": {},
   "outputs": [],
   "source": [
    "conn=sqlite3.connect('db_shop.sqlite3')\n",
    "curs=conn.cursor()\n",
    "\n",
    "for i in range(len(BASE)):\n",
    "    s=\"INSERT INTO dobriva2 VALUES (?,?,?,?)\"\n",
    "    curs.execute(s, BASE[i])\n",
    "\n",
    "conn.commit()\n",
    "conn.close()   "
   ]
  },
  {
   "cell_type": "code",
   "execution_count": 21,
   "metadata": {},
   "outputs": [
    {
     "name": "stdout",
     "output_type": "stream",
     "text": [
      "[(439226, 'Добриво для фруктових та горіхових дерев', 415, '1 кг, 3 кг '), (1297, 'Добриво для ягідних чагарників', 415, '1 кг, 3 кг '), (91897, 'Добриво для ягідних чагарників', 173, '1 кг, 3 кг '), (61169, 'Добриво універсальне грунтове', 173, '1 кг, 10 кг, 3 кг '), (6651824, 'Добриво універсальне грунтове', 415, '1 кг, 10 кг, 3 кг '), (5227876, 'Добриво універсальне грунтове', 1149, '1 кг, 10 кг, 3 кг '), (32237, 'Добриво для декоративних листових', 415, '1 кг, 3 кг '), (4165215, 'Добриво для вічнозелених дерев та кущів', 1149, '1 кг, 10 кг, 3 кг '), (682645, 'Добриво універсальне грунтове', 415, '1 кг, 10 кг, 3 кг '), (7435, 'Добриво універсальне грунтове', 173, '1 кг, 10 кг, 3 кг '), (9354141, 'Добриво для газону', 415, '1 кг, 10 кг, 3 кг '), (1955, 'Добриво для вічнозелених дерев та кущів', 173, '1 кг, 10 кг, 3 кг '), (455799, 'Добриво для газону', 173, '1 кг, 10 кг, 3 кг '), (991645, 'Добриво для декоративних листових', 173, '1 кг, 3 кг '), (17477, 'Добриво універсальне грунтове', 1149, '1 кг, 10 кг, 3 кг '), (7143174, 'Добриво для газону', 415, '1 кг, 10 кг, 3 кг '), (3593, 'Добриво для полуниці', 173, '1 кг '), (4738184, 'Добриво для вічнозелених дерев та кущів', 415, '1 кг, 10 кг, 3 кг '), (3177412, 'Добриво для фруктових та горіхових дерев', 173, '1 кг, 3 кг '), (16762, 'Добриво для газону', 1149, '1 кг, 10 кг, 3 кг '), (78747, 'Добриво для декоративних листових', 415, '1 кг, 3 кг '), (5218, 'Добриво для вічнозелених дерев та кущів', 1149, '1 кг, 10 кг, 3 кг '), (33486, 'Добриво для декоративних листових', 173, '1 кг, 3 кг '), (198742, 'Добриво для овочів', 415, '1 кг, 3 кг '), (797756, 'Добриво для винограду', 173, '1 кг '), (726319, 'Добриво для вічнозелених дерев та кущів', 415, '1 кг, 10 кг, 3 кг '), (789868, 'Добриво для газону', 155, '1 кг, 10 кг, 3 кг '), (88255, 'Добриво для овочів', 173, '1 кг, 3 кг '), (68183, 'Добриво для розсади', 173, '1 кг '), (5656841, 'Добриво для тепличних овочів', 415, '1 кг, 3 кг '), (2217672, 'Добриво для троянд', 173, '1 кг '), (8362626, 'Добриво для вічнозелених дерев та кущів', 155, '1 кг, 10 кг, 3 кг '), (375738, 'Добриво для газону', 1149, '1 кг, 10 кг, 3 кг '), (51561, 'Добриво для тепличних овочів', 173, '1 кг, 3 кг ')]\n"
     ]
    }
   ],
   "source": [
    "conn=sqlite3.connect('db_shop.sqlite3')\n",
    "curs=conn.cursor()\n",
    "\n",
    "script=\"\"\"SELECT * \n",
    "          FROM dobriva2 \n",
    "          ;\"\"\"\n",
    "res = conn.execute(script)\n",
    "print(res.fetchall())\n",
    "for name in res:\n",
    "    print(name[0])\n",
    "conn.close()"
   ]
  },
  {
   "cell_type": "markdown",
   "metadata": {},
   "source": [
    "### Завдання 3: "
   ]
  },
  {
   "cell_type": "markdown",
   "metadata": {},
   "source": [
    "Ознайомтеся із роботою SQLite та відповідним модулем у Python.\n",
    "Завантажте базу даних для виконання лабораторної роботи.\n",
    "Підключіться до завантаженої бази SQLite."
   ]
  },
  {
   "cell_type": "markdown",
   "metadata": {},
   "source": [
    "1. Виведіть інформацію про дану базу."
   ]
  },
  {
   "cell_type": "code",
   "execution_count": 9,
   "metadata": {},
   "outputs": [
    {
     "name": "stdout",
     "output_type": "stream",
     "text": [
      "Customers\n",
      "(0, 'cust_id', 'char(10)', 1, None, 1)\n",
      "(1, 'cust_name', 'char(50)', 1, None, 0)\n",
      "(2, 'cust_address', 'char(50)', 0, None, 0)\n",
      "(3, 'cust_city', 'char(50)', 0, None, 0)\n",
      "(4, 'cust_state', 'char(5)', 0, None, 0)\n",
      "(5, 'cust_zip', 'char(10)', 0, None, 0)\n",
      "(6, 'cust_country', 'char(50)', 0, None, 0)\n",
      "(7, 'cust_contact', 'char(50)', 0, None, 0)\n",
      "(8, 'cust_email', 'char(255)', 0, None, 0)\n",
      "OrderItems\n",
      "(0, 'order_num', 'int', 1, None, 1)\n",
      "(1, 'order_item', 'int', 1, None, 2)\n",
      "(2, 'prod_id', 'char(10)', 1, None, 0)\n",
      "(3, 'quantity', 'int', 1, None, 0)\n",
      "(4, 'item_price', 'decimal(8,2)', 1, None, 0)\n",
      "Orders\n",
      "(0, 'order_num', 'int', 1, None, 1)\n",
      "(1, 'order_date', 'datetime', 1, None, 0)\n",
      "(2, 'cust_id', 'char(10)', 1, None, 0)\n",
      "Products\n",
      "(0, 'prod_id', 'char(10)', 1, None, 1)\n",
      "(1, 'vend_id', 'char(10)', 1, None, 0)\n",
      "(2, 'prod_name', 'char(255)', 1, None, 0)\n",
      "(3, 'prod_price', 'decimal(8,2)', 1, None, 0)\n",
      "(4, 'prod_desc', 'text', 0, None, 0)\n",
      "Vendors\n",
      "(0, 'vend_id', 'char(10)', 1, None, 1)\n",
      "(1, 'vend_name', 'char(50)', 1, None, 0)\n",
      "(2, 'vend_address', 'char(50)', 0, None, 0)\n",
      "(3, 'vend_city', 'char(50)', 0, None, 0)\n",
      "(4, 'vend_state', 'char(5)', 0, None, 0)\n",
      "(5, 'vend_zip', 'char(10)', 0, None, 0)\n",
      "(6, 'vend_country', 'char(50)', 0, None, 0)\n"
     ]
    }
   ],
   "source": [
    "import sqlite3\n",
    "\n",
    "conn=sqlite3.connect('tysql.sqlite')\n",
    "curs=conn.cursor()\n",
    "tables=[]\n",
    "script=\"\"\"SELECT name \n",
    "          FROM sqlite_master \n",
    "          WHERE type='table';\"\"\"\n",
    "res = conn.execute(script)\n",
    "for name in res:\n",
    "    tables.append(name[0])\n",
    "for i in range(len(tables)):    \n",
    "    print(tables[i])\n",
    "    name=tables[i]\n",
    "    s=f\"pragma table_info({name});\"\n",
    "    curs.execute(s)\n",
    "    while True:\n",
    "        next_row = curs.fetchone()\n",
    "        if next_row:\n",
    "            print(next_row)\n",
    "        else:\n",
    "            break"
   ]
  },
  {
   "cell_type": "markdown",
   "metadata": {},
   "source": [
    "2. Виведіть перелік всіх таблиць."
   ]
  },
  {
   "cell_type": "code",
   "execution_count": 25,
   "metadata": {},
   "outputs": [
    {
     "name": "stdout",
     "output_type": "stream",
     "text": [
      "Customers\n",
      "OrderItems\n",
      "Orders\n",
      "Products\n",
      "Vendors\n"
     ]
    }
   ],
   "source": [
    "script=\"\"\"SELECT name \n",
    "          FROM sqlite_master \n",
    "          WHERE type='table';\"\"\"\n",
    "res = conn.execute(script)\n",
    "for name in res:\n",
    "    print(name[0])"
   ]
  },
  {
   "cell_type": "markdown",
   "metadata": {},
   "source": [
    "3. Список всіх cust_id з таблиці Customers table."
   ]
  },
  {
   "cell_type": "code",
   "execution_count": 17,
   "metadata": {},
   "outputs": [
    {
     "name": "stdout",
     "output_type": "stream",
     "text": [
      "[('1000000001',), ('1000000002',), ('1000000003',), ('1000000004',), ('1000000005',)]\n"
     ]
    }
   ],
   "source": [
    "script=\"\"\"SELECT cust_id \n",
    "          FROM Customers \n",
    "          ;\"\"\"\n",
    "res = conn.execute(script)\n",
    "print(res.fetchall())\n",
    "for name in res:\n",
    "    print(name[0])"
   ]
  },
  {
   "cell_type": "markdown",
   "metadata": {},
   "source": [
    "4. Всю таблицю Customers table"
   ]
  },
  {
   "cell_type": "code",
   "execution_count": 12,
   "metadata": {},
   "outputs": [
    {
     "name": "stdout",
     "output_type": "stream",
     "text": [
      "('1000000001', 'Village Toys', '200 Maple Lane', 'Detroit', 'MI', '44444', 'USA', 'John Smith', 'sales@villagetoys.com')\n",
      "('1000000002', 'Kids Place', '333 South Lake Drive', 'Columbus', 'OH', '43333', 'USA', 'Michelle Green', None)\n",
      "('1000000003', 'Fun4All', '1 Sunny Place', 'Muncie', 'IN', '42222', 'USA', 'Jim Jones', 'jjones@fun4all.com')\n",
      "('1000000004', 'Fun4All', '829 Riverside Drive', 'Phoenix', 'AZ', '88888', 'USA', 'Denise L. Stephens', 'dstephens@fun4all.com')\n",
      "('1000000005', 'The Toy Store', '4545 53rd Street', 'Chicago', 'IL', '54545', 'USA', 'Kim Howard', None)\n"
     ]
    }
   ],
   "source": [
    "curs.execute(\"\"\"SELECT * \n",
    "                FROM Customers;\"\"\")\n",
    "while True:\n",
    "    next_row = curs.fetchone()\n",
    "    if next_row:\n",
    "        print(next_row)\n",
    "    else:\n",
    "        break\n",
    "\n"
   ]
  },
  {
   "cell_type": "markdown",
   "metadata": {},
   "source": [
    "5. Список клієнтів (cust_names) відсортованих від Z до A"
   ]
  },
  {
   "cell_type": "code",
   "execution_count": 24,
   "metadata": {},
   "outputs": [
    {
     "name": "stdout",
     "output_type": "stream",
     "text": [
      "('Village Toys',)\n",
      "('The Toy Store',)\n",
      "('Kids Place',)\n",
      "('Fun4All',)\n",
      "('Fun4All',)\n"
     ]
    }
   ],
   "source": [
    "curs.execute(\"\"\"SELECT cust_name \n",
    "                FROM Customers\n",
    "                ORDER BY cust_name DESC;\"\"\")\n",
    "while True:\n",
    "    next_row = curs.fetchone()\n",
    "    if next_row:\n",
    "        print(next_row)\n",
    "    else:\n",
    "        break\n"
   ]
  },
  {
   "cell_type": "markdown",
   "metadata": {},
   "source": [
    "6. Таблицю клієнтів та замовлень (cust_id і order_num) . Відсортуйте по клієнту і потім по даті замовлення"
   ]
  },
  {
   "cell_type": "code",
   "execution_count": 28,
   "metadata": {},
   "outputs": [
    {
     "name": "stdout",
     "output_type": "stream",
     "text": [
      "('1000000001', 20009)\n",
      "('1000000001', 20005)\n",
      "('1000000003', 20006)\n",
      "('1000000004', 20007)\n",
      "('1000000005', 20008)\n"
     ]
    }
   ],
   "source": [
    "curs.execute(\"\"\"SELECT cust_id, order_num \n",
    "                FROM Orders\n",
    "                ORDER BY cust_id, order_date;\"\"\")\n",
    "while True:\n",
    "    next_row = curs.fetchone()\n",
    "    if next_row:\n",
    "        print(next_row)\n",
    "    else:\n",
    "        break"
   ]
  },
  {
   "cell_type": "markdown",
   "metadata": {},
   "source": [
    "7. Таблицю (на основі Items) з кількість та вартістю товару. Відсортуйте в порядку спадання по кількості та вартості"
   ]
  },
  {
   "cell_type": "code",
   "execution_count": 33,
   "metadata": {},
   "outputs": [
    {
     "name": "stdout",
     "output_type": "stream",
     "text": [
      "(250, 2.49)\n",
      "(250, 2.49)\n",
      "(250, 2.49)\n",
      "(100, 10.99)\n",
      "(100, 5.49)\n",
      "(100, 2.99)\n",
      "(100, 2.99)\n",
      "(100, 2.99)\n",
      "(50, 11.49)\n",
      "(50, 4.49)\n",
      "(20, 5.99)\n",
      "(10, 11.99)\n",
      "(10, 8.99)\n",
      "(10, 3.49)\n",
      "(10, 3.49)\n",
      "(10, 3.49)\n",
      "(5, 11.99)\n",
      "(5, 4.99)\n"
     ]
    }
   ],
   "source": [
    "curs.execute(\"\"\"SELECT quantity, item_price\n",
    "                FROM OrderItems\n",
    "                ORDER BY quantity DESC, item_price DESC;\"\"\")\n",
    "while True:\n",
    "    next_row = curs.fetchone()\n",
    "    if next_row:\n",
    "        print(next_row)\n",
    "    else:\n",
    "        break"
   ]
  },
  {
   "cell_type": "markdown",
   "metadata": {},
   "source": [
    "8. Товар (з таблиці Products), ціна якого становить 9.49"
   ]
  },
  {
   "cell_type": "code",
   "execution_count": 35,
   "metadata": {},
   "outputs": [
    {
     "name": "stdout",
     "output_type": "stream",
     "text": [
      "('King doll', 9.49)\n",
      "('Queen doll', 9.49)\n"
     ]
    }
   ],
   "source": [
    "curs.execute(\"\"\"SELECT prod_name, prod_price\n",
    "                FROM Products\n",
    "                WHERE prod_price=9.49;\"\"\")\n",
    "while True:\n",
    "    next_row = curs.fetchone()\n",
    "    if next_row:\n",
    "        print(next_row)\n",
    "    else:\n",
    "        break\n",
    "        "
   ]
  },
  {
   "cell_type": "markdown",
   "metadata": {},
   "source": [
    "9. Виведіть назву товару та ціну, яка лежить в діапазоні від  3 до 6. Відсортуйте результат в по ціні в порядку зростання"
   ]
  },
  {
   "cell_type": "code",
   "execution_count": 37,
   "metadata": {},
   "outputs": [
    {
     "name": "stdout",
     "output_type": "stream",
     "text": [
      "('Fish bean bag toy', 3.49)\n",
      "('Raggedy Ann', 4.99)\n",
      "('8 inch teddy bear', 5.99)\n"
     ]
    }
   ],
   "source": [
    "curs.execute(\"\"\"SELECT prod_name, prod_price\n",
    "                FROM Products\n",
    "                WHERE prod_price>3 AND prod_price<6\n",
    "                GROUP BY prod_price;\"\"\")\n",
    "while True:\n",
    "    next_row = curs.fetchone()\n",
    "    if next_row:\n",
    "        print(next_row)\n",
    "    else:\n",
    "        break"
   ]
  },
  {
   "cell_type": "markdown",
   "metadata": {},
   "source": [
    "10. Кількість товару, що було продано"
   ]
  },
  {
   "cell_type": "code",
   "execution_count": 60,
   "metadata": {},
   "outputs": [
    {
     "name": "stdout",
     "output_type": "stream",
     "text": [
      "(1430,)\n"
     ]
    }
   ],
   "source": [
    "curs.execute(\"\"\"SELECT SUM(quantity)\n",
    "                FROM OrderItems;\"\"\")\n",
    "while True:\n",
    "    next_row = curs.fetchone()\n",
    "    if next_row:\n",
    "        print(next_row)\n",
    "    else:\n",
    "        break"
   ]
  },
  {
   "cell_type": "markdown",
   "metadata": {},
   "source": [
    "11. Кількість найменувань товару, ціна якого більша за 4"
   ]
  },
  {
   "cell_type": "code",
   "execution_count": 39,
   "metadata": {},
   "outputs": [
    {
     "name": "stdout",
     "output_type": "stream",
     "text": [
      "(6,)\n"
     ]
    }
   ],
   "source": [
    "curs.execute(\"\"\"SELECT COUNT(prod_price)\n",
    "                FROM Products\n",
    "                WHERE prod_price>4;\"\"\")\n",
    "while True:\n",
    "    next_row = curs.fetchone()\n",
    "    if next_row:\n",
    "        print(next_row)\n",
    "    else:\n",
    "        break"
   ]
  },
  {
   "cell_type": "markdown",
   "metadata": {},
   "source": [
    "12. Розробіть алгоритм для виведення 3 найдорожчих товарів в базі"
   ]
  },
  {
   "cell_type": "code",
   "execution_count": 79,
   "metadata": {},
   "outputs": [
    {
     "name": "stdout",
     "output_type": "stream",
     "text": [
      "('12 inch teddy bear', 8.99)\n",
      "('King doll', 9.49)\n",
      "('18 inch teddy bear', 11.99)\n"
     ]
    }
   ],
   "source": [
    "curs.execute(\"\"\"SELECT prod_name, prod_price \n",
    "                FROM Products\n",
    "                GROUP BY prod_price\n",
    "                HAVING prod_price IN (SELECT DISTINCT prod_price \n",
    "                                     FROM Products\n",
    "                                     ORDER BY prod_price DESC LIMIT 3)\n",
    "                             \n",
    "                ;\"\"\")\n",
    "while True:\n",
    "    next_row = curs.fetchone()\n",
    "    if next_row:\n",
    "        print(next_row)\n",
    "    else:\n",
    "        break"
   ]
  },
  {
   "cell_type": "markdown",
   "metadata": {},
   "source": [
    "13. Підрахуйте кількість замовлень для кожного клієнта використовуючи підзапити"
   ]
  },
  {
   "cell_type": "code",
   "execution_count": 24,
   "metadata": {},
   "outputs": [
    {
     "name": "stdout",
     "output_type": "stream",
     "text": [
      "('1000000001', 2)\n",
      "('1000000002', 0)\n",
      "('1000000003', 1)\n",
      "('1000000004', 1)\n",
      "('1000000005', 1)\n"
     ]
    }
   ],
   "source": [
    "curs.execute(\"\"\"SELECT cust_id, COUNT(order_num)\n",
    "                FROM (SELECT Customers.cust_id, Orders.order_num\n",
    "                      FROM Customers\n",
    "                      LEFT JOIN Orders ON Customers.cust_id=Orders.cust_id) as t1\n",
    "                GROUP BY cust_id;\"\"\")\n",
    "\n",
    "while True:\n",
    "    next_row = curs.fetchone()\n",
    "    if next_row:\n",
    "        print(next_row)\n",
    "    else:\n",
    "        break"
   ]
  },
  {
   "cell_type": "markdown",
   "metadata": {},
   "source": [
    "14. Виведіть список клієнтів та їх замовлення (використайте JOIN)"
   ]
  },
  {
   "cell_type": "code",
   "execution_count": 25,
   "metadata": {},
   "outputs": [
    {
     "name": "stdout",
     "output_type": "stream",
     "text": [
      "('Village Toys', 20005, '2012-05-01')\n",
      "('Fun4All', 20006, '2012-01-12')\n",
      "('Fun4All', 20007, '2012-01-30')\n",
      "('The Toy Store', 20008, '2012-02-03')\n",
      "('Village Toys', 20009, '2012-02-08')\n"
     ]
    }
   ],
   "source": [
    "curs.execute(\"\"\"SELECT cust_name, order_num, order_date\n",
    "                FROM Orders\n",
    "                JOIN Customers ON Orders.cust_id=Customers.cust_id;\"\"\")\n",
    "while True:\n",
    "    next_row = curs.fetchone()\n",
    "    if next_row:\n",
    "        print(next_row)\n",
    "    else:\n",
    "        break"
   ]
  },
  {
   "cell_type": "markdown",
   "metadata": {},
   "source": [
    "15. Зробіть два запити: список товарів, ціна яких менша 5 та список товарів, ціна який більша рівна 5. Використайте UNION для об'єднання цих запитів"
   ]
  },
  {
   "cell_type": "code",
   "execution_count": 28,
   "metadata": {},
   "outputs": [
    {
     "name": "stdout",
     "output_type": "stream",
     "text": [
      "('Bird bean bag toy', 3.49)\n",
      "('Fish bean bag toy', 3.49)\n",
      "('Rabbit bean bag toy', 3.49)\n",
      "('Raggedy Ann', 4.99)\n",
      "('8 inch teddy bear', 5.99)\n",
      "('12 inch teddy bear', 8.99)\n",
      "('King doll', 9.49)\n",
      "('Queen doll', 9.49)\n",
      "('18 inch teddy bear', 11.99)\n"
     ]
    }
   ],
   "source": [
    "curs.execute(\"\"\"SELECT prod_name, prod_price\n",
    "                FROM Products\n",
    "                WHERE prod_price<5\n",
    "                UNION\n",
    "                SELECT prod_name, prod_price\n",
    "                FROM Products\n",
    "                WHERE prod_price>=5\n",
    "                ORDER BY prod_price\n",
    "                ;\"\"\")\n",
    "while True:\n",
    "    next_row = curs.fetchone()\n",
    "    if next_row:\n",
    "        print(next_row)\n",
    "    else:\n",
    "        break"
   ]
  },
  {
   "cell_type": "markdown",
   "metadata": {},
   "source": [
    "### Завдання 4: "
   ]
  },
  {
   "cell_type": "markdown",
   "metadata": {},
   "source": [
    "Зареєструйтеся на сайті  http://www.sql-ex.ru/\n",
    "\n",
    "Виконайте завдання із блоку SELECT; з 1 по 30 завдання\n",
    "\n",
    "Код запитів вставляйте сюди\n"
   ]
  },
  {
   "cell_type": "markdown",
   "metadata": {},
   "source": [
    "1"
   ]
  },
  {
   "cell_type": "code",
   "execution_count": null,
   "metadata": {},
   "outputs": [],
   "source": [
    "SELECT model, speed, hd\n",
    "FROM PC\n",
    "WHERE price<500"
   ]
  },
  {
   "cell_type": "markdown",
   "metadata": {},
   "source": [
    "2"
   ]
  },
  {
   "cell_type": "code",
   "execution_count": null,
   "metadata": {},
   "outputs": [],
   "source": [
    "SELECT DISTINCT Maker\n",
    "FROM Product\n",
    "WHERE type='Printer'"
   ]
  },
  {
   "cell_type": "markdown",
   "metadata": {},
   "source": [
    "3"
   ]
  },
  {
   "cell_type": "code",
   "execution_count": null,
   "metadata": {},
   "outputs": [],
   "source": [
    "SELECT model,ram, screen\n",
    "FROM Laptop\n",
    "WHERE price>1000"
   ]
  },
  {
   "cell_type": "markdown",
   "metadata": {},
   "source": [
    "4"
   ]
  },
  {
   "cell_type": "code",
   "execution_count": null,
   "metadata": {},
   "outputs": [],
   "source": [
    "SELECT *\n",
    "FROM Printer\n",
    "WHERE color='y'"
   ]
  },
  {
   "cell_type": "markdown",
   "metadata": {},
   "source": [
    "5"
   ]
  },
  {
   "cell_type": "code",
   "execution_count": null,
   "metadata": {},
   "outputs": [],
   "source": [
    "SELECT model, speed, hd\n",
    "FROM PC\n",
    "WHERE cd in ('12x','24x') AND price<600"
   ]
  },
  {
   "cell_type": "markdown",
   "metadata": {},
   "source": [
    "6"
   ]
  },
  {
   "cell_type": "code",
   "execution_count": null,
   "metadata": {},
   "outputs": [],
   "source": [
    "SELECT DISTINCT Product.maker, Laptop.speed\n",
    "FROM Product\n",
    "INNER JOIN Laptop ON Product.model=Laptop.model\n",
    "WHERE Laptop.hd>=10"
   ]
  },
  {
   "cell_type": "markdown",
   "metadata": {},
   "source": [
    "7"
   ]
  },
  {
   "cell_type": "code",
   "execution_count": null,
   "metadata": {},
   "outputs": [],
   "source": [
    "SELECT Product.model, Laptop.price\n",
    "FROM Product\n",
    "JOIN Laptop ON Product.model=Laptop.model\n",
    "WHERE maker='B'\n",
    "UNION\n",
    "SELECT Product.model, PC.price\n",
    "FROM Product\n",
    "JOIN PC ON Product.model=PC.model\n",
    "WHERE maker='B'\n",
    "UNION\n",
    "SELECT Product.model, Printer.price\n",
    "FROM Product\n",
    "JOIN Printer ON Product.model=Printer.model\n",
    "WHERE maker='B"
   ]
  },
  {
   "cell_type": "markdown",
   "metadata": {},
   "source": [
    "8"
   ]
  },
  {
   "cell_type": "code",
   "execution_count": null,
   "metadata": {},
   "outputs": [],
   "source": [
    "SELECT DISTINCT maker\n",
    "FROM Product\n",
    "WHERE type = 'PC' AND maker NOT IN \n",
    "(SELECT maker\n",
    " FROM Product\n",
    "WHERE type = 'Laptop')"
   ]
  },
  {
   "cell_type": "markdown",
   "metadata": {},
   "source": [
    "9"
   ]
  },
  {
   "cell_type": "code",
   "execution_count": null,
   "metadata": {},
   "outputs": [],
   "source": [
    "SELECT DISTINCT maker as MAKER\n",
    "FROM PC\n",
    "JOIN Product ON PC.model=Product.model\n",
    "WHERE speed>=450"
   ]
  },
  {
   "cell_type": "markdown",
   "metadata": {},
   "source": [
    "10"
   ]
  },
  {
   "cell_type": "code",
   "execution_count": null,
   "metadata": {},
   "outputs": [],
   "source": [
    "SELECT model, price\n",
    "FROM Printer\n",
    "WHERE price IN (SELECT MAX(price)\n",
    "FROM Printer)"
   ]
  },
  {
   "cell_type": "markdown",
   "metadata": {},
   "source": [
    "11"
   ]
  },
  {
   "cell_type": "code",
   "execution_count": null,
   "metadata": {},
   "outputs": [],
   "source": [
    "SELECT AVG(speed)\n",
    "FROM PC"
   ]
  },
  {
   "cell_type": "markdown",
   "metadata": {},
   "source": [
    "12"
   ]
  },
  {
   "cell_type": "code",
   "execution_count": null,
   "metadata": {},
   "outputs": [],
   "source": [
    "SELECT AVG(speed) AS Avg_speed\n",
    "FROM \n",
    "(\n",
    "SELECT price, speed\n",
    "FROM Laptop\n",
    "WHERE price>1000\n",
    ") AS t1"
   ]
  },
  {
   "cell_type": "markdown",
   "metadata": {},
   "source": [
    "13"
   ]
  },
  {
   "cell_type": "code",
   "execution_count": null,
   "metadata": {},
   "outputs": [],
   "source": [
    "SELECT AVG(speed)\n",
    "FROM PC\n",
    "JOIN Product ON PC.model=Product.model\n",
    "WHERE maker='A'"
   ]
  },
  {
   "cell_type": "markdown",
   "metadata": {},
   "source": [
    "14"
   ]
  },
  {
   "cell_type": "code",
   "execution_count": null,
   "metadata": {},
   "outputs": [],
   "source": [
    "SELECT  Ships.class, name, country \n",
    "FROM Ships\n",
    "LEFT JOIN  Classes ON Ships.class=Classes.class\n",
    "WHERE numGuns>=10"
   ]
  },
  {
   "cell_type": "markdown",
   "metadata": {},
   "source": [
    "15"
   ]
  },
  {
   "cell_type": "code",
   "execution_count": null,
   "metadata": {},
   "outputs": [],
   "source": [
    "SELECT DISTINCT hd\n",
    "FROM PC\n",
    "GROUP BY hd\n",
    "HAVING COUNT(hd) > 1"
   ]
  },
  {
   "cell_type": "markdown",
   "metadata": {},
   "source": [
    "17"
   ]
  },
  {
   "cell_type": "code",
   "execution_count": null,
   "metadata": {},
   "outputs": [],
   "source": [
    "SELECT DISTINCT 'Laptop' AS type, model, speed\n",
    "FROM Laptop\n",
    "WHERE speed<(SELECT MIN(speed) FROM PC)"
   ]
  },
  {
   "cell_type": "markdown",
   "metadata": {},
   "source": [
    "19"
   ]
  },
  {
   "cell_type": "code",
   "execution_count": null,
   "metadata": {},
   "outputs": [],
   "source": [
    "SELECT maker, AVG(screen) AS Avg_screen\n",
    "FROM Laptop\n",
    "LEFT JOIN Product ON Laptop.model=product.model\n",
    "GROUP BY maker"
   ]
  },
  {
   "cell_type": "markdown",
   "metadata": {},
   "source": [
    "20"
   ]
  },
  {
   "cell_type": "code",
   "execution_count": null,
   "metadata": {},
   "outputs": [],
   "source": [
    "SELECT maker, COUNT(model) AS Models\n",
    "FROM Product\n",
    "WHERE type='PC'\n",
    "GROUP BY maker\n",
    "HAVING COUNT(model)>=3"
   ]
  },
  {
   "cell_type": "markdown",
   "metadata": {},
   "source": [
    "21"
   ]
  },
  {
   "cell_type": "code",
   "execution_count": null,
   "metadata": {},
   "outputs": [],
   "source": [
    "SELECT maker, MAX(price) AS Max_price\n",
    "FROM PC\n",
    "LEFT JOIN Product ON PC.model=product.model\n",
    "GROUP BY maker"
   ]
  },
  {
   "cell_type": "markdown",
   "metadata": {},
   "source": [
    "22"
   ]
  },
  {
   "cell_type": "code",
   "execution_count": null,
   "metadata": {},
   "outputs": [],
   "source": [
    "SELECT speed, AVG(price) AS Avg_price\n",
    "FROM PC\n",
    "GROUP BY speed\n",
    "HAVING speed>600"
   ]
  },
  {
   "cell_type": "markdown",
   "metadata": {},
   "source": [
    "23"
   ]
  },
  {
   "cell_type": "code",
   "execution_count": null,
   "metadata": {},
   "outputs": [],
   "source": [
    "SELECT maker\n",
    "FROM PC\n",
    "JOIN Product ON PC.model=Product.model\n",
    "WHERE speed>=750\n",
    "\n",
    "INTERSECT\n",
    "\n",
    "SELECT maker\n",
    "FROM Laptop\n",
    "JOIN Product ON Laptop.model=Product.model\n",
    "WHERE speed>=750"
   ]
  },
  {
   "cell_type": "markdown",
   "metadata": {},
   "source": [
    "27"
   ]
  },
  {
   "cell_type": "code",
   "execution_count": null,
   "metadata": {},
   "outputs": [],
   "source": [
    "SELECT maker, AVG(hd) AS avg_hd\n",
    "FROM Product\n",
    "JOIN PC on Product.model=PC.model\n",
    "\n",
    "WHERE maker IN (SELECT maker\n",
    " FROM Product\n",
    "WHERE type='Printer')\n",
    "GROUP BY maker"
   ]
  },
  {
   "cell_type": "markdown",
   "metadata": {},
   "source": [
    "28"
   ]
  },
  {
   "cell_type": "code",
   "execution_count": null,
   "metadata": {},
   "outputs": [],
   "source": [
    "SELECT COUNT(maker) AS qty\n",
    "FROM (SELECT maker, COUNT(model) as Model\n",
    "      FROM Product\n",
    "      GROUP BY maker) as T1\n",
    "\n",
    "WHERE Model=1"
   ]
  }
 ],
 "metadata": {
  "kernelspec": {
   "display_name": "Python 3",
   "language": "python",
   "name": "python3"
  },
  "language_info": {
   "codemirror_mode": {
    "name": "ipython",
    "version": 3
   },
   "file_extension": ".py",
   "mimetype": "text/x-python",
   "name": "python",
   "nbconvert_exporter": "python",
   "pygments_lexer": "ipython3",
   "version": "3.8.5"
  }
 },
 "nbformat": 4,
 "nbformat_minor": 2
}
