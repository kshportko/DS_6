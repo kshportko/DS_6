{
 "cells": [
  {
   "cell_type": "markdown",
   "metadata": {},
   "source": [
    "___\n",
    "\n",
    "<a href='https://mainacademy.ua/'> <img src='https://mainacademy.ua/wp-content/uploads/2019/03/logo-main.png' alt = 'Хмм, щось з інтернетом'/></a>\n",
    "___\n",
    "\n",
    "# Module 5: Data analysis with NumPy and Pandas"
   ]
  },
  {
   "cell_type": "markdown",
   "metadata": {},
   "source": [
    "## Lab work 5.1\n",
    "\n"
   ]
  },
  {
   "cell_type": "markdown",
   "metadata": {},
   "source": [
    "#### Мета: \n",
    "\n",
    "* навчитися працювати із бібліотекою NumPy в Python"
   ]
  },
  {
   "cell_type": "markdown",
   "metadata": {},
   "source": [
    "### Завдання:"
   ]
  },
  {
   "cell_type": "code",
   "execution_count": 1,
   "metadata": {},
   "outputs": [],
   "source": [
    "import numpy as np"
   ]
  },
  {
   "cell_type": "markdown",
   "metadata": {},
   "source": [
    "Вивести версію та конфігурацію бібліотеки:"
   ]
  },
  {
   "cell_type": "code",
   "execution_count": 2,
   "metadata": {},
   "outputs": [
    {
     "name": "stdout",
     "output_type": "stream",
     "text": [
      "1.19.2\n",
      "blas_mkl_info:\n",
      "    libraries = ['mkl_rt']\n",
      "    library_dirs = ['C:/ProgramData/Anaconda3\\\\Library\\\\lib']\n",
      "    define_macros = [('SCIPY_MKL_H', None), ('HAVE_CBLAS', None)]\n",
      "    include_dirs = ['C:/ProgramData/Anaconda3\\\\Library\\\\include']\n",
      "blas_opt_info:\n",
      "    libraries = ['mkl_rt']\n",
      "    library_dirs = ['C:/ProgramData/Anaconda3\\\\Library\\\\lib']\n",
      "    define_macros = [('SCIPY_MKL_H', None), ('HAVE_CBLAS', None)]\n",
      "    include_dirs = ['C:/ProgramData/Anaconda3\\\\Library\\\\include']\n",
      "lapack_mkl_info:\n",
      "    libraries = ['mkl_rt']\n",
      "    library_dirs = ['C:/ProgramData/Anaconda3\\\\Library\\\\lib']\n",
      "    define_macros = [('SCIPY_MKL_H', None), ('HAVE_CBLAS', None)]\n",
      "    include_dirs = ['C:/ProgramData/Anaconda3\\\\Library\\\\include']\n",
      "lapack_opt_info:\n",
      "    libraries = ['mkl_rt']\n",
      "    library_dirs = ['C:/ProgramData/Anaconda3\\\\Library\\\\lib']\n",
      "    define_macros = [('SCIPY_MKL_H', None), ('HAVE_CBLAS', None)]\n",
      "    include_dirs = ['C:/ProgramData/Anaconda3\\\\Library\\\\include']\n"
     ]
    }
   ],
   "source": [
    "print(np.__version__)\n",
    "np.show_config()\n"
   ]
  },
  {
   "cell_type": "markdown",
   "metadata": {},
   "source": [
    "Створити вектор з 10 елементів, заповнений одиницями:"
   ]
  },
  {
   "cell_type": "code",
   "execution_count": 3,
   "metadata": {},
   "outputs": [
    {
     "name": "stdout",
     "output_type": "stream",
     "text": [
      "[1. 1. 1. 1. 1. 1. 1. 1. 1. 1.]\n"
     ]
    }
   ],
   "source": [
    "x = np.ones(10) \n",
    "print(x)"
   ]
  },
  {
   "cell_type": "markdown",
   "metadata": {},
   "source": [
    "Створити вектор із значеннями від 0 до 10:"
   ]
  },
  {
   "cell_type": "code",
   "execution_count": 4,
   "metadata": {},
   "outputs": [
    {
     "name": "stdout",
     "output_type": "stream",
     "text": [
      "[ 0  1  2  3  4  5  6  7  8  9 10]\n"
     ]
    }
   ],
   "source": [
    "x = np.arange(0,11)\n",
    "print(x)"
   ]
  },
  {
   "cell_type": "markdown",
   "metadata": {},
   "source": [
    "Створити матрицю 5 на 5, заповнену нулями:"
   ]
  },
  {
   "cell_type": "code",
   "execution_count": 5,
   "metadata": {},
   "outputs": [
    {
     "name": "stdout",
     "output_type": "stream",
     "text": [
      "[[0. 0. 0. 0. 0.]\n",
      " [0. 0. 0. 0. 0.]\n",
      " [0. 0. 0. 0. 0.]\n",
      " [0. 0. 0. 0. 0.]\n",
      " [0. 0. 0. 0. 0.]]\n"
     ]
    }
   ],
   "source": [
    "x = np.zeros(25).reshape(5,5)\n",
    "print(x)"
   ]
  },
  {
   "cell_type": "markdown",
   "metadata": {},
   "source": [
    "Заповнити вектор з 20 елементів випадковими цілими числами. Знайти індекси ненульових елементів:"
   ]
  },
  {
   "cell_type": "code",
   "execution_count": 6,
   "metadata": {},
   "outputs": [
    {
     "name": "stdout",
     "output_type": "stream",
     "text": [
      "[3 0 2 5 1 0 5 2 9 2]\n",
      "(array([0, 2, 3, 4, 6, 7, 8, 9], dtype=int64),)\n"
     ]
    }
   ],
   "source": [
    "x = np.random.randint(0, 10, 10)\n",
    "print(x)\n",
    "nz = np.nonzero(x)\n",
    "print(nz)"
   ]
  },
  {
   "cell_type": "markdown",
   "metadata": {},
   "source": [
    "Для вектора із попередньої задачі знайти середнє значення, медіану, стандартне відхилення:"
   ]
  },
  {
   "cell_type": "code",
   "execution_count": 7,
   "metadata": {},
   "outputs": [
    {
     "name": "stdout",
     "output_type": "stream",
     "text": [
      "2.9\n",
      "2.0\n",
      "2.6248809496813372\n"
     ]
    }
   ],
   "source": [
    "m = x.mean()\n",
    "print(m)\n",
    "m = np.median(x)\n",
    "print(m)\n",
    "m = np.std(x)\n",
    "print(m)"
   ]
  },
  {
   "cell_type": "markdown",
   "metadata": {},
   "source": [
    "Створити дві матриці випадкових чисел розміром 4х2 та 2х2. Перемножити їх:"
   ]
  },
  {
   "cell_type": "code",
   "execution_count": 8,
   "metadata": {},
   "outputs": [
    {
     "name": "stdout",
     "output_type": "stream",
     "text": [
      "[[5 8]\n",
      " [5 7]\n",
      " [6 6]\n",
      " [7 0]]\n",
      "[[1 9]\n",
      " [2 5]]\n",
      "[[21 85]\n",
      " [19 80]\n",
      " [18 84]\n",
      " [ 7 63]]\n"
     ]
    }
   ],
   "source": [
    "x = np.random.randint(0, 10, (4, 2))\n",
    "y = np.random.randint(0, 10, (2, 2))\n",
    "print(x)\n",
    "print(y)\n",
    "prod = x.dot(y)\n",
    "print(prod)"
   ]
  },
  {
   "cell_type": "markdown",
   "metadata": {},
   "source": [
    "Результуючу матрицю із попередньої задачі перетворити у вектор. Знайти мінімальне та максимальне значення. \n",
    "\n",
    "Максимальне значення замінити на 0:"
   ]
  },
  {
   "cell_type": "code",
   "execution_count": 9,
   "metadata": {},
   "outputs": [
    {
     "name": "stdout",
     "output_type": "stream",
     "text": [
      "[21 85 19 80 18 84  7 63]\n",
      "7 85\n",
      "[21  0 19 80 18 84  7 63]\n"
     ]
    }
   ],
   "source": [
    "vect=np.reshape(prod, (1, 8))[0]\n",
    "print(vect)\n",
    "\n",
    "Zmin, Zmax = vect.min(), vect.max()\n",
    "print(Zmin, Zmax)\n",
    "\n",
    "vect[np.argmax(vect)]=0\n",
    "print(vect)\n"
   ]
  },
  {
   "cell_type": "markdown",
   "metadata": {},
   "source": [
    "Знайдіть кореляцію першого рядка матриці із попереднього завдання із іншими рядками:"
   ]
  },
  {
   "cell_type": "code",
   "execution_count": 12,
   "metadata": {},
   "outputs": [
    {
     "name": "stdout",
     "output_type": "stream",
     "text": [
      "[399]\n",
      "[378]\n",
      "[147]\n"
     ]
    }
   ],
   "source": [
    "first = prod[0] \n",
    "\n",
    "without_first = np.delete(prod, (0), axis=0) \n",
    "\n",
    "for i in without_first:                   \n",
    "    print(np.correlate(first, i))"
   ]
  },
  {
   "cell_type": "markdown",
   "metadata": {},
   "source": [
    "Дано матрицю. Знайти ранг матриці:"
   ]
  },
  {
   "cell_type": "code",
   "execution_count": 61,
   "metadata": {},
   "outputs": [
    {
     "name": "stdout",
     "output_type": "stream",
     "text": [
      "3\n"
     ]
    }
   ],
   "source": [
    "a = np.array([[ 1,  4, 5],\n",
    "              [7, 3, 2],\n",
    "              [9, 16, 1]])\n",
    "print(np.linalg.matrix_rank(a))"
   ]
  },
  {
   "cell_type": "markdown",
   "metadata": {},
   "source": [
    "Знайти визначник матриці:"
   ]
  },
  {
   "cell_type": "code",
   "execution_count": 62,
   "metadata": {},
   "outputs": [
    {
     "name": "stdout",
     "output_type": "stream",
     "text": [
      "440.0000000000002\n"
     ]
    }
   ],
   "source": [
    "print(np.linalg.det(a))"
   ]
  },
  {
   "cell_type": "markdown",
   "metadata": {},
   "source": [
    "Знайти власні значення та власні вектори матриці: "
   ]
  },
  {
   "cell_type": "code",
   "execution_count": 63,
   "metadata": {},
   "outputs": [
    {
     "name": "stdout",
     "output_type": "stream",
     "text": [
      "(array([-14.30540864,  -4.34740072,  23.65280936]), array([[ 0.15315575,  0.88160309,  0.44645191],\n",
      "       [ 0.63674998, -0.43353159,  0.6376518 ],\n",
      "       [-0.75570681, -0.18661821,  0.62775861]]))\n"
     ]
    }
   ],
   "source": [
    "print(np.linalg.eigh(a))"
   ]
  },
  {
   "cell_type": "markdown",
   "metadata": {},
   "source": [
    "Знайдіть число, що найчастіше зустрічається в масиві:"
   ]
  },
  {
   "cell_type": "code",
   "execution_count": 66,
   "metadata": {},
   "outputs": [
    {
     "name": "stdout",
     "output_type": "stream",
     "text": [
      "[4 3 0 6 2 0 9 8 6 6 7 3 6 9 0 4 7 9 0 9 4 9 9 2 5 8 5 5 7 0 7 5 1 7 9 8 6\n",
      " 8 3 7 2 3 0 8 7 8 8 4 5 6]\n",
      "7\n"
     ]
    }
   ],
   "source": [
    "a = np.random.randint(0,10,50)\n",
    "print(a)\n",
    "print(np.bincount(a).argmax())"
   ]
  },
  {
   "cell_type": "markdown",
   "metadata": {},
   "source": [
    "Виведіть лише парні числа, що діляться на 5:"
   ]
  },
  {
   "cell_type": "code",
   "execution_count": 17,
   "metadata": {},
   "outputs": [
    {
     "name": "stdout",
     "output_type": "stream",
     "text": [
      "[94 22 69 15 95 97 29 83 28 43 12 51 87 69 31 43 35 10 62 84 42 95 60 97\n",
      " 78 73  7 32 58 32 69 23 36 61 28 21 17 63 23 98 31 50 44 52 96 11 20 79\n",
      " 31  8]\n",
      "[10 60 50 20]\n"
     ]
    }
   ],
   "source": [
    "a = np.random.randint(0,100,50)\n",
    "print(a)\n",
    "a=np.array([a for a in a if (a % 2 == 0) and (a % 5 == 0) and (a != 0)])\n",
    "print(a) "
   ]
  },
  {
   "cell_type": "markdown",
   "metadata": {},
   "source": [
    "Розв'яжіть систему рівнянь:\n",
    "$$2x + 5y = 1 $$\n",
    "\n",
    "$$x - 10y = 3  $$\n",
    "   "
   ]
  },
  {
   "cell_type": "code",
   "execution_count": 84,
   "metadata": {},
   "outputs": [
    {
     "data": {
      "text/plain": [
       "array([ 1. , -0.2])"
      ]
     },
     "execution_count": 84,
     "metadata": {},
     "output_type": "execute_result"
    }
   ],
   "source": [
    "m = np.array([[2., 5.], [1., -10.]])\n",
    "v = np.array([1., 3.])\n",
    "np.linalg.solve(m, v)"
   ]
  }
 ],
 "metadata": {
  "kernelspec": {
   "display_name": "Python 3",
   "language": "python",
   "name": "python3"
  },
  "language_info": {
   "codemirror_mode": {
    "name": "ipython",
    "version": 3
   },
   "file_extension": ".py",
   "mimetype": "text/x-python",
   "name": "python",
   "nbconvert_exporter": "python",
   "pygments_lexer": "ipython3",
   "version": "3.8.5"
  }
 },
 "nbformat": 4,
 "nbformat_minor": 2
}
