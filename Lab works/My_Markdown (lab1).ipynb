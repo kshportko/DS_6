{
 "cells": [
  {
   "cell_type": "markdown",
   "metadata": {},
   "source": [
    "# 1. Markdown cells\n",
    "* Hi! Is it Main Academy?\n",
    "* All HTML tabs are supported\n",
    "* Моя сторінка на лінкедін [Лінкедін](https://www.linkedin.com/in/konstantin-shportko-b4181025/)\n",
    "\n",
    "# This is heading 1\n",
    "## This is heading 2\n",
    "Some colour gray text:\n",
    "> This is where we can bring quotes and present them nicely\n",
    "\n",
    "And this is a paraphraph about something important. Even math:  \n",
    "\n",
    "\\\\[ y_{axs} = \\sqrt{(}x_{axs}) \\\\]\n",
    "\n",
    "\n",
    "Or Python code example:\n",
    "```\n",
    "import math\n",
    "def foo():\n",
    "    return \"foo\"\n",
    "\n",
    "```\n"
   ]
  },
  {
   "cell_type": "markdown",
   "metadata": {},
   "source": [
    "* Here is the sample mean:\n",
    "\\\\[ \\overline y = \\frac {1}{n} \\displaystyle\\sum_{i=1}^{n} y_i \\\\]\n",
    "* Here is the sample variance:\n",
    "\\\\[ \\sigma ^2 = \\frac {\\displaystyle\\sum_{i=1}^{n} (y_i-\\overline y)^2}{n-1}  \\\\]\n",
    "* Here is the sample standart deviation:\n",
    "\\\\[ \\sigma = \\sqrt{\\frac {\\displaystyle\\sum_{i=1}^{n} (y_i-\\overline y)^2}{n-1} } \\\\]"
   ]
  }
 ],
 "metadata": {
  "kernelspec": {
   "display_name": "Python 3",
   "language": "python",
   "name": "python3"
  },
  "language_info": {
   "codemirror_mode": {
    "name": "ipython",
    "version": 3
   },
   "file_extension": ".py",
   "mimetype": "text/x-python",
   "name": "python",
   "nbconvert_exporter": "python",
   "pygments_lexer": "ipython3",
   "version": "3.8.5"
  }
 },
 "nbformat": 4,
 "nbformat_minor": 4
}
