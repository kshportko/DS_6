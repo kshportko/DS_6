{
 "cells": [
  {
   "cell_type": "code",
   "execution_count": 40,
   "metadata": {},
   "outputs": [
    {
     "name": "stdout",
     "output_type": "stream",
     "text": [
      "What to calculate? 1 - the sample mean, 2 - the sample variance, 3 - the sample standart deviation 2\n",
      "the sample variance  of  [1, 5, 9, 7, 3, 2, 7, 2, 7, 7]  is  0.81\n"
     ]
    }
   ],
   "source": [
    "import math\n",
    "import random\n",
    "numbers=[]\n",
    "for i in range(0,10):\n",
    "    numbers.append(random.randrange(10))\n",
    "numbers\n",
    "c=int(input('What to calculate? 1 - the sample mean, 2 - the sample variance, 3 - the sample standart deviation '))\n",
    "res=0\n",
    "mean=0\n",
    "comm=''\n",
    "for i in numbers:\n",
    "    mean+=numbers[i]\n",
    "mean=mean/len(numbers)\n",
    "\n",
    "if c==1:\n",
    "    res=mean\n",
    "    comm='The sample mean'\n",
    "elif c==2:\n",
    "    for i in numbers:\n",
    "        res=(numbers[i]-mean)**2\n",
    "    res=res/(len(numbers)-1)\n",
    "    comm='The sample variance'\n",
    "else:\n",
    "    for i in numbers:\n",
    "        res=(numbers[i]-mean)**2\n",
    "    res=math.sqrt(res/(len(numbers)-1))\n",
    "    comm='The sample standart deviation'\n",
    "        \n",
    "    \n",
    "print(comm, ' of ', numbers, ' is ',res)"
   ]
  }
 ],
 "metadata": {
  "kernelspec": {
   "display_name": "Python 3",
   "language": "python",
   "name": "python3"
  },
  "language_info": {
   "codemirror_mode": {
    "name": "ipython",
    "version": 3
   },
   "file_extension": ".py",
   "mimetype": "text/x-python",
   "name": "python",
   "nbconvert_exporter": "python",
   "pygments_lexer": "ipython3",
   "version": "3.8.5"
  }
 },
 "nbformat": 4,
 "nbformat_minor": 4
}
