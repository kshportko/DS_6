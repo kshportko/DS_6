{
 "cells": [
  {
   "cell_type": "code",
   "execution_count": 26,
   "metadata": {},
   "outputs": [],
   "source": [
    "db={}\n",
    "with open('pricelist.txt', encoding='UTF-8') as f:\n",
    "    first_row = True\n",
    "    for string in f:\n",
    "        if first_row == False:\n",
    "            tmp = string.split('|')\n",
    "            db[tmp[0]] = tmp[1:-1] + [float(tmp[-1].rstrip(' грн\\n'))]\n",
    "        else:\n",
    "            first_row = False"
   ]
  },
  {
   "cell_type": "code",
   "execution_count": 47,
   "metadata": {},
   "outputs": [
    {
     "name": "stdout",
     "output_type": "stream",
     "text": [
      "Всього позицій:  426\n",
      "В наявності:  353\n"
     ]
    }
   ],
   "source": [
    "print('Всього позицій: ',len(db))\n",
    "i=0\n",
    "for j in (db.values()):\n",
    "    if j[1]=='В наличии':\n",
    "        i+=1\n",
    "print('В наявності: ',i)"
   ]
  },
  {
   "cell_type": "code",
   "execution_count": 43,
   "metadata": {},
   "outputs": [
    {
     "name": "stdout",
     "output_type": "stream",
     "text": [
      "['Масло Liqui Moly TOP TEC 4600 5W-30 5л', 'В наличии', 1623.0]\n"
     ]
    }
   ],
   "source": [
    "price=[]\n",
    "for j in (db.values()):\n",
    "    price.append(j[2])\n",
    "price.sort(reverse=True)\n",
    "\n",
    "for j in (db.values()):\n",
    "    if j[2]==price[0]:\n",
    "        print(j)"
   ]
  },
  {
   "cell_type": "code",
   "execution_count": 57,
   "metadata": {},
   "outputs": [
    {
     "name": "stdout",
     "output_type": "stream",
     "text": [
      "pickle (1) or json (2)? 2\n"
     ]
    }
   ],
   "source": [
    "import pickle \n",
    "import json \n",
    "choice=int(input('pickle (1) or json (2)? '))\n",
    "if choice==1:\n",
    "    with open('pricelist.pickle', 'wb') as f1:\n",
    "        pickle.dump(db, f1)\n",
    "else:\n",
    "    with open('pricelist.json', 'w') as f2:\n",
    "        json.dump(db, f2)"
   ]
  },
  {
   "cell_type": "code",
   "execution_count": 74,
   "metadata": {},
   "outputs": [
    {
     "name": "stdout",
     "output_type": "stream",
     "text": [
      "Input specification:VMP-D4-R-05\n",
      "{'part': 'VMP-D4-R-05', 'name': 'Тормозная жидкость DOT-4 ВАМП Рось Гост 0.5л', 'status': 'В наличии', 'price': 39.0}\n"
     ]
    }
   ],
   "source": [
    "import json \n",
    "with open('pricelist.json', 'r') as f:\n",
    "    res=json.load(f)\n",
    "code=str(input('Input specification:'))\n",
    "if res.get(code)!= None:\n",
    "    jsun={'part' : code, 'name' : res[code][0],  'status' : res[code][1], 'price' :res[code][2]}\n",
    "    print(jsun)\n",
    "else:\n",
    "    print('The item is not found')    "
   ]
  },
  {
   "cell_type": "code",
   "execution_count": 76,
   "metadata": {},
   "outputs": [
    {
     "name": "stdout",
     "output_type": "stream",
     "text": [
      "['Омыватель стекла летний (концентрат) яблоко 0.25л Liqui Moly', 'В наличии', 196.0]\n",
      "['Омыватель стекла летний аромат яблока 1л (концентрат) Liqui Moly', 'В наличии', 73.0]\n",
      "['Омыватель стекла летний аромат яблока 2л Liqui Moly', 'В наличии', 85.0]\n",
      "['Освежитель воздуха Areon Mon Classic аромат яблока', 'Нет в наличии', 17.0]\n",
      "['Освежитель воздуха гелевый Areon аромат яблока', 'В наличии', 35.0]\n",
      "['Освежитель воздуха ёлка (ароматизатор) Zollex аромат яблока', 'Нет в наличии', 10.0]\n"
     ]
    }
   ],
   "source": [
    "for j in (db.values()):\n",
    "    if 'ябл' in (j[0]):\n",
    "        print(j)"
   ]
  }
 ],
 "metadata": {
  "kernelspec": {
   "display_name": "Python 3",
   "language": "python",
   "name": "python3"
  },
  "language_info": {
   "codemirror_mode": {
    "name": "ipython",
    "version": 3
   },
   "file_extension": ".py",
   "mimetype": "text/x-python",
   "name": "python",
   "nbconvert_exporter": "python",
   "pygments_lexer": "ipython3",
   "version": "3.8.5"
  }
 },
 "nbformat": 4,
 "nbformat_minor": 4
}
